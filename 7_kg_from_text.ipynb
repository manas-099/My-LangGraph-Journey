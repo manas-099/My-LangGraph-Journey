{
  "nbformat": 4,
  "nbformat_minor": 0,
  "metadata": {
    "colab": {
      "provenance": []
    },
    "kernelspec": {
      "name": "python3",
      "display_name": "Python 3"
    },
    "language_info": {
      "name": "python"
    }
  },
  "cells": [
    {
      "cell_type": "code",
      "execution_count": null,
      "metadata": {
        "id": "xNmZnLfMswoD"
      },
      "outputs": [],
      "source": [
        "%pip install --upgrade langchain langchain-experimental langchain-google-genai python-dotenv pyvis"
      ]
    },
    {
      "cell_type": "code",
      "source": [
        "from langchain_google_genai import ChatGoogleGenerativeAI\n",
        "import os\n",
        "from google.colab import userdata\n",
        "\n",
        "\n",
        "os.environ['GOOGLE_API_KEY']=userdata.get(\"GOOGLE_API_KEY\")\n",
        "llm=ChatGoogleGenerativeAI(\n",
        "    model=\"gemini-2.5-flash\",\n",
        "    temperature=0\n",
        ")"
      ],
      "metadata": {
        "id": "wAWjEBGetUQL"
      },
      "execution_count": 33,
      "outputs": []
    },
    {
      "cell_type": "code",
      "source": [
        "llm.invoke(\"what is knowlede graph\")"
      ],
      "metadata": {
        "id": "fDt0OdsJvqMt",
        "outputId": "8c532601-2a74-4103-8c33-7f945c8d0f3f",
        "colab": {
          "base_uri": "https://localhost:8080/"
        }
      },
      "execution_count": 13,
      "outputs": [
        {
          "data": {
            "text/plain": [
              "AIMessage(content='A **Knowledge Graph** is a structured way to represent information about real-world entities and their relationships, in a format that is easily understandable by both humans and machines. Think of it as a highly interconnected, semantic network of facts.\\n\\nIt goes beyond traditional databases by not just storing data, but also capturing the *meaning* and *relationships* between different pieces of information.\\n\\n### Core Components of a Knowledge Graph:\\n\\n1.  **Entities (Nodes):** These are the \"things\" or \"concepts\" in the real world.\\n    *   **Examples:** People (Albert Einstein), Places (Berlin), Organizations (NASA), Events (World War II), Concepts (Relativity Theory), Products (iPhone).\\n\\n2.  **Relationships (Edges/Predicates):** These describe how entities are connected to each other. Relationships are directional.\\n    *   **Examples:** \"was born in,\" \"works for,\" \"is a type of,\" \"wrote,\" \"discovered.\"\\n\\n3.  **Attributes/Properties:** These are characteristics or facts about an entity or a relationship.\\n    *   **Examples:** For \"Albert Einstein\": Date of Birth (March 14, 1879), Nationality (German, American). For a \"wrote\" relationship: Publication Date (1905).\\n\\n### The Fundamental Building Block: The Triple\\n\\nThe most common way to represent information in a knowledge graph is through **triples**, which follow the structure:\\n\\n**(Subject, Predicate, Object)**\\n\\n*   **Subject:** An entity.\\n*   **Predicate:** A relationship.\\n*   **Object:** Another entity or a literal value (like a date or string).\\n\\n**Example Triples:**\\n\\n*   **(Albert Einstein, was born in, Ulm)**\\n*   **(Albert Einstein, discovered, Theory of Relativity)**\\n*   **(Theory of Relativity, is a type of, Scientific Theory)**\\n*   **(Ulm, is located in, Germany)**\\n*   **(Albert Einstein, date of birth, 1879-03-14)**\\n\\n### Key Characteristics and Why They\\'re Powerful:\\n\\n1.  **Semantic Meaning:** Unlike a simple graph database that just connects nodes, a knowledge graph explicitly defines the *meaning* of the nodes and edges using ontologies and schemas. This allows machines to understand the context.\\n2.  **Interconnectedness:** Everything is linked. This allows for discovering hidden relationships and patterns that might not be obvious in isolated data sets.\\n3.  **Flexibility and Extensibility:** Knowledge graphs are highly adaptable. You can easily add new entities, relationships, or even entire schemas without having to redesign the entire system (unlike rigid relational databases).\\n4.  **Contextual Understanding:** By linking disparate pieces of information, knowledge graphs provide a richer context, enabling more intelligent applications.\\n5.  **Machine Readability and Reasoning:** The structured nature allows AI algorithms to process, understand, and even infer new facts from the graph. For example, if \"Ulm is in Germany\" and \"Germany is in Europe,\" a knowledge graph can infer that \"Ulm is in Europe.\"\\n6.  **Data Integration:** They are excellent for integrating data from various, often heterogeneous, sources into a unified, coherent view.\\n\\n### Where are Knowledge Graphs Used?\\n\\n*   **Search Engines (e.g., Google\\'s Knowledge Graph):** When you search for a famous person, the info box on the side with their birth date, spouse, and related people comes from a knowledge graph. It helps search engines understand queries and provide direct answers.\\n*   **Recommendation Systems:** \"People who bought X also bought Y\" or \"Movies you might like\" often leverage knowledge graphs to understand user preferences and item relationships.\\n*   **Virtual Assistants & Chatbots (e.g., Siri, Alexa):** To understand complex queries and provide relevant answers, these systems rely on knowledge graphs to map user intent to real-world entities and facts.\\n*   **Enterprise Data Management:** Unifying disparate data silos within a large organization, making data more discoverable and usable across departments.\\n*   **Fraud Detection:** Identifying unusual patterns and connections between entities (people, accounts, transactions) that might indicate fraudulent activity.\\n*   **Healthcare & Life Sciences:** Connecting genes, diseases, drugs, symptoms, and treatments to accelerate research and improve patient care.\\n*   **Content Management & Publishing:** Organizing vast amounts of content, making it easier to navigate, personalize, and recommend.\\n\\nIn essence, a knowledge graph is a sophisticated way to organize and represent information, making it more intelligent, interconnected, and actionable for both humans and artificial intelligence.', additional_kwargs={}, response_metadata={'prompt_feedback': {'block_reason': 0, 'safety_ratings': []}, 'finish_reason': 'STOP', 'model_name': 'gemini-2.5-flash', 'safety_ratings': []}, id='run--bf76831d-1966-46df-8f67-11b18f53841d-0', usage_metadata={'input_tokens': 6, 'output_tokens': 2060, 'total_tokens': 2066, 'input_token_details': {'cache_read': 0}, 'output_token_details': {'reasoning': 1089}})"
            ]
          },
          "execution_count": 13,
          "metadata": {},
          "output_type": "execute_result"
        }
      ]
    },
    {
      "cell_type": "code",
      "source": [
        "from langchain_experimental.graph_transformers import LLMGraphTransformer\n",
        "from langchain_core.documents import Document\n",
        "\n",
        "graph_transformer=LLMGraphTransformer(llm=llm)"
      ],
      "metadata": {
        "id": "36OVhwMjuagT"
      },
      "execution_count": 14,
      "outputs": []
    },
    {
      "cell_type": "markdown",
      "source": [
        "#extract graph from text"
      ],
      "metadata": {
        "id": "F3GIni27u7mM"
      }
    },
    {
      "cell_type": "code",
      "source": [
        "data=\"\"\"Iron Man is a superhero appearing in American comic books published by Marvel Comics.\n",
        "Co-created by writer and editor Stan Lee, developed by scripter Larry Lieber, and designed by artists Don Heck and Jack Kirby,\n",
        "the character first appeared in Tales of Suspense #39 in 1962 (cover dated March 1963) and received his own title with Iron Man #1 in 1968.\n",
        " Shortly after his creation, Iron Man became a founding member of the superhero team, the Avengers, alongside Thor, Ant-Man, the Wasp, and the Hulk.\n",
        "Iron Man stories, individually and with the Avengers, have been published consistently since the character's creation.\n",
        "\"\"\""
      ],
      "metadata": {
        "id": "zCFluFjju6Pi"
      },
      "execution_count": 15,
      "outputs": []
    },
    {
      "cell_type": "code",
      "source": [
        "documents = [Document(page_content=data)]\n",
        "graph=await  graph_transformer.aconvert_to_graph_documents(documents)"
      ],
      "metadata": {
        "id": "wRCsC5mrvMRA"
      },
      "execution_count": 16,
      "outputs": []
    },
    {
      "cell_type": "code",
      "source": [
        "graph"
      ],
      "metadata": {
        "id": "UBCBU1i5valJ",
        "outputId": "6b48288f-f070-4a1e-a7db-ccb87039d128",
        "colab": {
          "base_uri": "https://localhost:8080/"
        }
      },
      "execution_count": 17,
      "outputs": [
        {
          "output_type": "execute_result",
          "data": {
            "text/plain": [
              "[GraphDocument(nodes=[Node(id='Iron Man', type='Character', properties={}), Node(id='Marvel Comics', type='Organization', properties={}), Node(id='Stan Lee', type='Person', properties={}), Node(id='Larry Lieber', type='Person', properties={}), Node(id='Don Heck', type='Person', properties={}), Node(id='Jack Kirby', type='Person', properties={}), Node(id='Tales Of Suspense #39', type='Comic book', properties={}), Node(id='1962', type='Year', properties={}), Node(id='March 1963', type='Date', properties={}), Node(id='Iron Man #1', type='Comic book', properties={}), Node(id='1968', type='Year', properties={}), Node(id='The Avengers', type='Team', properties={}), Node(id='Thor', type='Character', properties={}), Node(id='Ant-Man', type='Character', properties={}), Node(id='The Wasp', type='Character', properties={}), Node(id='The Hulk', type='Character', properties={})], relationships=[Relationship(source=Node(id='Iron Man', type='Character', properties={}), target=Node(id='Marvel Comics', type='Organization', properties={}), type='APPEARS_IN', properties={}), Relationship(source=Node(id='Iron Man', type='Character', properties={}), target=Node(id='Stan Lee', type='Person', properties={}), type='CO_CREATED_BY', properties={}), Relationship(source=Node(id='Iron Man', type='Character', properties={}), target=Node(id='Larry Lieber', type='Person', properties={}), type='DEVELOPED_BY', properties={}), Relationship(source=Node(id='Iron Man', type='Character', properties={}), target=Node(id='Don Heck', type='Person', properties={}), type='DESIGNED_BY', properties={}), Relationship(source=Node(id='Iron Man', type='Character', properties={}), target=Node(id='Jack Kirby', type='Person', properties={}), type='DESIGNED_BY', properties={}), Relationship(source=Node(id='Iron Man', type='Character', properties={}), target=Node(id='Tales Of Suspense #39', type='Comic book', properties={}), type='FIRST_APPEARANCE_IN', properties={}), Relationship(source=Node(id='Tales Of Suspense #39', type='Comic book', properties={}), target=Node(id='1962', type='Year', properties={}), type='PUBLISHED_IN', properties={}), Relationship(source=Node(id='Tales Of Suspense #39', type='Comic book', properties={}), target=Node(id='March 1963', type='Date', properties={}), type='COVER_DATE', properties={}), Relationship(source=Node(id='Iron Man', type='Character', properties={}), target=Node(id='Iron Man #1', type='Comic book', properties={}), type='RECEIVED_OWN_TITLE_WITH', properties={}), Relationship(source=Node(id='Iron Man #1', type='Comic book', properties={}), target=Node(id='1968', type='Year', properties={}), type='PUBLISHED_IN', properties={}), Relationship(source=Node(id='Iron Man', type='Character', properties={}), target=Node(id='The Avengers', type='Team', properties={}), type='MEMBER_OF', properties={}), Relationship(source=Node(id='The Avengers', type='Team', properties={}), target=Node(id='Thor', type='Character', properties={}), type='HAS_MEMBER', properties={}), Relationship(source=Node(id='The Avengers', type='Team', properties={}), target=Node(id='Ant-Man', type='Character', properties={}), type='HAS_MEMBER', properties={}), Relationship(source=Node(id='The Avengers', type='Team', properties={}), target=Node(id='The Wasp', type='Character', properties={}), type='HAS_MEMBER', properties={}), Relationship(source=Node(id='The Avengers', type='Team', properties={}), target=Node(id='The Hulk', type='Character', properties={}), type='HAS_MEMBER', properties={})], source=Document(metadata={}, page_content=\"Iron Man is a superhero appearing in American comic books published by Marvel Comics. \\nCo-created by writer and editor Stan Lee, developed by scripter Larry Lieber, and designed by artists Don Heck and Jack Kirby, \\nthe character first appeared in Tales of Suspense #39 in 1962 (cover dated March 1963) and received his own title with Iron Man #1 in 1968.\\n Shortly after his creation, Iron Man became a founding member of the superhero team, the Avengers, alongside Thor, Ant-Man, the Wasp, and the Hulk. \\nIron Man stories, individually and with the Avengers, have been published consistently since the character's creation.\\n\"))]"
            ]
          },
          "metadata": {},
          "execution_count": 17
        }
      ]
    },
    {
      "cell_type": "code",
      "source": [
        "print(f\"Nodes:{graph[0].nodes}\")\n",
        "print(f\"Relationships:{graph[0].relationships}\")"
      ],
      "metadata": {
        "id": "lXqE31jcwVlQ",
        "outputId": "8ad16d49-13f2-4222-dedb-7e8ebbb60c9f",
        "colab": {
          "base_uri": "https://localhost:8080/"
        }
      },
      "execution_count": 18,
      "outputs": [
        {
          "metadata": {
            "tags": null
          },
          "name": "stdout",
          "output_type": "stream",
          "text": [
            "Nodes:[Node(id='Iron Man', type='Character', properties={}), Node(id='Marvel Comics', type='Organization', properties={}), Node(id='Stan Lee', type='Person', properties={}), Node(id='Larry Lieber', type='Person', properties={}), Node(id='Don Heck', type='Person', properties={}), Node(id='Jack Kirby', type='Person', properties={}), Node(id='Tales Of Suspense #39', type='Comic book', properties={}), Node(id='1962', type='Year', properties={}), Node(id='March 1963', type='Date', properties={}), Node(id='Iron Man #1', type='Comic book', properties={}), Node(id='1968', type='Year', properties={}), Node(id='The Avengers', type='Team', properties={}), Node(id='Thor', type='Character', properties={}), Node(id='Ant-Man', type='Character', properties={}), Node(id='The Wasp', type='Character', properties={}), Node(id='The Hulk', type='Character', properties={})]\n",
            "Relationships:[Relationship(source=Node(id='Iron Man', type='Character', properties={}), target=Node(id='Marvel Comics', type='Organization', properties={}), type='APPEARS_IN', properties={}), Relationship(source=Node(id='Iron Man', type='Character', properties={}), target=Node(id='Stan Lee', type='Person', properties={}), type='CO_CREATED_BY', properties={}), Relationship(source=Node(id='Iron Man', type='Character', properties={}), target=Node(id='Larry Lieber', type='Person', properties={}), type='DEVELOPED_BY', properties={}), Relationship(source=Node(id='Iron Man', type='Character', properties={}), target=Node(id='Don Heck', type='Person', properties={}), type='DESIGNED_BY', properties={}), Relationship(source=Node(id='Iron Man', type='Character', properties={}), target=Node(id='Jack Kirby', type='Person', properties={}), type='DESIGNED_BY', properties={}), Relationship(source=Node(id='Iron Man', type='Character', properties={}), target=Node(id='Tales Of Suspense #39', type='Comic book', properties={}), type='FIRST_APPEARANCE_IN', properties={}), Relationship(source=Node(id='Tales Of Suspense #39', type='Comic book', properties={}), target=Node(id='1962', type='Year', properties={}), type='PUBLISHED_IN', properties={}), Relationship(source=Node(id='Tales Of Suspense #39', type='Comic book', properties={}), target=Node(id='March 1963', type='Date', properties={}), type='COVER_DATE', properties={}), Relationship(source=Node(id='Iron Man', type='Character', properties={}), target=Node(id='Iron Man #1', type='Comic book', properties={}), type='RECEIVED_OWN_TITLE_WITH', properties={}), Relationship(source=Node(id='Iron Man #1', type='Comic book', properties={}), target=Node(id='1968', type='Year', properties={}), type='PUBLISHED_IN', properties={}), Relationship(source=Node(id='Iron Man', type='Character', properties={}), target=Node(id='The Avengers', type='Team', properties={}), type='MEMBER_OF', properties={}), Relationship(source=Node(id='The Avengers', type='Team', properties={}), target=Node(id='Thor', type='Character', properties={}), type='HAS_MEMBER', properties={}), Relationship(source=Node(id='The Avengers', type='Team', properties={}), target=Node(id='Ant-Man', type='Character', properties={}), type='HAS_MEMBER', properties={}), Relationship(source=Node(id='The Avengers', type='Team', properties={}), target=Node(id='The Wasp', type='Character', properties={}), type='HAS_MEMBER', properties={}), Relationship(source=Node(id='The Avengers', type='Team', properties={}), target=Node(id='The Hulk', type='Character', properties={}), type='HAS_MEMBER', properties={})]\n"
          ]
        }
      ]
    },
    {
      "cell_type": "code",
      "source": [
        "from pyvis.network import Network\n",
        "\n",
        "def visualize_graph(graph_documents,output_file=\"knowledge_graph.html\"):\n",
        "\n",
        "    # Create network\n",
        "    net = Network(height=\"1200px\", width=\"100%\", directed=True,\n",
        "                      notebook=False, bgcolor=\"#222222\", font_color=\"white\")\n",
        "\n",
        "    nodes = graph_documents[0].nodes\n",
        "    relationships = graph_documents[0].relationships\n",
        "\n",
        "    # Build lookup for valid nodes\n",
        "    node_dict = {node.id: node for node in nodes}\n",
        "\n",
        "    # Filter out invalid edges and collect valid node IDs\n",
        "    valid_edges = []\n",
        "    valid_node_ids = set()\n",
        "    for rel in relationships:\n",
        "        if rel.source.id in node_dict and rel.target.id in node_dict:\n",
        "            valid_edges.append(rel)\n",
        "            valid_node_ids.update([rel.source.id, rel.target.id])\n",
        "    connected_node_ids = set()\n",
        "    for rel in relationships:\n",
        "        connected_node_ids.add(rel.source.id)\n",
        "        connected_node_ids.add(rel.target.id)\n",
        "\n",
        "    # Add valid nodes\n",
        "    for node_id in valid_node_ids:\n",
        "        node = node_dict[node_id]\n",
        "        try:\n",
        "            net.add_node(node.id, label=node.id, title=node.type, group=node.type)\n",
        "        except:\n",
        "            continue  # skip if error\n",
        "\n",
        "    # Add valid edges\n",
        "    for rel in valid_edges:\n",
        "        try:\n",
        "            net.add_edge(rel.source.id, rel.target.id, label=rel.type.lower())\n",
        "        except:\n",
        "            continue  # skip if error\n",
        "    # Configure physics\n",
        "    net.set_options(\"\"\"\n",
        "            {\n",
        "                \"physics\": {\n",
        "                    \"forceAtlas2Based\": {\n",
        "                        \"gravitationalConstant\": -100,\n",
        "                        \"centralGravity\": 0.01,\n",
        "                        \"springLength\": 200,\n",
        "                        \"springConstant\": 0.08\n",
        "                    },\n",
        "                    \"minVelocity\": 0.75,\n",
        "                    \"solver\": \"forceAtlas2Based\"\n",
        "                }\n",
        "            }\n",
        "            \"\"\")\n",
        "\n",
        "\n",
        "    net.save_graph(output_file)\n",
        "    print(f\"Graph saved to {os.path.abspath(output_file)}\")\n",
        "\n",
        "    # Try to open in browser\n",
        "    try:\n",
        "        import webbrowser\n",
        "        webbrowser.open(f\"file://{os.path.abspath(output_file)}\")\n",
        "    except:\n",
        "        print(\"Could not open browser automatically\")\n"
      ],
      "metadata": {
        "id": "vNMzxNF_weEN"
      },
      "execution_count": 31,
      "outputs": []
    },
    {
      "cell_type": "code",
      "source": [
        "visualize_graph(graph)"
      ],
      "metadata": {
        "id": "O85MF2pRxa3i",
        "outputId": "f4edbb24-8a88-4939-a01a-fe2adf7c4aa5",
        "colab": {
          "base_uri": "https://localhost:8080/"
        }
      },
      "execution_count": 21,
      "outputs": [
        {
          "output_type": "stream",
          "name": "stdout",
          "text": [
            "Graph saved to /content/knowledge_graph.html\n"
          ]
        }
      ]
    },
    {
      "cell_type": "markdown",
      "source": [
        "#from .txt file to kg"
      ],
      "metadata": {
        "id": "03rpVQkHyvKn"
      }
    },
    {
      "cell_type": "code",
      "source": [
        "file=\"/content/dummy_graph_data.txt\"\n",
        "\n",
        "\n",
        "with open(file,\"r\") as f:\n",
        "  data=f.read()\n"
      ],
      "metadata": {
        "id": "hV_4_lXvxtkr"
      },
      "execution_count": 25,
      "outputs": []
    },
    {
      "cell_type": "code",
      "source": [
        "print(data)"
      ],
      "metadata": {
        "id": "tzHSYV_NzmFQ",
        "outputId": "3c1125d2-9a2e-416c-af24-f2e615655951",
        "colab": {
          "base_uri": "https://localhost:8080/"
        }
      },
      "execution_count": 27,
      "outputs": [
        {
          "metadata": {
            "tags": null
          },
          "name": "stdout",
          "output_type": "stream",
          "text": [
            "Document1 -> TopicA\n",
            "Document1 -> TopicB\n",
            "Document2 -> TopicB\n",
            "Document2 -> TopicC\n",
            "Document3 -> TopicA\n",
            "Document3 -> TopicC\n",
            "TopicA -> TopicB\n",
            "TopicB -> TopicC\n",
            "TopicC -> TopicD\n",
            "\n"
          ]
        }
      ]
    },
    {
      "cell_type": "code",
      "source": [
        "document=[Document(page_content=data)]\n",
        "graph_doc=await  graph_transformer.aconvert_to_graph_documents(document)"
      ],
      "metadata": {
        "id": "IW3AymIOzr8D"
      },
      "execution_count": 29,
      "outputs": []
    },
    {
      "cell_type": "code",
      "source": [
        "graph_doc"
      ],
      "metadata": {
        "id": "BpGRsVPvz4uR",
        "outputId": "938e2fea-108d-4b59-98b6-538c0e48f60a",
        "colab": {
          "base_uri": "https://localhost:8080/"
        }
      },
      "execution_count": 30,
      "outputs": [
        {
          "output_type": "execute_result",
          "data": {
            "text/plain": [
              "[GraphDocument(nodes=[Node(id='Document1', type='Document', properties={}), Node(id='Topica', type='Topic', properties={}), Node(id='Topicb', type='Topic', properties={}), Node(id='Document2', type='Document', properties={}), Node(id='Topicc', type='Topic', properties={}), Node(id='Document3', type='Document', properties={}), Node(id='Topicd', type='Topic', properties={})], relationships=[Relationship(source=Node(id='Document1', type='Document', properties={}), target=Node(id='Topica', type='Topic', properties={}), type='RELATED_TO', properties={}), Relationship(source=Node(id='Document1', type='Document', properties={}), target=Node(id='Topicb', type='Topic', properties={}), type='RELATED_TO', properties={}), Relationship(source=Node(id='Document2', type='Document', properties={}), target=Node(id='Topicb', type='Topic', properties={}), type='RELATED_TO', properties={}), Relationship(source=Node(id='Document2', type='Document', properties={}), target=Node(id='Topicc', type='Topic', properties={}), type='RELATED_TO', properties={}), Relationship(source=Node(id='Document3', type='Document', properties={}), target=Node(id='Topica', type='Topic', properties={}), type='RELATED_TO', properties={}), Relationship(source=Node(id='Document3', type='Document', properties={}), target=Node(id='Topicc', type='Topic', properties={}), type='RELATED_TO', properties={}), Relationship(source=Node(id='Topica', type='Topic', properties={}), target=Node(id='Topicb', type='Topic', properties={}), type='RELATED_TO', properties={}), Relationship(source=Node(id='Topicb', type='Topic', properties={}), target=Node(id='Topicc', type='Topic', properties={}), type='RELATED_TO', properties={}), Relationship(source=Node(id='Topicc', type='Topic', properties={}), target=Node(id='Topicd', type='Topic', properties={}), type='RELATED_TO', properties={})], source=Document(metadata={}, page_content='Document1 -> TopicA\\nDocument1 -> TopicB\\nDocument2 -> TopicB\\nDocument2 -> TopicC\\nDocument3 -> TopicA\\nDocument3 -> TopicC\\nTopicA -> TopicB\\nTopicB -> TopicC\\nTopicC -> TopicD\\n'))]"
            ]
          },
          "metadata": {},
          "execution_count": 30
        }
      ]
    },
    {
      "cell_type": "code",
      "source": [
        "visualize_graph(graph_doc,\"output.html\")"
      ],
      "metadata": {
        "id": "pkCuwN-I0ND5",
        "outputId": "5ceb8a9b-82c1-4ffa-c5fe-8368eaa92751",
        "colab": {
          "base_uri": "https://localhost:8080/"
        }
      },
      "execution_count": 32,
      "outputs": [
        {
          "output_type": "stream",
          "name": "stdout",
          "text": [
            "Graph saved to /content/output.html\n"
          ]
        }
      ]
    },
    {
      "cell_type": "code",
      "source": [],
      "metadata": {
        "id": "RFM9gHRV0gfZ"
      },
      "execution_count": null,
      "outputs": []
    }
  ]
}