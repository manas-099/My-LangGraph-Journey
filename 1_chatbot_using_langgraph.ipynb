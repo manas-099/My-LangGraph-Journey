{
  "nbformat": 4,
  "nbformat_minor": 0,
  "metadata": {
    "colab": {
      "provenance": []
    },
    "kernelspec": {
      "name": "python3",
      "display_name": "Python 3"
    },
    "language_info": {
      "name": "python"
    }
  },
  "cells": [
    {
      "cell_type": "code",
      "execution_count": 1,
      "metadata": {
        "id": "E43bzrXuvLBK"
      },
      "outputs": [],
      "source": [
        "%%capture\n",
        "!pip install langchain_core langchain langchain_community langgraph langchain-google-genai"
      ]
    },
    {
      "cell_type": "code",
      "source": [],
      "metadata": {
        "id": "2HOiA7JEKBpq"
      },
      "execution_count": 19,
      "outputs": []
    },
    {
      "cell_type": "code",
      "source": [
        "import os\n",
        "\n",
        "os.environ[\"GOOGLE_API_KEY\"]=google_api_key"
      ],
      "metadata": {
        "id": "wSH_GfSpx-x6"
      },
      "execution_count": 2,
      "outputs": []
    },
    {
      "cell_type": "code",
      "source": [
        "from langchain_google_genai import ChatGoogleGenerativeAI\n",
        "llm=ChatGoogleGenerativeAI(\n",
        "    model=\"gemini-1.5-flash-latest\",\n",
        "    temperature=0\n",
        "    )"
      ],
      "metadata": {
        "id": "JhDA1ZMkyB9O"
      },
      "execution_count": 3,
      "outputs": []
    },
    {
      "cell_type": "code",
      "source": [
        "from typing_extensions import TypedDict\n",
        "from typing import List,Annotated\n",
        "from langchain_core.messages import BaseMessage , HumanMessage\n",
        "from langgraph.graph.message import add_messages\n",
        "from langgraph.checkpoint.memory import InMemorySaver\n",
        "\n",
        "\n",
        "\n",
        "\n",
        "class ChatState(TypedDict):\n",
        "    messages:Annotated[List[BaseMessage],add_messages]"
      ],
      "metadata": {
        "id": "bN_uxn0h-Tow"
      },
      "execution_count": 4,
      "outputs": []
    },
    {
      "cell_type": "code",
      "source": [
        "from langgraph.graph import StateGraph\n",
        "from langgraph.graph import END,START\n",
        "workflow=StateGraph(ChatState)"
      ],
      "metadata": {
        "id": "gLUIuifyz1vb"
      },
      "execution_count": 5,
      "outputs": []
    },
    {
      "cell_type": "code",
      "source": [
        "def chat_node(state:ChatState):\n",
        "  #user query or user message\n",
        "  user_message=state['messages']\n",
        "\n",
        "  #llm generate\n",
        "  response=llm.invoke(user_message)\n",
        "  #state update\n",
        "  return {\"messages\":[response]}"
      ],
      "metadata": {
        "id": "JhcbyVYa0cCd"
      },
      "execution_count": 6,
      "outputs": []
    },
    {
      "cell_type": "code",
      "source": [
        "workflow.add_node(\"chat_node\",chat_node)\n",
        "\n"
      ],
      "metadata": {
        "colab": {
          "base_uri": "https://localhost:8080/"
        },
        "id": "W8uCd0jR0C6Y",
        "outputId": "2e320ec8-603a-44c7-b8df-2c4b4e93e5c0"
      },
      "execution_count": 7,
      "outputs": [
        {
          "output_type": "execute_result",
          "data": {
            "text/plain": [
              "<langgraph.graph.state.StateGraph at 0x7b49e03d7810>"
            ]
          },
          "metadata": {},
          "execution_count": 7
        }
      ]
    },
    {
      "cell_type": "code",
      "source": [
        "workflow.add_edge(START,\"chat_node\")\n",
        "workflow.add_edge(\"chat_node\",END)"
      ],
      "metadata": {
        "colab": {
          "base_uri": "https://localhost:8080/"
        },
        "id": "Go-Pr_vN1X1c",
        "outputId": "da9b192c-5f1b-4036-9a7b-be6c3091e067"
      },
      "execution_count": 8,
      "outputs": [
        {
          "output_type": "execute_result",
          "data": {
            "text/plain": [
              "<langgraph.graph.state.StateGraph at 0x7b49e03d7810>"
            ]
          },
          "metadata": {},
          "execution_count": 8
        }
      ]
    },
    {
      "cell_type": "code",
      "source": [
        "Checkpointer=InMemorySaver()"
      ],
      "metadata": {
        "id": "xk2fxxbh87Su"
      },
      "execution_count": 9,
      "outputs": []
    },
    {
      "cell_type": "code",
      "source": [
        "chatbot=workflow.compile(checkpointer=Checkpointer)\n"
      ],
      "metadata": {
        "id": "9nzbYpHz1enW"
      },
      "execution_count": 10,
      "outputs": []
    },
    {
      "cell_type": "code",
      "source": [
        "chatbot"
      ],
      "metadata": {
        "colab": {
          "base_uri": "https://localhost:8080/",
          "height": 251
        },
        "id": "wewTr9ei1h9g",
        "outputId": "3d68e8cc-d9a0-43ab-a3ce-1ac3e751dd9d"
      },
      "execution_count": 11,
      "outputs": [
        {
          "output_type": "execute_result",
          "data": {
            "text/plain": [
              "<langgraph.graph.state.CompiledStateGraph object at 0x7b49e03f9050>"
            ],
            "image/png": "[encoded data removed]"
          },
          "metadata": {},
          "execution_count": 11
        }
      ]
    },
    {
      "cell_type": "code",
      "source": [
        "user=\"what is llm?\"\n",
        "res=chatbot.invoke({\"messages\":user})['messages'][1].content\n",
        "res"
      ],
      "metadata": {
        "colab": {
          "base_uri": "https://localhost:8080/",
          "height": 140
        },
        "id": "RCFTo-m11pkq",
        "outputId": "2d8e3915-277d-4bb3-aade-d8d1afc3860d"
      },
      "execution_count": 14,
      "outputs": [
        {
          "output_type": "execute_result",
          "data": {
            "text/plain": [
              "\"LLM stands for **Large Language Model**.  It's a type of artificial intelligence (AI) that's trained on massive amounts of text data.  This training allows it to understand, generate, and translate human language.  LLMs can perform a wide range of tasks, including:\\n\\n* **Text generation:** Writing stories, articles, summaries, code, etc.\\n* **Translation:** Converting text from one language to another.\\n* **Question answering:** Providing answers to questions based on its training data.\\n* **Chatbots:** Engaging in conversations with users.\\n* **Summarization:** Condensing large amounts of text into shorter summaries.\\n\\nEssentially, LLMs are sophisticated pattern-matching machines.  They learn statistical relationships between words and phrases in the data they're trained on, allowing them to predict the most likely next word in a sequence, and thus generate coherent and contextually relevant text.  Examples of LLMs include GPT-3, LaMDA, and PaLM.\""
            ],
            "application/vnd.google.colaboratory.intrinsic+json": {
              "type": "string"
            }
          },
          "metadata": {},
          "execution_count": 14
        }
      ]
    },
    {
      "cell_type": "code",
      "source": [
        "res=chatbot.invoke({\"messages\":HumanMessage(content=\"what is a chatbot?\")})['messages'][1].content\n",
        "res"
      ],
      "metadata": {
        "colab": {
          "base_uri": "https://localhost:8080/",
          "height": 140
        },
        "id": "CBuXZYGf2Del",
        "outputId": "3055c10e-968b-4d28-e4ce-9adaa1892440"
      },
      "execution_count": 16,
      "outputs": [
        {
          "output_type": "execute_result",
          "data": {
            "text/plain": [
              "'A chatbot is a computer program designed to simulate conversation with human users, especially over the internet.  They achieve this through artificial intelligence (AI) and natural language processing (NLP).  Chatbots can be simple, following pre-programmed rules to respond to specific keywords or phrases, or they can be sophisticated, using machine learning to understand and respond to a wider range of inputs and learn from past interactions.\\n\\nEssentially, chatbots are designed to automate conversations, providing information, assistance, or entertainment to users.  They are used in a variety of applications, including:\\n\\n* **Customer service:** Answering frequently asked questions, resolving simple issues, and guiding users to appropriate resources.\\n* **E-commerce:** Assisting with product selection, order placement, and tracking.\\n* **Education:** Providing tutoring, answering questions about course material, and offering personalized learning experiences.\\n* **Entertainment:** Engaging in casual conversation, playing games, and providing companionship.\\n* **Healthcare:** Scheduling appointments, providing basic medical information, and offering mental health support.\\n\\n\\nThe complexity and capabilities of chatbots vary greatly depending on their design and the technology used.  Some are rule-based and limited in their responses, while others are more advanced and can engage in natural, human-like conversations.'"
            ],
            "application/vnd.google.colaboratory.intrinsic+json": {
              "type": "string"
            }
          },
          "metadata": {},
          "execution_count": 16
        }
      ]
    },
    {
      "cell_type": "code",
      "source": [
        "thread_id=\"1\"\n",
        "config={\"configurable\":{\"thread_id\":thread_id}}\n",
        "response=chatbot.invoke({\"messages\":\"hi i am Manas . \"},config=config)\n",
        "response\n"
      ],
      "metadata": {
        "colab": {
          "base_uri": "https://localhost:8080/"
        },
        "id": "Q0SLrzLBBNkd",
        "outputId": "10ca8fc6-9ca2-4890-81aa-e4ca5b657bb2"
      },
      "execution_count": 12,
      "outputs": [
        {
          "output_type": "execute_result",
          "data": {
            "text/plain": [
              "{'messages': [HumanMessage(content='hi i am Manas . ', additional_kwargs={}, response_metadata={}, id='acba02fb-06c5-4fa4-b912-650b28867120'),\n",
              "  AIMessage(content=\"Hi Manas, it's nice to meet you!  How can I help you today?\", additional_kwargs={}, response_metadata={'prompt_feedback': {'block_reason': 0, 'safety_ratings': []}, 'finish_reason': 'STOP', 'model_name': 'gemini-1.5-flash-latest', 'safety_ratings': []}, id='run--fc6d1c34-f026-42d0-9e6e-dc8127e73fd6-0', usage_metadata={'input_tokens': 6, 'output_tokens': 20, 'total_tokens': 26, 'input_token_details': {'cache_read': 0}})]}"
            ]
          },
          "metadata": {},
          "execution_count": 12
        }
      ]
    },
    {
      "cell_type": "code",
      "source": [
        "thread_id=\"1\"\n",
        "config={\"configurable\":{\"thread_id\":thread_id}}\n",
        "response=chatbot.invoke({\"messages\":\"capital of india ?\"},config=config)\n",
        "response"
      ],
      "metadata": {
        "colab": {
          "base_uri": "https://localhost:8080/"
        },
        "id": "MqTzC1nTBiOV",
        "outputId": "8a629a00-788e-44ec-be68-d8e2f7d1297b"
      },
      "execution_count": 13,
      "outputs": [
        {
          "output_type": "execute_result",
          "data": {
            "text/plain": [
              "{'messages': [HumanMessage(content='hi i am Manas . ', additional_kwargs={}, response_metadata={}, id='acba02fb-06c5-4fa4-b912-650b28867120'),\n",
              "  AIMessage(content=\"Hi Manas, it's nice to meet you!  How can I help you today?\", additional_kwargs={}, response_metadata={'prompt_feedback': {'block_reason': 0, 'safety_ratings': []}, 'finish_reason': 'STOP', 'model_name': 'gemini-1.5-flash-latest', 'safety_ratings': []}, id='run--fc6d1c34-f026-42d0-9e6e-dc8127e73fd6-0', usage_metadata={'input_tokens': 6, 'output_tokens': 20, 'total_tokens': 26, 'input_token_details': {'cache_read': 0}}),\n",
              "  HumanMessage(content='capital of india ?', additional_kwargs={}, response_metadata={}, id='946dcc4b-b344-4173-ad59-80d9ad26154b'),\n",
              "  AIMessage(content='The capital of India is **New Delhi**.', additional_kwargs={}, response_metadata={'prompt_feedback': {'block_reason': 0, 'safety_ratings': []}, 'finish_reason': 'STOP', 'model_name': 'gemini-1.5-flash-latest', 'safety_ratings': []}, id='run--1dcd7ed6-3c98-41c7-80c6-dc08735380f2-0', usage_metadata={'input_tokens': 29, 'output_tokens': 10, 'total_tokens': 39, 'input_token_details': {'cache_read': 0}})]}"
            ]
          },
          "metadata": {},
          "execution_count": 13
        }
      ]
    },
    {
      "cell_type": "code",
      "source": [
        "thread_id=\"1\"\n",
        "config={\"configurable\":{\"thread_id\":thread_id}}\n",
        "response=chatbot.invoke({\"messages\":\"Do u know my name? \"},config=config)\n",
        "response"
      ],
      "metadata": {
        "colab": {
          "base_uri": "https://localhost:8080/"
        },
        "id": "nqPzdLwXBWJH",
        "outputId": "6b719421-c1a7-40a1-9260-5ebccda96d56"
      },
      "execution_count": 14,
      "outputs": [
        {
          "output_type": "execute_result",
          "data": {
            "text/plain": [
              "{'messages': [HumanMessage(content='hi i am Manas . ', additional_kwargs={}, response_metadata={}, id='acba02fb-06c5-4fa4-b912-650b28867120'),\n",
              "  AIMessage(content=\"Hi Manas, it's nice to meet you!  How can I help you today?\", additional_kwargs={}, response_metadata={'prompt_feedback': {'block_reason': 0, 'safety_ratings': []}, 'finish_reason': 'STOP', 'model_name': 'gemini-1.5-flash-latest', 'safety_ratings': []}, id='run--fc6d1c34-f026-42d0-9e6e-dc8127e73fd6-0', usage_metadata={'input_tokens': 6, 'output_tokens': 20, 'total_tokens': 26, 'input_token_details': {'cache_read': 0}}),\n",
              "  HumanMessage(content='capital of india ?', additional_kwargs={}, response_metadata={}, id='946dcc4b-b344-4173-ad59-80d9ad26154b'),\n",
              "  AIMessage(content='The capital of India is **New Delhi**.', additional_kwargs={}, response_metadata={'prompt_feedback': {'block_reason': 0, 'safety_ratings': []}, 'finish_reason': 'STOP', 'model_name': 'gemini-1.5-flash-latest', 'safety_ratings': []}, id='run--1dcd7ed6-3c98-41c7-80c6-dc08735380f2-0', usage_metadata={'input_tokens': 29, 'output_tokens': 10, 'total_tokens': 39, 'input_token_details': {'cache_read': 0}}),\n",
              "  HumanMessage(content='Do u know my name? ', additional_kwargs={}, response_metadata={}, id='27f59ae3-dc9f-42fe-80aa-1d67ec2531cd'),\n",
              "  AIMessage(content='Yes, I remember you introduced yourself as Manas.', additional_kwargs={}, response_metadata={'prompt_feedback': {'block_reason': 0, 'safety_ratings': []}, 'finish_reason': 'STOP', 'model_name': 'gemini-1.5-flash-latest', 'safety_ratings': []}, id='run--b9758fb2-b6f6-4e48-8192-b703c796bb64-0', usage_metadata={'input_tokens': 45, 'output_tokens': 11, 'total_tokens': 56, 'input_token_details': {'cache_read': 0}})]}"
            ]
          },
          "metadata": {},
          "execution_count": 14
        }
      ]
    },
    {
      "cell_type": "code",
      "source": [
        "response['messages'][-1].content"
      ],
      "metadata": {
        "colab": {
          "base_uri": "https://localhost:8080/",
          "height": 35
        },
        "id": "Q8NDstfOCZ-j",
        "outputId": "633d68c4-6590-44c0-faa4-e4aafeba8d4d"
      },
      "execution_count": 17,
      "outputs": [
        {
          "output_type": "execute_result",
          "data": {
            "text/plain": [
              "'Yes, I remember you introduced yourself as Manas.'"
            ],
            "application/vnd.google.colaboratory.intrinsic+json": {
              "type": "string"
            }
          },
          "metadata": {},
          "execution_count": 17
        }
      ]
    },
    {
      "cell_type": "code",
      "source": [
        "#chat bot\n",
        "thread_id=\"1\"\n",
        "while True:\n",
        "  user_message=input(\"user : \")\n",
        "  if user_message.strip().lower() in ['exit','q','quit','bye']:\n",
        "    config={\"configurable\":{\"thread_id\":thread_id}}\n",
        "    response=chatbot.invoke({\"messages\":\"i am quitting from this chat \"},config=config)\n",
        "    print(f\"bot : {response['messages'][-1].content}\")\n",
        "\n",
        "    break\n",
        "  config={\"configurable\":{\"thread_id\":thread_id}}\n",
        "\n",
        "  response=chatbot.invoke({\"messages\":HumanMessage(content=user_message)},config=config)\n",
        "  print(f\"bot : {response['messages'][-1].content}\")\n",
        "\n",
        ""
      ],
      "metadata": {
        "colab": {
          "base_uri": "https://localhost:8080/"
        },
        "id": "CA9ObxwG3b59",
        "outputId": "6608bfd9-858a-45af-9d23-5dfe8d54d66f"
      },
      "execution_count": 18,
      "outputs": [
        {
          "output_type": "stream",
          "name": "stdout",
          "text": [
            "user : hi i am Manas\n",
            "bot : Hi Manas!  It's good to see you again.  How are you doing today?\n",
            "user : good\n",
            "bot : That's great to hear! Is there anything I can help you with today?\n",
            "user : what is the capital of india\n",
            "bot : The capital of India is New Delhi.\n",
            "user : who is ironMan\n",
            "bot : Iron Man is a superhero appearing in comic books published by Marvel Comics.  His real name is Tony Stark, a brilliant billionaire inventor and playboy.  He created a powerful armored suit that gives him superhuman abilities and uses it to fight crime and protect the world.\n",
            "user : ohh nice\n",
            "bot : Great! Is there anything else I can help you with today, Manas?\n",
            "user : do u know my name\n",
            "bot : Yes, I remember you told me your name is Manas.\n",
            "user : can u tell what is gender\n",
            "bot : Gender is a social construct that refers to the roles, behaviors, expressions, and identities of individuals.  It's different from sex, which refers to biological traits (chromosomes, hormones, and anatomy).  While sex is typically assigned at birth, gender is something individuals identify with and express throughout their lives.  There's a wide spectrum of gender identities, including but not limited to male, female, transgender, non-binary, and genderqueer.\n",
            "user : just say what s my gender\n",
            "bot : I don't know your gender.  You haven't told me, and it's not something I can determine from our conversation.\n",
            "user : ok\n",
            "bot : Okay, is there anything else I can assist you with?\n",
            "user : q\n",
            "bot : Okay, Manas.  Have a great day!\n"
          ]
        }
      ]
    },
    {
      "cell_type": "code",
      "source": [],
      "metadata": {
        "id": "zIFe97Wp5Nde"
      },
      "execution_count": null,
      "outputs": []
    }
  ]
}