{
  "nbformat": 4,
  "nbformat_minor": 0,
  "metadata": {
    "colab": {
      "provenance": []
    },
    "kernelspec": {
      "name": "python3",
      "display_name": "Python 3"
    },
    "language_info": {
      "name": "python"
    }
  },
  "cells": [
    {
      "cell_type": "code",
      "execution_count": null,
      "metadata": {
        "id": "1unqf__DgSTw"
      },
      "outputs": [],
      "source": [
        "%%capture\n",
        "!pip install langchain langchain_core langchain_community langgraph langchain-google-genai"
      ]
    },
    {
      "cell_type": "code",
      "source": [
        "\n",
        "os.environ[\"GOOGLE_API_KEY\"]=google_api_key"
      ],
      "metadata": {
        "id": "rd2vzDYwg1Yk"
      },
      "execution_count": null,
      "outputs": []
    },
    {
      "cell_type": "code",
      "source": [
        "from langchain_google_genai import ChatGoogleGenerativeAI\n",
        "llm=ChatGoogleGenerativeAI(\n",
        "    model=\"gemini-1.5-flash-latest\",\n",
        "    temperature=0\n",
        "\n",
        ")"
      ],
      "metadata": {
        "id": "HLYzxpDtgstO"
      },
      "execution_count": null,
      "outputs": []
    },
    {
      "cell_type": "code",
      "source": [
        "llm.invoke(\"what is gen ai?\").content"
      ],
      "metadata": {
        "colab": {
          "base_uri": "https://localhost:8080/",
          "height": 140
        },
        "id": "e2bZM97khnIQ",
        "outputId": "e80f490f-1ebf-498c-9574-729cf627aae9"
      },
      "execution_count": null,
      "outputs": [
        {
          "output_type": "execute_result",
          "data": {
            "text/plain": [
              "'Gen AI, short for **generative artificial intelligence**, is a type of AI that can create new content, rather than just analyzing or classifying existing data.  This content can take many forms, including:\\n\\n* **Text:**  Writing stories, articles, poems, code, scripts, summaries, translations, etc.  Examples include ChatGPT, Bard, and Jasper.\\n* **Images:** Generating realistic or stylized images from text descriptions (prompts). Examples include DALL-E 2, Midjourney, and Stable Diffusion.\\n* **Audio:** Creating music, sound effects, and speech. Examples include Jukebox and Murf.ai.\\n* **Video:** Generating short video clips.  This is a rapidly developing area.\\n* **3D models:** Creating three-dimensional objects and scenes.\\n\\nGen AI works by learning patterns and structures from massive datasets.  It then uses this learned knowledge to generate new content that shares similar characteristics but is not a direct copy.  Different techniques are used depending on the type of content being generated, but common approaches include:\\n\\n* **Large Language Models (LLMs):**  For text generation, these models process and understand vast amounts of text data to predict the most likely next word in a sequence.\\n* **Generative Adversarial Networks (GANs):**  These involve two neural networks competing against each other – one generating content and the other evaluating its quality.\\n* **Diffusion models:** These models gradually add noise to an image or other data until it becomes pure noise, and then learn to reverse this process to generate new content from noise.\\n\\nGen AI has enormous potential across many fields, but also presents challenges related to ethical concerns, biases in training data, and the potential for misuse.'"
            ],
            "application/vnd.google.colaboratory.intrinsic+json": {
              "type": "string"
            }
          },
          "metadata": {},
          "execution_count": 4
        }
      ]
    },
    {
      "cell_type": "code",
      "source": [
        "from typing_extensions import TypedDict\n",
        "\n",
        "class State(TypedDict):\n",
        "    application:str\n",
        "    experience_level:str\n",
        "    skill_match:str\n",
        "    response:str"
      ],
      "metadata": {
        "id": "TdMtXhR2hsEG"
      },
      "execution_count": null,
      "outputs": []
    },
    {
      "cell_type": "code",
      "source": [
        "from langgraph.graph import StateGraph\n",
        "\n",
        "workflow=StateGraph(State)"
      ],
      "metadata": {
        "id": "BwMnx9bojVJv"
      },
      "execution_count": null,
      "outputs": []
    },
    {
      "cell_type": "code",
      "source": [
        "from langchain_core.prompts import ChatPromptTemplate"
      ],
      "metadata": {
        "id": "nm2qA6vflgsM"
      },
      "execution_count": null,
      "outputs": []
    },
    {
      "cell_type": "code",
      "source": [
        "def categorize_experience(state:State)->State :\n",
        "  print(\"\\n ---categorizing experience level of candidate-----\\n\")\n",
        "  prompt=ChatPromptTemplate.from_template(\n",
        "      \"Based on the following job application , categorize the candidate as 'entry-level', 'mid-level','senior-level'\"\n",
        "      \"here is the input:\"\n",
        "      \"Application:{application}\"\n",
        "  )\n",
        "  chain=prompt|llm\n",
        "  experience_level=chain.invoke({\"application\":state[\"application\"]}).content\n",
        "  print(f\"experience_level:{experience_level}\")\n",
        "  return {\"experience_level\":experience_level}\n",
        "\n",
        "def accessSkillSet(state:State)->State:\n",
        "  print(\"\\n---accessing skill set of candidate----\\n\")\n",
        "  prompt=ChatPromptTemplate.from_template(\n",
        "      \"\"\"\n",
        "      Based on the job application for python developer ,access the candidate skill set.\n",
        "      response with \"match\" or \"no-match\".no other output should be generated.only one word output should be generated.\n",
        "      here is the input application:\n",
        "      Application:{application}\n",
        "      \"\"\"\n",
        "  )\n",
        "  chain=prompt|llm\n",
        "  skill_match=chain.invoke({\"application\":state[\"application\"]}).content\n",
        "  print(f\"skill_match:{skill_match}\")\n",
        "  return {\"skill_match\":skill_match}\n",
        "\n",
        "\n",
        "def schedule_hr_interview(state: State) -> State:\n",
        "  print(\"\\nScheduling the interview : \")\n",
        "  return {\"response\" : \"Candidate has been shortlisted for an HR interview.\"}\n",
        "\n",
        "def escalate_to_recruiter(state: State) -> State:\n",
        "  print(\"Escalating to recruiter\")\n",
        "  return {\"response\" : \"Candidate has senior-level experience but doesn't match job skills.\"}\n",
        "\n",
        "def reject_application(state: State) -> State:\n",
        "  print(\"Sending rejecting email\")\n",
        "  return {\"response\" : \"Candidate doesn't meet JD and has been rejected.\"}\n"
      ],
      "metadata": {
        "id": "LKom1YGclM_J"
      },
      "execution_count": null,
      "outputs": []
    },
    {
      "cell_type": "code",
      "source": [
        "workflow.add_node(\"categorize_experience\",categorize_experience)\n"
      ],
      "metadata": {
        "colab": {
          "base_uri": "https://localhost:8080/"
        },
        "id": "bE1LfqvklBJm",
        "outputId": "63eba95e-7de6-4067-b591-535659941ca3"
      },
      "execution_count": null,
      "outputs": [
        {
          "output_type": "execute_result",
          "data": {
            "text/plain": [
              "<langgraph.graph.state.StateGraph at 0x7ac2fb0d3010>"
            ]
          },
          "metadata": {},
          "execution_count": 9
        }
      ]
    },
    {
      "cell_type": "code",
      "source": [
        "workflow.add_node(\"accessSkillSet\",accessSkillSet)\n",
        "workflow.add_node(\"schedule_hr_interview\",schedule_hr_interview)\n",
        "workflow.add_node(\"escalate_to_recruiter\",escalate_to_recruiter)\n",
        "workflow.add_node(\"reject_application\",reject_application)"
      ],
      "metadata": {
        "colab": {
          "base_uri": "https://localhost:8080/"
        },
        "id": "TfVtrhU1m-WD",
        "outputId": "8cdd0a8a-7ba5-4c84-9791-ccc589782b5f"
      },
      "execution_count": null,
      "outputs": [
        {
          "output_type": "execute_result",
          "data": {
            "text/plain": [
              "<langgraph.graph.state.StateGraph at 0x7ac2fb0d3010>"
            ]
          },
          "metadata": {},
          "execution_count": 10
        }
      ]
    },
    {
      "cell_type": "code",
      "source": [
        "def rout_app(state:State)->str:\n",
        "  if state['skill_match']==\"match\":\n",
        "    return \"schedule_hr_interview\"\n",
        "  elif state['experience_level']==\"senior-level\":\n",
        "    return \"escalate_to_recruiter\"\n",
        "  else:\n",
        "    return \"reject_application\""
      ],
      "metadata": {
        "id": "YuWOqGLQrXtw"
      },
      "execution_count": null,
      "outputs": []
    },
    {
      "cell_type": "code",
      "source": [
        "workflow.set_entry_point(\"categorize_experience\")\n",
        "workflow.add_edge(\"categorize_experience\",\"accessSkillSet\")\n",
        "workflow.add_conditional_edges(\"accessSkillSet\",rout_app)\n"
      ],
      "metadata": {
        "colab": {
          "base_uri": "https://localhost:8080/"
        },
        "id": "8oIPtOO5qId1",
        "outputId": "e86ec78d-4da9-48a1-b390-5c5dcdbbaab0"
      },
      "execution_count": null,
      "outputs": [
        {
          "output_type": "execute_result",
          "data": {
            "text/plain": [
              "<langgraph.graph.state.StateGraph at 0x7ac2fb0d3010>"
            ]
          },
          "metadata": {},
          "execution_count": 12
        }
      ]
    },
    {
      "cell_type": "code",
      "source": [
        "from langgraph.graph import END"
      ],
      "metadata": {
        "id": "cC5S5garsnZj"
      },
      "execution_count": null,
      "outputs": []
    },
    {
      "cell_type": "code",
      "source": [
        "workflow.add_edge(\"accessSkillSet\", END)\n",
        "workflow.add_edge(\"escalate_to_recruiter\", END)\n",
        "workflow.add_edge(\"reject_application\", END)\n",
        "workflow.add_edge(\"schedule_hr_interview\", END)"
      ],
      "metadata": {
        "colab": {
          "base_uri": "https://localhost:8080/"
        },
        "id": "sHrPYE1ssfKp",
        "outputId": "3b10847a-29fe-4d3f-bb90-7db2cf76b023"
      },
      "execution_count": null,
      "outputs": [
        {
          "output_type": "execute_result",
          "data": {
            "text/plain": [
              "<langgraph.graph.state.StateGraph at 0x7ac2fb0d3010>"
            ]
          },
          "metadata": {},
          "execution_count": 14
        }
      ]
    },
    {
      "cell_type": "code",
      "source": [
        "app=workflow.compile()"
      ],
      "metadata": {
        "id": "p3dk_2cys2V7"
      },
      "execution_count": null,
      "outputs": []
    },
    {
      "cell_type": "code",
      "source": [
        "from IPython.display import Image, display\n",
        "\n",
        "display(\n",
        "    Image(\n",
        "        app.get_graph().draw_mermaid_png()\n",
        "    )\n",
        ")"
      ],
      "metadata": {
        "colab": {
          "base_uri": "https://localhost:8080/",
          "height": 380
        },
        "id": "ZFc3Np86s7-k",
        "outputId": "8e0ffadd-d0b6-430d-ac42-7868cd5a3cd7"
      },
      "execution_count": null,
      "outputs": [
        {
          "output_type": "display_data",
          "data": {
            "image/png": "[encoded data removed]",
            "text/plain": [
              "<IPython.core.display.Image object>"
            ]
          },
          "metadata": {}
        }
      ]
    },
    {
      "cell_type": "code",
      "source": [
        "def run_candidate_screening(application: str):\n",
        "  results = app.invoke({\"application\" : application})\n",
        "  return {\n",
        "      \"experience_level\" : results[\"experience_level\"],\n",
        "      \"skill_match\" : results[\"skill_match\"],\n",
        "      \"response\" : results[\"response\"]\n",
        "  }"
      ],
      "metadata": {
        "id": "gLaEURubs-d8"
      },
      "execution_count": null,
      "outputs": []
    },
    {
      "cell_type": "code",
      "source": [
        "application_text = \"I have 10 years of experience in software engineering with expertise in JAVA\"\n",
        "results = run_candidate_screening(application_text)\n",
        "print(\"\\n\\nComputed Results :\")\n",
        "print(f\"Application: {application_text}\")\n",
        "print(f\"Experience Level: {results['experience_level']}\")\n",
        "print(f\"Skill Match: {results['skill_match']}\")\n",
        "print(f\"Response: {results['response']}\")"
      ],
      "metadata": {
        "colab": {
          "base_uri": "https://localhost:8080/"
        },
        "id": "f1kLRhQhuTqS",
        "outputId": "4b0c2b5a-6b8d-413f-cd57-0acc959328b0"
      },
      "execution_count": null,
      "outputs": [
        {
          "output_type": "stream",
          "name": "stdout",
          "text": [
            "\n",
            " ---categorizing experience level of candidate-----\n",
            "\n",
            "experience_level:Senior-level\n",
            "\n",
            "---accessing skill set of candidate----\n",
            "\n",
            "skill_match:no-match\n",
            "Sending rejecting email\n",
            "\n",
            "\n",
            "Computed Results :\n",
            "Application: I have 10 years of experience in software engineering with expertise in JAVA\n",
            "Experience Level: Senior-level\n",
            "Skill Match: no-match\n",
            "Response: Candidate doesn't meet JD and has been rejected.\n"
          ]
        }
      ]
    },
    {
      "cell_type": "code",
      "source": [
        "application_text = \"I have experience in software engineering with expertise in Python\"\n",
        "results = run_candidate_screening(application_text)\n",
        "print(\"\\n\\nComputed Results :\")\n",
        "print(f\"Application: {application_text}\")\n",
        "print(f\"Experience Level: {results['experience_level']}\")\n",
        "print(f\"Skill Match: {results['skill_match']}\")\n",
        "print(f\"Response: {results['response']}\")"
      ],
      "metadata": {
        "colab": {
          "base_uri": "https://localhost:8080/"
        },
        "id": "EJ3vU2I_uUbd",
        "outputId": "1a20c6ad-d2bc-4ed0-a22c-5a813a6cdfb6"
      },
      "execution_count": null,
      "outputs": [
        {
          "output_type": "stream",
          "name": "stdout",
          "text": [
            "\n",
            " ---categorizing experience level of candidate-----\n",
            "\n",
            "experience_level:Based solely on \"I have experience in software engineering with expertise in Python,\" the candidate should be categorized as **mid-level**.  While \"experience\" is vague,  \"expertise\" suggests more than entry-level knowledge.  Senior-level roles typically require significantly more experience and a broader skillset.\n",
            "\n",
            "---accessing skill set of candidate----\n",
            "\n",
            "skill_match:match\n",
            "\n",
            "Scheduling the interview : \n",
            "\n",
            "\n",
            "Computed Results :\n",
            "Application: I have experience in software engineering with expertise in Python\n",
            "Experience Level: Based solely on \"I have experience in software engineering with expertise in Python,\" the candidate should be categorized as **mid-level**.  While \"experience\" is vague,  \"expertise\" suggests more than entry-level knowledge.  Senior-level roles typically require significantly more experience and a broader skillset.\n",
            "Skill Match: match\n",
            "Response: Candidate has been shortlisted for an HR interview.\n"
          ]
        }
      ]
    },
    {
      "cell_type": "code",
      "source": [],
      "metadata": {
        "id": "D-Aq9NpVvaHP"
      },
      "execution_count": null,
      "outputs": []
    }
  ]
}