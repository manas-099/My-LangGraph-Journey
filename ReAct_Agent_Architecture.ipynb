{
  "cells": [
    {
      "cell_type": "code",
      "execution_count": 40,
      "metadata": {
        "id": "1O-5_FdBhumQ"
      },
      "outputs": [],
      "source": [
        "%%capture\n",
        "!pip install langchain_core langchain langchain_community langgraph langchain-google-genai"
      ]
    },
    {
      "cell_type": "code",
      "execution_count": null,
      "metadata": {
        "id": "iLl1VfVWh8OE"
      },
      "outputs": [],
      "source": [
        "import os\n",
        "\n",
        "\n",
        "os.environ[\"GOOGLE_API_KEY\"]=google_api_key"
      ]
    },
    {
      "cell_type": "code",
      "execution_count": 42,
      "metadata": {
        "id": "s1U2fCggkR0C"
      },
      "outputs": [],
      "source": [
        "from langchain_google_genai import ChatGoogleGenerativeAI\n",
        "llm=ChatGoogleGenerativeAI(\n",
        "    model=\"gemini-1.5-flash-latest\",\n",
        "    temperature=0.2\n",
        ")"
      ]
    },
    {
      "cell_type": "code",
      "execution_count": 43,
      "metadata": {
        "id": "xxCb5GBb6VEr"
      },
      "outputs": [],
      "source": [
        "\n",
        "LANGSMITH_API_KEY=\"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\"\n",
        "os.environ[\"LANGCHAIN_TRACING_V2\"] = \"true\"\n",
        "# os.environ[\"LANGCHAIN_ENDPOINT\"] = \"https://api.smith.langchain.com\"\n",
        "os.environ[\"LANGCHAIN_API_KEY\"] = LANGSMITH_API_KEY"
      ]
    },
    {
      "cell_type": "code",
      "execution_count": null,
      "metadata": {
        "id": "A_Pu_G71mIn2"
      },
      "outputs": [],
      "source": [
        "\n",
        "os.environ[\"TAVILY_API_KEY\"] = \"\""
      ]
    },
    {
      "cell_type": "code",
      "execution_count": 45,
      "metadata": {
        "colab": {
          "base_uri": "https://localhost:8080/"
        },
        "id": "YQQF_V0lmoIE",
        "outputId": "76ffc3e7-37d8-463e-a968-985ec21c1470"
      },
      "outputs": [
        {
          "data": {
            "text/plain": [
              "<langgraph.graph.state.StateGraph at 0x7f460c29e310>"
            ]
          },
          "execution_count": 45,
          "metadata": {},
          "output_type": "execute_result"
        }
      ],
      "source": [
        "from langgraph.graph import START, END ,StateGraph\n",
        "from typing_extensions import TypedDict\n",
        "from typing import List, Dict, Any,Annotated\n",
        "from langgraph.graph import add_messages\n",
        "from langchain_community.tools.tavily_search import TavilySearchResults\n",
        "from langchain.tools import tool\n",
        "from langgraph.prebuilt import ToolNode,tools_condition\n",
        "\n",
        "class State(TypedDict):\n",
        "  messages: Annotated[List[str],add_messages]\n",
        "\n",
        "workflow=StateGraph(State)\n",
        "\n",
        "\n",
        "web_tool= TavilySearchResults(max_results=2)\n",
        "\n",
        "\n",
        "@tool\n",
        "def multiply(a:int,b:int)->int:\n",
        "    \"\"\"Multiply a and b\n",
        "\n",
        "    Args:\n",
        "        a (int): first int\n",
        "        b (int): second int\n",
        "\n",
        "    Returns:\n",
        "        int: output int\n",
        "    \"\"\"\n",
        "    return a*b\n",
        "\n",
        "@tool\n",
        "def divide_numbers(a: float, b: float) -> float:\n",
        "    \"\"\"Divides a by b.\n",
        "\n",
        "    Args:\n",
        "        a: The numerator.\n",
        "        b: The denominator.\n",
        "\n",
        "    Returns:\n",
        "        The result of a / b.\n",
        "\n",
        "    Raises:\n",
        "        ValueError: If b is zero.\n",
        "    \"\"\"\n",
        "    if b == 0:\n",
        "        raise ValueError(\"Cannot divide by zero\")\n",
        "    return a / b\n",
        "\n",
        "tools=[web_tool,divide_numbers,multiply]\n",
        "llm_with_tool=llm.bind_tools(tools)\n",
        "def chat(state:State)->State:\n",
        "  user_messages=state['messages']\n",
        "  response=llm_with_tool.invoke(user_messages)\n",
        "  return ({\"messages\":[response]})\n",
        "\n",
        "\n",
        "tool_node=ToolNode(tools)\n",
        "\n",
        "workflow.add_node(\"chat\",chat)\n",
        "workflow.add_node(\"tools\",tool_node)\n",
        "\n",
        "workflow.add_edge(START,\"chat\")\n",
        "workflow.add_conditional_edges(\n",
        "    \"chat\",\n",
        "    tools_condition\n",
        ")\n",
        "\n",
        "workflow.add_edge(\"tools\",\"chat\")"
      ]
    },
    {
      "cell_type": "code",
      "execution_count": 46,
      "metadata": {
        "id": "4l6jIbGxlXKx"
      },
      "outputs": [],
      "source": [
        "\n",
        "bot=workflow.compile()"
      ]
    },
    {
      "cell_type": "code",
      "execution_count": 47,
      "metadata": {
        "colab": {
          "base_uri": "https://localhost:8080/",
          "height": 266
        },
        "id": "C4i_EtJangS9",
        "outputId": "9bf2c11b-4618-4913-c659-75507c88482b"
      },
      "outputs": [
        {
          "data": {
            "image/png": "[encoded data removed]",
            "text/plain": [
              "<langgraph.graph.state.CompiledStateGraph object at 0x7f460c0c7750>"
            ]
          },
          "execution_count": 47,
          "metadata": {},
          "output_type": "execute_result"
        }
      ],
      "source": [
        "bot"
      ]
    },
    {
      "cell_type": "code",
      "execution_count": 21,
      "metadata": {
        "colab": {
          "base_uri": "https://localhost:8080/"
        },
        "id": "iQIhjBxsld0A",
        "outputId": "5ddeef0f-f1e1-46a0-d651-533a74906c97"
      },
      "outputs": [
        {
          "data": {
            "text/plain": [
              "{'messages': [HumanMessage(content='what is the latest new about AI aand Devide 100 by 20', additional_kwargs={}, response_metadata={}, id='6763de11-9ebe-4c30-b333-33ae1fa0008f'),\n",
              "  AIMessage(content='', additional_kwargs={'function_call': {'name': 'divide_numbers', 'arguments': '{\"a\": 100.0, \"b\": 20.0}'}}, response_metadata={'prompt_feedback': {'block_reason': 0, 'safety_ratings': []}, 'finish_reason': 'STOP', 'model_name': 'gemini-1.5-flash-latest', 'safety_ratings': []}, id='run--4c039b9f-f497-4f14-86c0-ba59bc1574d8-0', tool_calls=[{'name': 'tavily_search_results_json', 'args': {'query': 'latest news about AI'}, 'id': '6efa6f18-b529-4222-ba89-dca14b0298a2', 'type': 'tool_call'}, {'name': 'divide_numbers', 'args': {'a': 100.0, 'b': 20.0}, 'id': '67450f7f-fe3e-4263-abc5-05cf3bdf3c67', 'type': 'tool_call'}], usage_metadata={'input_tokens': 127, 'output_tokens': 20, 'total_tokens': 147, 'input_token_details': {'cache_read': 0}}),\n",
              "  ToolMessage(content='[{\"title\": \"AI News & Artificial Intelligence\", \"url\": \"https://techcrunch.com/category/artificial-intelligence/\", \"content\": \"Contact Us\\\\n\\\\n# AI\\\\n\\\\nNews coverage on artificial intelligence and machine learning tech, the companies building them, and the ethical issues AI raises today. This encompasses generative AI, including large language models, text-to-image and text-to-video models; speech recognition and generation; and predictive analytics.\\\\n\\\\n### \\\\n\\\\nSam Altman\\\\n\\\\n### ChatGPT’s model picker is back, and it’s complicated\\\\n\\\\nAn illustration of Sam Altman in front of the OpenAI logo [...] ### Topics\\\\n\\\\nLatest\\\\n\\\\nAI\\\\n\\\\nAmazon\\\\n\\\\nApps\\\\n\\\\nBiotech & Health\\\\n\\\\nClimate\\\\n\\\\nCloud Computing\\\\n\\\\nCommerce\\\\n\\\\nCrypto\\\\n\\\\nEnterprise\\\\n\\\\nEVs\\\\n\\\\nFintech\\\\n\\\\nFundraising\\\\n\\\\nGadgets\\\\n\\\\nGaming\\\\n\\\\nGoogle\\\\n\\\\nGovernment & Policy\\\\n\\\\nHardware\\\\n\\\\nInstagram\\\\n\\\\nLayoffs\\\\n\\\\nMedia & Entertainment\\\\n\\\\nMeta\\\\n\\\\nMicrosoft\\\\n\\\\nPrivacy\\\\n\\\\nRobotics\\\\n\\\\nSecurity\\\\n\\\\nSocial\\\\n\\\\nSpace\\\\n\\\\nStartups\\\\n\\\\nTikTok\\\\n\\\\nTransportation\\\\n\\\\nVenture\\\\n\\\\n### More from TechCrunch\\\\n\\\\nStaff\\\\n\\\\nEvents\\\\n\\\\nStartup Battlefield\\\\n\\\\nStrictlyVC\\\\n\\\\nNewsletters\\\\n\\\\nPodcasts\\\\n\\\\nVideos\\\\n\\\\nPartner Content\\\\n\\\\nTechCrunch Brand Studio\\\\n\\\\nCrunchboard [...] ### Sam Altman, OpenAI will reportedly back a startup that takes on Musk’s Neuralink\\\\n\\\\nCharacter.AI screenshot\\\\n\\\\n### AI companion apps on track to pull in $120M in 2025\\\\n\\\\nDavid Petrou\\\\n\\\\n### Google vet raises $8M for Continua to bring AI agents to group chats\\\\n\\\\nAravind Srinivas, Co-Founder & CEO of Perplexity, speaks onstage during TechCrunch Disrupt 2024 in San Francisco, California.\\\\n\\\\n### Perplexity offers to buy Chrome for billions more than it’s raised\", \"score\": 0.70263255}, {\"title\": \"Advancements in AI and Machine Learning\", \"url\": \"https://ep.jhu.edu/news/advancements-in-ai-and-machine-learning/\", \"content\": \"Today, AI has been seamlessly integrated into everyday life. Advances in ML, natural language processing (NLP), and computer vision have enabled AI to perform ever-more complex tasks such as diagnosing medical conditions, powering autonomous vehicles, and personalizing user experiences in digital platforms.\\\\n\\\\nAs AI’s evolution continues, we can expect it to further revolutionize the world through even greater efficiency and new avenues for technological development. [...] The field of generative AI has seen remarkable progress, particularly with the development of advanced Large Language Models (LLMs). Meta’s recent release of Llama 4 includes models like Scout and Maverick that are designed to handle politically and socially contentious questions more effectively than their predecessors. They demonstrate reduced political bias and can process diverse data types, including text, video, images, and audio. \\u200b [...] AI algorithms process vast datasets to provide insights that support strategic planning and resource allocation to streamline decision-making. This allows engineers to focus more on innovation and complex problem-solving.\\\\n\\\\n## Recent Advancements in AI and Machine Learning\\\\n\\\\nThe advancements in AI and ML have exponentially enhanced applications across multiple sectors. Here’s how AI and ML have changed various industries.\\\\n\\\\n### Breakthroughs in Generative AI and Large Language Models\", \"score\": 0.6063825}]', name='tavily_search_results_json', id='5f512317-4cc6-44ed-9826-517c72f21a80', tool_call_id='6efa6f18-b529-4222-ba89-dca14b0298a2', artifact={'query': 'latest news about AI', 'follow_up_questions': None, 'answer': None, 'images': [], 'results': [{'url': 'https://techcrunch.com/category/artificial-intelligence/', 'title': 'AI News & Artificial Intelligence', 'content': 'Contact Us\\n\\n# AI\\n\\nNews coverage on artificial intelligence and machine learning tech, the companies building them, and the ethical issues AI raises today. This encompasses generative AI, including large language models, text-to-image and text-to-video models; speech recognition and generation; and predictive analytics.\\n\\n### \\n\\nSam Altman\\n\\n### ChatGPT’s model picker is back, and it’s complicated\\n\\nAn illustration of Sam Altman in front of the OpenAI logo [...] ### Topics\\n\\nLatest\\n\\nAI\\n\\nAmazon\\n\\nApps\\n\\nBiotech & Health\\n\\nClimate\\n\\nCloud Computing\\n\\nCommerce\\n\\nCrypto\\n\\nEnterprise\\n\\nEVs\\n\\nFintech\\n\\nFundraising\\n\\nGadgets\\n\\nGaming\\n\\nGoogle\\n\\nGovernment & Policy\\n\\nHardware\\n\\nInstagram\\n\\nLayoffs\\n\\nMedia & Entertainment\\n\\nMeta\\n\\nMicrosoft\\n\\nPrivacy\\n\\nRobotics\\n\\nSecurity\\n\\nSocial\\n\\nSpace\\n\\nStartups\\n\\nTikTok\\n\\nTransportation\\n\\nVenture\\n\\n### More from TechCrunch\\n\\nStaff\\n\\nEvents\\n\\nStartup Battlefield\\n\\nStrictlyVC\\n\\nNewsletters\\n\\nPodcasts\\n\\nVideos\\n\\nPartner Content\\n\\nTechCrunch Brand Studio\\n\\nCrunchboard [...] ### Sam Altman, OpenAI will reportedly back a startup that takes on Musk’s Neuralink\\n\\nCharacter.AI screenshot\\n\\n### AI companion apps on track to pull in $120M in 2025\\n\\nDavid Petrou\\n\\n### Google vet raises $8M for Continua to bring AI agents to group chats\\n\\nAravind Srinivas, Co-Founder & CEO of Perplexity, speaks onstage during TechCrunch Disrupt 2024 in San Francisco, California.\\n\\n### Perplexity offers to buy Chrome for billions more than it’s raised', 'score': 0.70263255, 'raw_content': None}, {'url': 'https://ep.jhu.edu/news/advancements-in-ai-and-machine-learning/', 'title': 'Advancements in AI and Machine Learning', 'content': 'Today, AI has been seamlessly integrated into everyday life. Advances in ML, natural language processing (NLP), and computer vision have enabled AI to perform ever-more complex tasks such as diagnosing medical conditions, powering autonomous vehicles, and personalizing user experiences in digital platforms.\\n\\nAs AI’s evolution continues, we can expect it to further revolutionize the world through even greater efficiency and new avenues for technological development. [...] The field of generative AI has seen remarkable progress, particularly with the development of advanced Large Language Models (LLMs). Meta’s recent release of Llama 4 includes models like Scout and Maverick that are designed to handle politically and socially contentious questions more effectively than their predecessors. They demonstrate reduced political bias and can process diverse data types, including text, video, images, and audio. \\u200b [...] AI algorithms process vast datasets to provide insights that support strategic planning and resource allocation to streamline decision-making. This allows engineers to focus more on innovation and complex problem-solving.\\n\\n## Recent Advancements in AI and Machine Learning\\n\\nThe advancements in AI and ML have exponentially enhanced applications across multiple sectors. Here’s how AI and ML have changed various industries.\\n\\n### Breakthroughs in Generative AI and Large Language Models', 'score': 0.6063825, 'raw_content': None}], 'response_time': 2.25}),\n",
              "  ToolMessage(content='5.0', name='divide_numbers', id='d7a0ce25-f0bb-4b19-9833-d2f3f547d1d2', tool_call_id='67450f7f-fe3e-4263-abc5-05cf3bdf3c67'),\n",
              "  AIMessage(content=\"Here's a summary of the latest AI news based on the provided search results:\\n\\nThere are several news stories about AI, including advancements in generative AI and large language models (LLMs).  One article mentions Meta's release of Llama 4, highlighting improvements in handling politically and socially sensitive topics.  Another article discusses the use of AI in various sectors, such as healthcare and autonomous vehicles.  There's also news about Sam Altman and OpenAI, including a report that they will back a startup competing with Neuralink.  Finally, there's mention of AI companion apps projected to generate significant revenue in the coming years.\\n\\n\\nAdditionally, 100 divided by 20 is 5.\", additional_kwargs={}, response_metadata={'prompt_feedback': {'block_reason': 0, 'safety_ratings': []}, 'finish_reason': 'STOP', 'model_name': 'gemini-1.5-flash-latest', 'safety_ratings': []}, id='run--41594975-21d8-4288-924b-474674b8f3d6-0', usage_metadata={'input_tokens': 794, 'output_tokens': 146, 'total_tokens': 940, 'input_token_details': {'cache_read': 0}})]}"
            ]
          },
          "execution_count": 21,
          "metadata": {},
          "output_type": "execute_result"
        }
      ],
      "source": [
        "user=\"what is the latest new about AI aand Devide 100 by 20\"\n",
        "res=bot.invoke({\"messages\":user})\n",
        "res"
      ]
    },
    {
      "cell_type": "code",
      "execution_count": 22,
      "metadata": {
        "colab": {
          "base_uri": "https://localhost:8080/"
        },
        "id": "LFGJtc6KmZ-j",
        "outputId": "b7b34cea-a0df-4585-a598-252eef359d0a"
      },
      "outputs": [
        {
          "name": "stdout",
          "output_type": "stream",
          "text": [
            "================================\u001b[1m Human Message \u001b[0m=================================\n",
            "\n",
            "what is the latest new about AI aand Devide 100 by 20\n",
            "==================================\u001b[1m Ai Message \u001b[0m==================================\n",
            "Tool Calls:\n",
            "  tavily_search_results_json (6efa6f18-b529-4222-ba89-dca14b0298a2)\n",
            " Call ID: 6efa6f18-b529-4222-ba89-dca14b0298a2\n",
            "  Args:\n",
            "    query: latest news about AI\n",
            "  divide_numbers (67450f7f-fe3e-4263-abc5-05cf3bdf3c67)\n",
            " Call ID: 67450f7f-fe3e-4263-abc5-05cf3bdf3c67\n",
            "  Args:\n",
            "    a: 100.0\n",
            "    b: 20.0\n",
            "=================================\u001b[1m Tool Message \u001b[0m=================================\n",
            "Name: tavily_search_results_json\n",
            "\n",
            "[{\"title\": \"AI News & Artificial Intelligence\", \"url\": \"https://techcrunch.com/category/artificial-intelligence/\", \"content\": \"Contact Us\\n\\n# AI\\n\\nNews coverage on artificial intelligence and machine learning tech, the companies building them, and the ethical issues AI raises today. This encompasses generative AI, including large language models, text-to-image and text-to-video models; speech recognition and generation; and predictive analytics.\\n\\n### \\n\\nSam Altman\\n\\n### ChatGPT’s model picker is back, and it’s complicated\\n\\nAn illustration of Sam Altman in front of the OpenAI logo [...] ### Topics\\n\\nLatest\\n\\nAI\\n\\nAmazon\\n\\nApps\\n\\nBiotech & Health\\n\\nClimate\\n\\nCloud Computing\\n\\nCommerce\\n\\nCrypto\\n\\nEnterprise\\n\\nEVs\\n\\nFintech\\n\\nFundraising\\n\\nGadgets\\n\\nGaming\\n\\nGoogle\\n\\nGovernment & Policy\\n\\nHardware\\n\\nInstagram\\n\\nLayoffs\\n\\nMedia & Entertainment\\n\\nMeta\\n\\nMicrosoft\\n\\nPrivacy\\n\\nRobotics\\n\\nSecurity\\n\\nSocial\\n\\nSpace\\n\\nStartups\\n\\nTikTok\\n\\nTransportation\\n\\nVenture\\n\\n### More from TechCrunch\\n\\nStaff\\n\\nEvents\\n\\nStartup Battlefield\\n\\nStrictlyVC\\n\\nNewsletters\\n\\nPodcasts\\n\\nVideos\\n\\nPartner Content\\n\\nTechCrunch Brand Studio\\n\\nCrunchboard [...] ### Sam Altman, OpenAI will reportedly back a startup that takes on Musk’s Neuralink\\n\\nCharacter.AI screenshot\\n\\n### AI companion apps on track to pull in $120M in 2025\\n\\nDavid Petrou\\n\\n### Google vet raises $8M for Continua to bring AI agents to group chats\\n\\nAravind Srinivas, Co-Founder & CEO of Perplexity, speaks onstage during TechCrunch Disrupt 2024 in San Francisco, California.\\n\\n### Perplexity offers to buy Chrome for billions more than it’s raised\", \"score\": 0.70263255}, {\"title\": \"Advancements in AI and Machine Learning\", \"url\": \"https://ep.jhu.edu/news/advancements-in-ai-and-machine-learning/\", \"content\": \"Today, AI has been seamlessly integrated into everyday life. Advances in ML, natural language processing (NLP), and computer vision have enabled AI to perform ever-more complex tasks such as diagnosing medical conditions, powering autonomous vehicles, and personalizing user experiences in digital platforms.\\n\\nAs AI’s evolution continues, we can expect it to further revolutionize the world through even greater efficiency and new avenues for technological development. [...] The field of generative AI has seen remarkable progress, particularly with the development of advanced Large Language Models (LLMs). Meta’s recent release of Llama 4 includes models like Scout and Maverick that are designed to handle politically and socially contentious questions more effectively than their predecessors. They demonstrate reduced political bias and can process diverse data types, including text, video, images, and audio. ​ [...] AI algorithms process vast datasets to provide insights that support strategic planning and resource allocation to streamline decision-making. This allows engineers to focus more on innovation and complex problem-solving.\\n\\n## Recent Advancements in AI and Machine Learning\\n\\nThe advancements in AI and ML have exponentially enhanced applications across multiple sectors. Here’s how AI and ML have changed various industries.\\n\\n### Breakthroughs in Generative AI and Large Language Models\", \"score\": 0.6063825}]\n",
            "=================================\u001b[1m Tool Message \u001b[0m=================================\n",
            "Name: divide_numbers\n",
            "\n",
            "5.0\n",
            "==================================\u001b[1m Ai Message \u001b[0m==================================\n",
            "\n",
            "Here's a summary of the latest AI news based on the provided search results:\n",
            "\n",
            "There are several news stories about AI, including advancements in generative AI and large language models (LLMs).  One article mentions Meta's release of Llama 4, highlighting improvements in handling politically and socially sensitive topics.  Another article discusses the use of AI in various sectors, such as healthcare and autonomous vehicles.  There's also news about Sam Altman and OpenAI, including a report that they will back a startup competing with Neuralink.  Finally, there's mention of AI companion apps projected to generate significant revenue in the coming years.\n",
            "\n",
            "\n",
            "Additionally, 100 divided by 20 is 5.\n"
          ]
        }
      ],
      "source": [
        "for m in res['messages']:\n",
        "    m.pretty_print()"
      ]
    },
    {
      "cell_type": "code",
      "execution_count": 48,
      "metadata": {
        "id": "257pns1Fm4zn"
      },
      "outputs": [],
      "source": [
        "user=\"what is the latest new about AI aand Devide 100 by 20 then multiply 5 with 10 \"\n",
        "res=bot.invoke({\"messages\":user})\n"
      ]
    },
    {
      "cell_type": "code",
      "execution_count": 49,
      "metadata": {
        "colab": {
          "base_uri": "https://localhost:8080/"
        },
        "id": "uf1JhsL1oEGv",
        "outputId": "bb8a1434-b299-4084-a1cf-422a9225a8f8"
      },
      "outputs": [
        {
          "name": "stdout",
          "output_type": "stream",
          "text": [
            "================================\u001b[1m Human Message \u001b[0m=================================\n",
            "\n",
            "what is the latest new about AI aand Devide 100 by 20 then multiply 5 with 10 \n",
            "==================================\u001b[1m Ai Message \u001b[0m==================================\n",
            "Tool Calls:\n",
            "  divide_numbers (2ea37855-0d10-4039-8049-2b256d80cee6)\n",
            " Call ID: 2ea37855-0d10-4039-8049-2b256d80cee6\n",
            "  Args:\n",
            "    a: 100.0\n",
            "    b: 20.0\n",
            "  multiply (db8eb1e7-3ea0-4656-867d-6debe1b9fbbb)\n",
            " Call ID: db8eb1e7-3ea0-4656-867d-6debe1b9fbbb\n",
            "  Args:\n",
            "    a: 5.0\n",
            "    b: 10.0\n",
            "  tavily_search_results_json (6458e0b6-e58d-4306-be54-574d352201ff)\n",
            " Call ID: 6458e0b6-e58d-4306-be54-574d352201ff\n",
            "  Args:\n",
            "    query: latest news about AI\n",
            "=================================\u001b[1m Tool Message \u001b[0m=================================\n",
            "Name: divide_numbers\n",
            "\n",
            "5.0\n",
            "=================================\u001b[1m Tool Message \u001b[0m=================================\n",
            "Name: multiply\n",
            "\n",
            "50\n",
            "=================================\u001b[1m Tool Message \u001b[0m=================================\n",
            "Name: tavily_search_results_json\n",
            "\n",
            "[{\"title\": \"Artificial Intelligence News -- ScienceDaily\", \"url\": \"https://www.sciencedaily.com/news/computers_math/artificial_intelligence/\", \"content\": \"ScienceDaily\\n\\n# Artificial Intelligence News\\n\\n## Top Headlines\\n\\n## Latest Headlines\\n\\n## Earlier Headlines\\n\\n### Tuesday, May 27, 2025\\n\\n### Thursday, May 22, 2025\\n\\n### Wednesday, May 21, 2025\\n\\n### Monday, May 19, 2025\\n\\n### Thursday, May 15, 2025\\n\\n### Wednesday, May 14, 2025\\n\\n### Tuesday, May 13, 2025\\n\\n### Monday, May 12, 2025\\n\\n### Thursday, May 8, 2025\\n\\n### Wednesday, May 7, 2025\\n\\n### Tuesday, May 6, 2025\\n\\n### Monday, May 5, 2025\\n\\n### Thursday, May 1, 2025\\n\\n### Wednesday, April 30, 2025 [...] ### Monday, April 28, 2025\\n\\n### Friday, April 25, 2025\\n\\n### Thursday, April 24, 2025\\n\\n### Wednesday, April 23, 2025\\n\\n### Tuesday, April 22, 2025\\n\\n### Monday, April 21, 2025\\n\\n### Wednesday, April 16, 2025\\n\\n### Tuesday, April 15, 2025\\n\\n### Monday, April 14, 2025\\n\\n### Thursday, April 10, 2025\\n\\n### Wednesday, April 9, 2025\\n\\n### Tuesday, April 8, 2025\\n\\n### Monday, April 7, 2025\\n\\n### Friday, April 4, 2025\\n\\n### Thursday, April 3, 2025\\n\\n### Wednesday, April 2, 2025\\n\\n### Monday, March 31, 2025 [...] ### Friday, March 28, 2025\\n\\n### Thursday, March 27, 2025\\n\\n### Wednesday, March 26, 2025\\n\\n### Tuesday, March 25, 2025\\n\\n### Thursday, March 20, 2025\\n\\n### Wednesday, March 19, 2025\\n\\n### Tuesday, March 18, 2025\\n\\n## Breaking\\n\\n## Trending Topics\\n\\n## Strange & Offbeat\\n\\nStay informed with ScienceDaily's free email newsletter, updated daily and weekly. Or view our many newsfeeds in your RSS reader:\\n\\nKeep up to date with the latest news from ScienceDaily via social networks:\", \"score\": 0.8095324}, {\"title\": \"AI News & Artificial Intelligence - TechCrunch\", \"url\": \"https://techcrunch.com/category/artificial-intelligence/\", \"content\": \"Contact Us\\n\\n# AI\\n\\nNews coverage on artificial intelligence and machine learning tech, the companies building them, and the ethical issues AI raises today. This encompasses generative AI, including large language models, text-to-image and text-to-video models; speech recognition and generation; and predictive analytics.\\n\\n### \\n\\nSam Altman\\n\\n### ChatGPT’s model picker is back, and it’s complicated\\n\\nAn illustration of Sam Altman in front of the OpenAI logo [...] ### Topics\\n\\nLatest\\n\\nAI\\n\\nAmazon\\n\\nApps\\n\\nBiotech & Health\\n\\nClimate\\n\\nCloud Computing\\n\\nCommerce\\n\\nCrypto\\n\\nEnterprise\\n\\nEVs\\n\\nFintech\\n\\nFundraising\\n\\nGadgets\\n\\nGaming\\n\\nGoogle\\n\\nGovernment & Policy\\n\\nHardware\\n\\nInstagram\\n\\nLayoffs\\n\\nMedia & Entertainment\\n\\nMeta\\n\\nMicrosoft\\n\\nPrivacy\\n\\nRobotics\\n\\nSecurity\\n\\nSocial\\n\\nSpace\\n\\nStartups\\n\\nTikTok\\n\\nTransportation\\n\\nVenture\\n\\n### More from TechCrunch\\n\\nStaff\\n\\nEvents\\n\\nStartup Battlefield\\n\\nStrictlyVC\\n\\nNewsletters\\n\\nPodcasts\\n\\nVideos\\n\\nPartner Content\\n\\nTechCrunch Brand Studio\\n\\nCrunchboard [...] ### Sam Altman, OpenAI will reportedly back a startup that takes on Musk’s Neuralink\\n\\nCharacter.AI screenshot\\n\\n### AI companion apps on track to pull in $120M in 2025\\n\\nDavid Petrou\\n\\n### Google vet raises $8M for Continua to bring AI agents to group chats\\n\\nAravind Srinivas, Co-Founder & CEO of Perplexity, speaks onstage during TechCrunch Disrupt 2024 in San Francisco, California.\\n\\n### Perplexity offers to buy Chrome for billions more than it’s raised\", \"score\": 0.7140107}]\n",
            "==================================\u001b[1m Ai Message \u001b[0m==================================\n",
            "\n",
            "100 divided by 20 is 5.  5 multiplied by 10 is 50.\n",
            "\n",
            "For the latest AI news, I found several sources reporting on recent developments.  Please note that the information is quite general and I don't have access to real-time information to provide specific details.  To get the very latest news, I recommend checking reputable news sources such as ScienceDaily or TechCrunch.\n"
          ]
        }
      ],
      "source": [
        "for m in res['messages']:\n",
        "    m.pretty_print()"
      ]
    },
    {
      "cell_type": "code",
      "execution_count": 50,
      "metadata": {
        "colab": {
          "base_uri": "https://localhost:8080/"
        },
        "id": "edIrUcAcoS_U",
        "outputId": "14471e34-f1ab-42e5-c5ff-66648f10b355"
      },
      "outputs": [
        {
          "name": "stdout",
          "output_type": "stream",
          "text": [
            "================================\u001b[1m Human Message \u001b[0m=================================\n",
            "\n",
            "what is the latest new about AI and Devide 100 by 20 then multiply 5 with 10 \n",
            "==================================\u001b[1m Ai Message \u001b[0m==================================\n",
            "Tool Calls:\n",
            "  divide_numbers (bfab902a-e756-417d-9f54-e0353f3ba26d)\n",
            " Call ID: bfab902a-e756-417d-9f54-e0353f3ba26d\n",
            "  Args:\n",
            "    a: 100.0\n",
            "    b: 20.0\n",
            "  multiply (7e8111b6-6f32-4855-9aa8-e236100b7d57)\n",
            " Call ID: 7e8111b6-6f32-4855-9aa8-e236100b7d57\n",
            "  Args:\n",
            "    a: 5.0\n",
            "    b: 10.0\n",
            "  tavily_search_results_json (82e35511-9377-439c-a323-b263b7c54147)\n",
            " Call ID: 82e35511-9377-439c-a323-b263b7c54147\n",
            "  Args:\n",
            "    query: latest news about AI\n",
            "=================================\u001b[1m Tool Message \u001b[0m=================================\n",
            "Name: divide_numbers\n",
            "\n",
            "5.0\n",
            "=================================\u001b[1m Tool Message \u001b[0m=================================\n",
            "Name: multiply\n",
            "\n",
            "50\n",
            "=================================\u001b[1m Tool Message \u001b[0m=================================\n",
            "Name: tavily_search_results_json\n",
            "\n",
            "[{\"title\": \"The latest AI news we announced in July\", \"url\": \"https://blog.google/technology/ai/google-ai-updates-july-2025/\", \"content\": \"# The latest AI news we announced in July\\n\\nHere’s a recap of some of our biggest AI updates from July, including AI Mode tailored for back-to-school, new creative tools to transform your old Google Photos and a new AI model from Google DeepMind to help historians.\\n\\nSuperG\\n\\n## General summary [...] In July, Google expanded access to its AI tools and made them more user-friendly. New features include AI Mode in Search for learning, creative tools in Google Photos, and personalized shopping experiences. Google also introduced AI models for interpreting ancient texts, mapping the planet, investing in energy infrastructure, and fighting cyber threats.\\n\\n## Basic explainer [...] In July, Google expanded access to its AI tools and made them more user-friendly. New features include AI Mode in Search for learning, creative tools in Google Photos, and personalized shopping experiences. Google also introduced AI models for interpreting ancient texts, mapping the planet, investing in energy infrastructure, and fighting cyber threats.\", \"score\": 0.7734393}, {\"title\": \"5 AI Trends Shaping Innovation and ROI in 2025 | Morgan Stanley\", \"url\": \"https://www.morganstanley.com/insights/articles/ai-trends-reasoning-frontier-models-2025-tmt\", \"content\": \"LLM executives also spoke about working with foundries to design and make custom silicon, to reduce the costs related to developing features such as recommender systems for ads or videos at scale. Many also said that recent AI advancements—such as continuous learning that enables adaptation based on recent interactions and updates without full retraining—are positive as software and apps proliferate, creating more real-world usage, data exposure and refined training opportunities. [...] ## 5. Software Companies Set Sights on Agentic AI\\n\\nSoftware executives spoke about their current use of AI for productivity gains in marketing and engineering and their longer-term prospects to gain market share in an agentic computing future. These companies are aiming to create large systems that deploy AI agents to make decisions, take autonomous actions and adapt to changing environments for real-world applications across industries. [...] “Recent AI advancements will harness the power of Jevons Paradox, to drive the long-term demand for AI and further increase the total addressable market for all participants in the ecosystem,” said Dave Chen, Head of Global Technology Investment Banking at Morgan Stanley, referring to the effect when increased efficiency leads to higher overall consumption.\\n\\n## 3. LLMs See Potential in AI Reasoning for Enterprises\", \"score\": 0.50285697}]\n",
            "==================================\u001b[1m Ai Message \u001b[0m==================================\n",
            "\n",
            "100 divided by 20 is 5.  5 multiplied by 10 is 50.\n",
            "\n",
            "Regarding the latest news on AI,  recent updates include expanded access to AI tools,  new features like AI Mode in Google Search for learning and creative tools in Google Photos, and the development of AI models for various applications such as interpreting ancient texts and fighting cyber threats.  There's also a focus on agentic AI, aiming to create systems that make decisions and take autonomous actions.\n"
          ]
        }
      ],
      "source": [
        "user=\"what is the latest new about AI and Devide 100 by 20 then multiply 5 with 10 \"\n",
        "res=bot.invoke({\"messages\":user})\n",
        "for m in res['messages']:\n",
        "    m.pretty_print()"
      ]
    },
    {
      "cell_type": "code",
      "execution_count": 51,
      "metadata": {
        "id": "XhxCqiMpoxZo"
      },
      "outputs": [],
      "source": [
        "complex_user_prompt = \"\"\"\n",
        "what is the latest new about AI then perform the following calculations:\n",
        "1. Divide 100 by 20.\n",
        "2. Multiply the result of the division by 10.\n",
        "\n",
        "3. Present the final calculation result clearly at the end of your response.\n",
        "\"\"\"\n",
        "res = bot.invoke({\"messages\": complex_user_prompt})\n"
      ]
    },
    {
      "cell_type": "code",
      "execution_count": 52,
      "metadata": {
        "colab": {
          "base_uri": "https://localhost:8080/"
        },
        "id": "cdY6YbK2ozxa",
        "outputId": "3e9d3aa3-f59a-4588-903a-3c01b8e893e4"
      },
      "outputs": [
        {
          "name": "stdout",
          "output_type": "stream",
          "text": [
            "================================\u001b[1m Human Message \u001b[0m=================================\n",
            "\n",
            "\n",
            "what is the latest new about AI then perform the following calculations:\n",
            "1. Divide 100 by 20.\n",
            "2. Multiply the result of the division by 10.\n",
            "\n",
            "3. Present the final calculation result clearly at the end of your response.\n",
            "\n",
            "==================================\u001b[1m Ai Message \u001b[0m==================================\n",
            "\n",
            "I do not have access to real-time information, including breaking news about AI.  To get the latest news, I recommend checking reputable news sources online.\n",
            "\n",
            "\n",
            "Now, let's perform the calculations:\n",
            "\n",
            "1. **Division:**\n",
            "Tool Calls:\n",
            "  divide_numbers (454d0fd7-4eba-4af2-ae38-c908a05c1657)\n",
            " Call ID: 454d0fd7-4eba-4af2-ae38-c908a05c1657\n",
            "  Args:\n",
            "    a: 100.0\n",
            "    b: 20.0\n",
            "=================================\u001b[1m Tool Message \u001b[0m=================================\n",
            "Name: divide_numbers\n",
            "\n",
            "5.0\n",
            "==================================\u001b[1m Ai Message \u001b[0m==================================\n",
            "Tool Calls:\n",
            "  multiply (58614304-0bef-4314-a950-c167d484b540)\n",
            " Call ID: 58614304-0bef-4314-a950-c167d484b540\n",
            "  Args:\n",
            "    a: 10.0\n",
            "    b: 5.0\n",
            "=================================\u001b[1m Tool Message \u001b[0m=================================\n",
            "Name: multiply\n",
            "\n",
            "50\n",
            "==================================\u001b[1m Ai Message \u001b[0m==================================\n",
            "\n",
            "I am sorry, I do not have access to real-time information, including the latest news about AI.  To get the most up-to-date news, I recommend checking reputable news sources online.\n",
            "\n",
            "\n",
            "Here are the results of your calculations:\n",
            "\n",
            "1. **Division:** 100 / 20 = 5\n",
            "2. **Multiplication:** 5 * 10 = 50\n",
            "\n",
            "**Final Result:** 50\n"
          ]
        }
      ],
      "source": [
        "for m in res['messages']:\n",
        "    m.pretty_print()"
      ]
    },
    {
      "cell_type": "code",
      "execution_count": null,
      "metadata": {
        "id": "ax7hRPOGo4lO"
      },
      "outputs": [],
      "source": [
        "# In cell 38,\n",
        "#  the model didn't fail to call a tool. Instead, it chose not to use the search tool for the AI news part of your prompt.\n",
        "#   The AI message explicitly states that it doesn't have access to real-time information and suggests checking external news sources.\n",
        "#  It then successfully used the divide_numbers and multiply tools to perform the calculations you requested."
      ]
    }
  ],
  "metadata": {
    "colab": {
      "provenance": []
    },
    "kernelspec": {
      "display_name": "Python 3",
      "name": "python3"
    },
    "language_info": {
      "name": "python"
    }
  },
  "nbformat": 4,
  "nbformat_minor": 0
}
