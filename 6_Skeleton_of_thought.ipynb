{
  "cells": [
    {
      "cell_type": "code",
      "execution_count": null,
      "metadata": {
        "id": "_kR7yw8e2_oF"
      },
      "outputs": [],
      "source": [
        "!pip install langchain-cli"
      ]
    },
    {
      "cell_type": "code",
      "execution_count": null,
      "metadata": {
        "id": "8trW4gOV-LL4"
      },
      "outputs": [],
      "source": [
        "!pip install -q langsmith"
      ]
    },
    {
      "cell_type": "code",
      "execution_count": null,
      "metadata": {
        "id": "dWgC_yXf3mGH"
      },
      "outputs": [],
      "source": [
        "%%capture\n",
        "!pip install langchain langgraph langchain_core langchain_community langchain-google-genai"
      ]
    },
    {
      "cell_type": "code",
      "execution_count": null,
      "metadata": {
        "id": "owve2LFo7wOs"
      },
      "outputs": [],
      "source": [
        "from langchain_core.prompts import ChatPromptTemplate\n",
        "from langchain_core.output_parsers import StrOutputParser"
      ]
    },
    {
      "cell_type": "code",
      "execution_count": null,
      "metadata": {
        "id": "pxvvkpK673_6"
      },
      "outputs": [],
      "source": [
        "import os\n",
        "\n",
        "google_api_key=\"\"\n",
        "\n",
        "os.environ[\"GOOGLE_API_KEY\"]=google_api_key\n",
        "\n",
        "from langchain_google_genai import ChatGoogleGenerativeAI\n",
        "llm=ChatGoogleGenerativeAI(\n",
        "    model=\"gemini-1.5-flash-latest\",\n",
        "    temperature=0.2\n",
        ")"
      ]
    },
    {
      "cell_type": "code",
      "execution_count": null,
      "metadata": {
        "id": "R-8jrKhn_hSN"
      },
      "outputs": [],
      "source": [
        "res=llm.invoke(\"what is skeleton of thought\")"
      ]
    },
    {
      "cell_type": "code",
      "execution_count": null,
      "metadata": {
        "colab": {
          "base_uri": "https://localhost:8080/"
        },
        "id": "jQQ3PLYs_lge",
        "outputId": "bed9e5a8-d77c-493b-c4e8-7e3d041b01ab"
      },
      "outputs": [
        {
          "data": {
            "text/plain": [
              "AIMessage(content='\"Skeleton of thought\" isn\\'t a formally defined term in any specific field like philosophy or psychology.  However, it\\'s a useful metaphorical expression to describe the basic, underlying structure of an idea or argument.  It refers to the essential elements, stripped of all the supporting details, embellishments, and nuances.\\n\\nThink of it like this:\\n\\n* **The skeleton:** The bones provide the framework and support for the entire body.  Without them, the body collapses.\\n* **The thought:** A fully fleshed-out idea, complete with examples, evidence, explanations, and stylistic flourishes.\\n* **The skeleton of the thought:** The core argument, the main points, the logical progression – the bare minimum needed to convey the central idea.  It\\'s the essential framework upon which the complete thought is built.\\n\\nHere\\'s how it might be used:\\n\\n* **In brainstorming:**  You might start with the skeleton of an idea – a simple premise and a few key supporting points – and then flesh it out later.\\n* **In outlining an essay:** The skeleton would be the main points of each paragraph or section, before you add the detailed evidence and analysis.\\n* **In summarizing an argument:** You might extract the skeleton of the argument to understand its core message without getting bogged down in the details.\\n* **In critical thinking:** Identifying the skeleton of an argument helps you evaluate its logical structure and identify any weaknesses.\\n\\nEssentially, the \"skeleton of thought\" is a concise representation of the core idea, allowing for easier understanding, analysis, and development.', additional_kwargs={}, response_metadata={'prompt_feedback': {'block_reason': 0, 'safety_ratings': []}, 'finish_reason': 'STOP', 'model_name': 'gemini-1.5-flash-latest', 'safety_ratings': []}, id='run--83936230-64b9-4608-b150-7f670b8b64f7-0', usage_metadata={'input_tokens': 5, 'output_tokens': 328, 'total_tokens': 333, 'input_token_details': {'cache_read': 0}})"
            ]
          },
          "execution_count": 22,
          "metadata": {},
          "output_type": "execute_result"
        }
      ],
      "source": [
        "res"
      ]
    },
    {
      "cell_type": "code",
      "execution_count": null,
      "metadata": {
        "id": "qd9-5v4F4Qls"
      },
      "outputs": [],
      "source": [
        "skeleton_generate_pormpt=\"\"\"\n",
        "[User:] You’re an organizer responsible for only giving the skeleton (not the full content) for answering the question.\n",
        "Provide the skeleton in a list of points (numbered 1., 2., 3., etc.) to answer the question. Instead of writing a full sentence,\n",
        "each skeleton point should be very short with only 3∼5 words. Generally, the skeleton should have 3∼10 points. Now,\n",
        "please provide the skeleton for the following question.\n",
        "{question}\n",
        "Skeleton:\n",
        "[Assistant:] 1\n",
        "\"\"\""
      ]
    },
    {
      "cell_type": "code",
      "execution_count": null,
      "metadata": {
        "id": "phGfM6bc76y2"
      },
      "outputs": [],
      "source": [
        "skleton_prompt=ChatPromptTemplate.from_template(skeleton_generate_pormpt)\n",
        "\n",
        "skleton_chain=skleton_prompt | llm|StrOutputParser()"
      ]
    },
    {
      "cell_type": "code",
      "execution_count": null,
      "metadata": {
        "id": "7KSy4h3l8Mdg"
      },
      "outputs": [],
      "source": []
    },
    {
      "cell_type": "code",
      "execution_count": null,
      "metadata": {
        "colab": {
          "base_uri": "https://localhost:8080/"
        },
        "id": "Bqh8jwnr8hUD",
        "outputId": "eaf13cff-f430-4f4c-e006-b00a23dc6fec"
      },
      "outputs": [
        {
          "name": "stdout",
          "output_type": "stream",
          "text": [
            "1. Improved cardiovascular health\n",
            "2. Weight management\n",
            "3. Stronger muscles\n",
            "4. Increased energy levels\n",
            "5. Better mood\n",
            "6. Reduced stress\n",
            "7. Improved sleep\n",
            "8. Stronger bones\n",
            "9. Reduced disease risk\n"
          ]
        }
      ],
      "source": [
        "question_example = \"What are the benefits of exercise?\"\n",
        "skeleton_output = skleton_chain.invoke({\"question\": question_example})\n",
        "print(skeleton_output)"
      ]
    },
    {
      "cell_type": "code",
      "execution_count": null,
      "metadata": {
        "id": "UvnCyE968kF8"
      },
      "outputs": [],
      "source": [
        "expansion_temeplate=\"\"\"\n",
        "[User:] You’re responsible for continuing the writing of one and only one point in the overall answer to the following\n",
        "question.\n",
        "{question}\n",
        "The skeleton of the answer is\n",
        "{skeleton}\n",
        "Continue and only continue the writing of point {point index}. Write it **very shortly** in 1∼2 sentence and\n",
        "do not continue with other points!\n",
        "[Assistant:] {point_index}. {point_skeleton}\n",
        "\n",
        "\"\"\"\n",
        "expansion_prompt=ChatPromptTemplate.from_template(expansion_temeplate)\n",
        "\n",
        "expansion_chain=expansion_prompt | llm|StrOutputParser()"
      ]
    },
    {
      "cell_type": "code",
      "execution_count": null,
      "metadata": {
        "id": "jVkV0Zni9I7P"
      },
      "outputs": [],
      "source": [
        "question_example = \"What are the benefits of exercise?\"\n",
        "final_output = expansion_chain.invoke({\"question\": question_example,\"skeleton\":skeleton_output,\"point_index\":'1',\"point_skeleton\":})\n"
      ]
    },
    {
      "cell_type": "code",
      "execution_count": null,
      "metadata": {
        "id": "g5_kw2Bz9WgH"
      },
      "outputs": [],
      "source": [
        "final_output"
      ]
    },
    {
      "cell_type": "code",
      "execution_count": null,
      "metadata": {
        "id": "FlrsxxJi9X-A"
      },
      "outputs": [],
      "source": []
    },
    {
      "cell_type": "code",
      "execution_count": null,
      "metadata": {
        "colab": {
          "base_uri": "https://localhost:8080/"
        },
        "id": "nONKZ7ayDgC2",
        "outputId": "6638326a-9375-4b86-d1eb-2cfed5b2e8d2"
      },
      "outputs": [
        {
          "name": "stdout",
          "output_type": "stream",
          "text": [
            "[{'index': 1, 'point': 'Improved cardiovascular health'}, {'index': 2, 'point': 'Weight management'}, {'index': 3, 'point': 'Stronger muscles'}, {'index': 4, 'point': 'Increased energy levels'}, {'index': 5, 'point': 'Better mood'}, {'index': 6, 'point': 'Reduced stress'}, {'index': 7, 'point': 'Improved sleep'}, {'index': 8, 'point': 'Stronger bones'}, {'index': 9, 'point': 'Reduced disease risk'}]\n"
          ]
        }
      ],
      "source": [
        "import re\n",
        "\n",
        "def parse_numbered_list(numbered_list_string):\n",
        "  \"\"\"\n",
        "  Parses a single numbered list string into a list of dictionaries.\n",
        "\n",
        "  Args:\n",
        "    numbered_list_string: A string containing a numbered list.\n",
        "\n",
        "  Returns:\n",
        "    A list of dictionaries, where each dictionary has keys 'index' and 'point'.\n",
        "  \"\"\"\n",
        "  parsed_list = []\n",
        "  # Use a regular expression to find numbered list items\n",
        "  # It looks for a number followed by a dot, optional space, and then captures the rest of the line\n",
        "  pattern = re.compile(r'^\\s*(\\d+)\\.\\s*(.*)$', re.MULTILINE)\n",
        "\n",
        "  for match in pattern.finditer(numbered_list_string):\n",
        "    index = int(match.group(1))\n",
        "    point = match.group(2).strip()\n",
        "    parsed_list.append({\"index\": index, \"point\": point})\n",
        "\n",
        "  return parsed_list\n",
        "\n",
        "# Example usage with the previous skeleton output\n",
        "skeleton_output = \"\"\"1. Improved cardiovascular health\n",
        "2. Weight management\n",
        "3. Stronger muscles\n",
        "4. Increased energy levels\n",
        "5. Better mood\n",
        "6. Reduced stress\n",
        "7. Improved sleep\n",
        "8. Stronger bones\n",
        "9. Reduced disease risk\"\"\"\n",
        "\n",
        "parsed_skeleton = parse_numbered_list(skeleton_output)\n",
        "print(parsed_skeleton)"
      ]
    },
    {
      "cell_type": "code",
      "execution_count": null,
      "metadata": {
        "colab": {
          "background_save": true
        },
        "id": "d1t_ut_jDhM0"
      },
      "outputs": [],
      "source": []
    }
  ],
  "metadata": {
    "colab": {
      "provenance": []
    },
    "kernelspec": {
      "display_name": "Python 3",
      "name": "python3"
    },
    "language_info": {
      "name": "python"
    }
  },
  "nbformat": 4,
  "nbformat_minor": 0
}