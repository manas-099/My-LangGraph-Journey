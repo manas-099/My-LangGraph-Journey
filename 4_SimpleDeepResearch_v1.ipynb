{
  "cells": [
    {
      "cell_type": "code",
      "execution_count": 1,
      "metadata": {
        "id": "mOkwvZktykn-"
      },
      "outputs": [],
      "source": [
        "%%capture\n",
        "!pip install langchain_core langchain langchain_community langgraph langchain-google-genai"
      ]
    },
    {
      "cell_type": "code",
      "execution_count": 2,
      "metadata": {
        "id": "-_tRkxxooLzp"
      },
      "outputs": [],
      "source": [
        "%%capture\n",
        "!pip install tavily-python"
      ]
    },
    {
      "cell_type": "code",
      "execution_count": null,
      "metadata": {
        "id": "5evXeKTeEOyE"
      },
      "outputs": [],
      "source": [
        "import os\n",
        "\n",
        "os.environ[\"GOOGLE_API_KEY\"]=google_api_key"
      ]
    },
    {
      "cell_type": "code",
      "execution_count": 4,
      "metadata": {
        "id": "EeGrdX7tEUlG"
      },
      "outputs": [],
      "source": [
        "from langchain_google_genai import ChatGoogleGenerativeAI\n",
        "\n",
        "model_name=\"gemini-1.5-flash-latest\""
      ]
    },
    {
      "cell_type": "code",
      "execution_count": 5,
      "metadata": {
        "id": "2v8VpSsCEXSM"
      },
      "outputs": [],
      "source": [
        "llm=ChatGoogleGenerativeAI(model=model_name)\n"
      ]
    },
    {
      "cell_type": "code",
      "execution_count": 6,
      "metadata": {
        "colab": {
          "base_uri": "https://localhost:8080/"
        },
        "id": "Bg4pg_CVEfCW",
        "outputId": "5efa692d-1522-4667-a75a-d1e46e40b0a9"
      },
      "outputs": [
        {
          "data": {
            "text/plain": [
              "AIMessage(content=\"LLM stands for **Large Language Model**.  It's a type of artificial intelligence (AI) that's trained on massive amounts of text data.  This training allows it to understand, generate, and translate human language.  LLMs can perform a wide range of tasks, including:\\n\\n* **Text generation:** Writing stories, articles, summaries, and code.\\n* **Translation:** Converting text from one language to another.\\n* **Question answering:** Providing answers to questions based on its training data.\\n* **Chatbots:** Engaging in conversations with users.\\n* **Summarization:** Condensing large amounts of text into shorter summaries.\\n\\nEssentially, LLMs are sophisticated pattern-matching machines.  They learn statistical relationships between words and phrases to predict the most likely next word in a sequence, allowing them to generate coherent and contextually relevant text.  Examples of LLMs include GPT-3, LaMDA, and PaLM.\", additional_kwargs={}, response_metadata={'prompt_feedback': {'block_reason': 0, 'safety_ratings': []}, 'finish_reason': 'STOP', 'model_name': 'gemini-1.5-flash-latest', 'safety_ratings': []}, id='run--97f7da9b-a202-495c-beab-4ab6f44e9054-0', usage_metadata={'input_tokens': 5, 'output_tokens': 194, 'total_tokens': 199, 'input_token_details': {'cache_read': 0}})"
            ]
          },
          "execution_count": 6,
          "metadata": {},
          "output_type": "execute_result"
        }
      ],
      "source": [
        "llm.invoke(\"what is llm?\")"
      ]
    },
    {
      "cell_type": "code",
      "execution_count": 7,
      "metadata": {
        "colab": {
          "base_uri": "https://localhost:8080/",
          "height": 35
        },
        "id": "IL4a8F-wgfWH",
        "outputId": "db718994-6796-49c4-9236-797dfd171297"
      },
      "outputs": [
        {
          "data": {
            "application/vnd.google.colaboratory.intrinsic+json": {
              "type": "string"
            },
            "text/plain": [
              "' llm need\\nBrief Generation\\n'"
            ]
          },
          "execution_count": 7,
          "metadata": {},
          "output_type": "execute_result"
        }
      ],
      "source": [
        "\"\"\" llm need\n",
        "Brief Generation\n",
        "\"\"\""
      ]
    },
    {
      "cell_type": "code",
      "execution_count": 8,
      "metadata": {
        "id": "ktgotmhgcsQJ"
      },
      "outputs": [],
      "source": [
        "from langgraph.graph import StateGraph,START,END\n",
        "from typing import TypedDict,Annotated,List\n",
        "import operator\n",
        "\n",
        "class ResearchState(TypedDict):\n",
        "      research_topic:str\n",
        "      sub_queries:Annotated[List[str],operator.add]\n",
        "      raw_findings:Annotated[List[str],operator.add]\n",
        "      synthesized_findings:Annotated[List[str],operator.add]\n",
        "      final_report:str"
      ]
    },
    {
      "cell_type": "code",
      "execution_count": 9,
      "metadata": {
        "id": "aKvRydwEe9qS"
      },
      "outputs": [],
      "source": [
        "workflow=StateGraph(ResearchState)"
      ]
    },
    {
      "cell_type": "code",
      "execution_count": 10,
      "metadata": {
        "id": "Xw8wiOXKh-RQ"
      },
      "outputs": [],
      "source": [
        "planner_llm=ChatGoogleGenerativeAI(\n",
        "    model=model_name,\n",
        "    temperature=0\n",
        "    )\n",
        "researcher_llm=ChatGoogleGenerativeAI(\n",
        "    model=model_name,\n",
        "    temperature=0\n",
        "    )\n",
        "synthesis_llm=ChatGoogleGenerativeAI(\n",
        "    model=model_name,\n",
        "    temperature=0\n",
        "    )\n",
        "evaluation_llm=ChatGoogleGenerativeAI(\n",
        "    model=model_name,\n",
        "    temperature=0\n",
        "    )"
      ]
    },
    {
      "cell_type": "code",
      "execution_count": 11,
      "metadata": {
        "id": "lDeji8awnucH"
      },
      "outputs": [],
      "source": [
        "from langchain_core.prompts import ChatPromptTemplate\n",
        "from langchain_core.output_parsers import StrOutputParser\n",
        "\n",
        "template=\"\"\"\n",
        "  You are an ai agent .you are expert in understanding the intent of  user-supplied topic or query.\n",
        "  You are an ai for making plan for doing a research.\n",
        "  Your job is to do  interpretation  of the topic to fully grasp the user's intent and scope .\n",
        "    then\n",
        "    break down complex research topic into smaller, manageable sub-queries.\n",
        "  Generate 3 sub-queries based on the topic.\n",
        "  Dont generate more than 3 sub-queries.\n",
        "  Dont generate any other thing.\n",
        "  no explaination required.\n",
        "    # formulates a comprehensive research strategy,\n",
        "\n",
        "  here is the Research topic provided by user :{topic}\n",
        "  output:\n",
        "\n",
        "\n",
        "  \"\"\"\n",
        "prompt=ChatPromptTemplate.from_template(template)\n",
        "\n",
        "chain=prompt| planner_llm | StrOutputParser()\n",
        "\n",
        "res=chain.invoke(\"The Impact of Artificial Intelligence on the Future of Work.\")"
      ]
    },
    {
      "cell_type": "code",
      "execution_count": 28,
      "metadata": {
        "colab": {
          "base_uri": "https://localhost:8080/",
          "height": 53
        },
        "id": "sOCgzJu-vFG4",
        "outputId": "a0f3833c-cced-4be1-8b6a-486cbec19505"
      },
      "outputs": [
        {
          "data": {
            "application/vnd.google.colaboratory.intrinsic+json": {
              "type": "string"
            },
            "text/plain": [
              "'1. How will AI-driven automation affect job displacement and creation across various sectors?\\n2. What are the ethical implications of AI in the workplace, including bias, fairness, and accountability?\\n3. How can workers adapt and reskill to thrive in an AI-driven workforce?'"
            ]
          },
          "execution_count": 28,
          "metadata": {},
          "output_type": "execute_result"
        }
      ],
      "source": [
        "# res"
      ]
    },
    {
      "cell_type": "code",
      "execution_count": 12,
      "metadata": {
        "colab": {
          "base_uri": "https://localhost:8080/"
        },
        "id": "fSLgdCxKoSSg",
        "outputId": "f57c7009-67b8-4b9e-dfd6-aa89a944905b"
      },
      "outputs": [
        {
          "name": "stdout",
          "output_type": "stream",
          "text": [
            "['1. What are the potential benefits and drawbacks of AI adoption in various industries?', '2. How will AI-driven automation affect employment rates and the demand for different skills?', '3. What are the ethical considerations and societal implications of a workforce increasingly reliant on AI?']\n"
          ]
        }
      ],
      "source": [
        "text_with_newlines = \"\"\"\n",
        "1. What are the potential benefits and drawbacks of AI adoption in various industries?\n",
        "2. How will AI-driven automation affect employment rates and the demand for different skills?\n",
        "3. What are the ethical considerations and societal implications of a workforce increasingly reliant on AI?\n",
        "\"\"\"\n",
        "\n",
        "# Split the text into a list of sentences and remove leading/trailing whitespace\n",
        "sentences = [line.strip() for line in text_with_newlines.strip().splitlines()]\n",
        "\n",
        "# Print the list of sentences\n",
        "print(sentences)"
      ]
    },
    {
      "cell_type": "code",
      "execution_count": 13,
      "metadata": {
        "colab": {
          "base_uri": "https://localhost:8080/"
        },
        "id": "rg6WCeWxoAuT",
        "outputId": "6265174a-7b65-4ff3-c09f-2ccb183dda60"
      },
      "outputs": [
        {
          "data": {
            "text/plain": [
              "['1. How will AI-driven automation affect job displacement and creation across various sectors?',\n",
              " '2. What are the ethical implications of AI in the workplace, including bias, fairness, and accountability?',\n",
              " '3. How can workers adapt and reskill to thrive in an AI-driven workforce?']"
            ]
          },
          "execution_count": 13,
          "metadata": {},
          "output_type": "execute_result"
        }
      ],
      "source": [
        "res.split(\"\\n\")"
      ]
    },
    {
      "cell_type": "code",
      "execution_count": 36,
      "metadata": {
        "id": "Nlv4BgaZqlHR"
      },
      "outputs": [],
      "source": [
        "template=\"\"\"\n",
        "  You are an ai agent .you are expert making  strategy for a user-supplied topic or query.\n",
        "  You are an ai for making plan for doing a research.\n",
        "  Your job is formulates a comprehensive research strategy for the given topic.\n",
        "  Dont generate any other thing.\n",
        "  no explaination required.\n",
        "  only generate the strategy.\n",
        "\n",
        "  here is the Research topic provided by user :{topic}\n",
        "  output:\n",
        "  \"\"\"\n",
        "prompt=ChatPromptTemplate.from_template(template)\n",
        "\n",
        "chain=prompt| planner_llm | StrOutputParser()\n",
        "\n",
        "res=chain.invoke(\"The Impact of Artificial Intelligence on the Future of Work.\")"
      ]
    },
    {
      "cell_type": "code",
      "execution_count": 37,
      "metadata": {
        "id": "fdCie9A4qpiu"
      },
      "outputs": [],
      "source": [
        "# res"
      ]
    },
    {
      "cell_type": "code",
      "execution_count": 14,
      "metadata": {
        "id": "zqs6hAQjqjfx"
      },
      "outputs": [],
      "source": [
        "\n",
        "def planning_node(state:ResearchState)->ResearchState:\n",
        "  \"\"\" Query Understanding and Planning\"\"\"\n",
        "  topic=state['research_topic']\n",
        "  template=\"\"\"\n",
        "  You are an ai agent .you are expert in understanding the intent of  user-supplied topic or query.\n",
        "  You are an ai for making plan for doing a research.\n",
        "  Your job is to do  interpretation  of the topic to fully grasp the user's intent and scope .\n",
        "    then\n",
        "    break down complex research topic into smaller, manageable sub-queries.\n",
        "  Generate 3 sub-queries based on the topic.\n",
        "  Dont generate more than 3 sub-queries.\n",
        "  Dont generate any other thing.\n",
        "  no explaination required.\n",
        "\n",
        "\n",
        "  here is the Research topic provided by user :{topic}\n",
        "  output:\n",
        "\n",
        "\n",
        "  \"\"\"\n",
        "  prompt=ChatPromptTemplate.from_template(template)\n",
        "\n",
        "  chain=prompt| planner_llm\n",
        "\n",
        "  sub_queries=chain.invoke({\"topic\":topic}).content\n",
        "  state['sub_queries']=sub_queries.split(\"\\n\")\n",
        "  return state\n"
      ]
    },
    {
      "cell_type": "code",
      "execution_count": null,
      "metadata": {
        "colab": {
          "base_uri": "https://localhost:8080/"
        },
        "id": "NUqVgEo9wYKB",
        "outputId": "cbef01c9-baf9-49dc-9a80-75e7eb672ef7"
      },
      "outputs": [
        {
          "name": "stderr",
          "output_type": "stream",
          "text": [
            "/tmp/ipython-input-15-1377022595.py:7: LangChainDeprecationWarning: The class `TavilySearchResults` was deprecated in LangChain 0.3.25 and will be removed in 1.0. An updated version of the class exists in the :class:`~langchain-tavily package and should be used instead. To use it run `pip install -U :class:`~langchain-tavily` and import as `from :class:`~langchain_tavily import TavilySearch``.\n",
            "  tool = TavilySearchResults()\n"
          ]
        }
      ],
      "source": [
        "import os\n",
        "from langchain_community.tools import TavilySearchResults\n",
        "\n",
        "# It's recommended to set the API key as an environment variable\n",
        "os.environ[\"TAVILY_API_KEY\"] = \"\"\n",
        "\n",
        "tool = TavilySearchResults()\n",
        "\n"
      ]
    },
    {
      "cell_type": "code",
      "execution_count": 16,
      "metadata": {
        "colab": {
          "base_uri": "https://localhost:8080/",
          "height": 35
        },
        "id": "GNoFpv7RxrLL",
        "outputId": "5cfcf5a2-2d85-47dd-c54f-715d35e19e69"
      },
      "outputs": [
        {
          "data": {
            "application/vnd.google.colaboratory.intrinsic+json": {
              "type": "string"
            },
            "text/plain": [
              "'Narasimha Rao, Atal Bihari Vajpayee, Manmohan Singh, and Narendra Modi, who is the current prime minister of India, serving since 26 May 2014. He is the'"
            ]
          },
          "execution_count": 16,
          "metadata": {},
          "output_type": "execute_result"
        }
      ],
      "source": [
        "tool.invoke(\"who is the current prime minister of india.\")[0]['content']"
      ]
    },
    {
      "cell_type": "code",
      "execution_count": 42,
      "metadata": {
        "colab": {
          "base_uri": "https://localhost:8080/"
        },
        "id": "dRItRxuW1ahs",
        "outputId": "3f7cb07a-d67f-495e-ea23-73a6c8cac78b"
      },
      "outputs": [
        {
          "data": {
            "text/plain": [
              "['1. How will AI-driven automation affect job displacement and creation across various sectors?',\n",
              " '2. What are the ethical implications of AI in the workplace, including bias, fairness, and accountability?',\n",
              " '3. How can workers adapt and reskill to thrive in an AI-driven workforce?']"
            ]
          },
          "execution_count": 42,
          "metadata": {},
          "output_type": "execute_result"
        }
      ],
      "source": [
        "# res"
      ]
    },
    {
      "cell_type": "code",
      "execution_count": 43,
      "metadata": {
        "colab": {
          "base_uri": "https://localhost:8080/",
          "height": 35
        },
        "id": "cwNYyBUm1cvn",
        "outputId": "044b9778-1cda-4aec-d114-3787eb81c494"
      },
      "outputs": [
        {
          "data": {
            "application/vnd.google.colaboratory.intrinsic+json": {
              "type": "string"
            },
            "text/plain": [
              "'1. How will AI-driven automation affect job displacement and creation across various sectors?'"
            ]
          },
          "execution_count": 43,
          "metadata": {},
          "output_type": "execute_result"
        }
      ],
      "source": [
        "# res[0]"
      ]
    },
    {
      "cell_type": "code",
      "execution_count": 17,
      "metadata": {
        "id": "Fm4zh6uEy3Yl"
      },
      "outputs": [],
      "source": [
        "def websearch(state:ResearchState)->ResearchState:\n",
        "  \"\"\" websearch\"\"\"\n",
        "  topic=state['research_topic']\n",
        "  sub_querie_1=state['sub_queries'][0]\n",
        "  sub_querie_2=state['sub_queries'][1]\n",
        "  sub_querie_3=state['sub_queries'][2]\n",
        "\n",
        "  reponse_1=tool.invoke(sub_querie_1)[0]['content']\n",
        "  reponse_2=tool.invoke(sub_querie_2)[0]['content']\n",
        "  reponse_3=tool.invoke(sub_querie_3)[0]['content']\n",
        "  state['raw_findings']=[reponse_1,reponse_2,reponse_3]\n",
        "  return state\n",
        "\n"
      ]
    },
    {
      "cell_type": "code",
      "execution_count": 45,
      "metadata": {
        "colab": {
          "base_uri": "https://localhost:8080/",
          "height": 35
        },
        "id": "i_FuVHum9QEk",
        "outputId": "db47f29b-49f0-4907-cbba-1e39521cc57d"
      },
      "outputs": [
        {
          "data": {
            "application/vnd.google.colaboratory.intrinsic+json": {
              "type": "string"
            },
            "text/plain": [
              "'1. How will AI-driven automation affect job displacement and creation across various sectors?'"
            ]
          },
          "execution_count": 45,
          "metadata": {},
          "output_type": "execute_result"
        }
      ],
      "source": []
    },
    {
      "cell_type": "code",
      "execution_count": 75,
      "metadata": {
        "id": "SSeE55kbEEuy"
      },
      "outputs": [],
      "source": [
        "reponse_1=tool.invoke(res[0])[0]['content']"
      ]
    },
    {
      "cell_type": "code",
      "execution_count": 76,
      "metadata": {
        "colab": {
          "base_uri": "https://localhost:8080/",
          "height": 140
        },
        "id": "Apsaoa8BEMjw",
        "outputId": "d8b982e6-aab6-49b5-8330-6f1ddbacaf22"
      },
      "outputs": [
        {
          "data": {
            "application/vnd.google.colaboratory.intrinsic+json": {
              "type": "string"
            },
            "text/plain": [
              "'On one hand, AI and automation have replaced certain roles, particularly those involving repetitive or routine tasks. This shift has led to job displacement in various industries, redefining traditional employment structures.\\n\\nOn the other hand, AI is also a powerful driver of job creation. It has paved the way for new roles — like AI ethicist and machine learning engineer — that didn’t exist just a few years ago. [...] AI continues to have a significant impact on jobs across various industries. While it can automate routine and repetitive tasks, leading to job displacement in certain sectors, it also creates new opportunities by enhancing productivity and enabling the development of entirely new roles.\\n\\n#### How will artificial intelligence affect the workplace? [...] AI has a significant impact on the job market, leading to both job displacement and the creation of new roles. It also affects hiring processes and demands new skills from professionals to stay relevant.\\n\\nAI education, such as the Master’s in Applied Artificial Intelligence program at the University of San Diego, prepares individuals to navigate these changes with ease.'"
            ]
          },
          "execution_count": 76,
          "metadata": {},
          "output_type": "execute_result"
        }
      ],
      "source": [
        "reponse_1"
      ]
    },
    {
      "cell_type": "code",
      "execution_count": 77,
      "metadata": {
        "id": "44X-zoiKEUdc"
      },
      "outputs": [],
      "source": [
        "rs=[reponse_1,reponse_1]"
      ]
    },
    {
      "cell_type": "code",
      "execution_count": 78,
      "metadata": {
        "colab": {
          "base_uri": "https://localhost:8080/",
          "height": 140
        },
        "id": "Bnz9jvOTEYgR",
        "outputId": "b32c78ae-67b2-4407-9bd2-8bc785ffd46f"
      },
      "outputs": [
        {
          "data": {
            "application/vnd.google.colaboratory.intrinsic+json": {
              "type": "string"
            },
            "text/plain": [
              "'On one hand, AI and automation have replaced certain roles, particularly those involving repetitive or routine tasks. This shift has led to job displacement in various industries, redefining traditional employment structures.\\n\\nOn the other hand, AI is also a powerful driver of job creation. It has paved the way for new roles — like AI ethicist and machine learning engineer — that didn’t exist just a few years ago. [...] AI continues to have a significant impact on jobs across various industries. While it can automate routine and repetitive tasks, leading to job displacement in certain sectors, it also creates new opportunities by enhancing productivity and enabling the development of entirely new roles.\\n\\n#### How will artificial intelligence affect the workplace? [...] AI has a significant impact on the job market, leading to both job displacement and the creation of new roles. It also affects hiring processes and demands new skills from professionals to stay relevant.\\n\\nAI education, such as the Master’s in Applied Artificial Intelligence program at the University of San Diego, prepares individuals to navigate these changes with ease.'"
            ]
          },
          "execution_count": 78,
          "metadata": {},
          "output_type": "execute_result"
        }
      ],
      "source": [
        "rs[0]"
      ]
    },
    {
      "cell_type": "code",
      "execution_count": 79,
      "metadata": {
        "colab": {
          "base_uri": "https://localhost:8080/",
          "height": 140
        },
        "id": "GfBP_6B0EZcb",
        "outputId": "fcad4a9a-47b7-4f48-e905-cc6355be240e"
      },
      "outputs": [
        {
          "data": {
            "application/vnd.google.colaboratory.intrinsic+json": {
              "type": "string"
            },
            "text/plain": [
              "'On one hand, AI and automation have replaced certain roles, particularly those involving repetitive or routine tasks. This shift has led to job displacement in various industries, redefining traditional employment structures.\\n\\nOn the other hand, AI is also a powerful driver of job creation. It has paved the way for new roles — like AI ethicist and machine learning engineer — that didn’t exist just a few years ago. [...] AI continues to have a significant impact on jobs across various industries. While it can automate routine and repetitive tasks, leading to job displacement in certain sectors, it also creates new opportunities by enhancing productivity and enabling the development of entirely new roles.\\n\\n#### How will artificial intelligence affect the workplace? [...] AI has a significant impact on the job market, leading to both job displacement and the creation of new roles. It also affects hiring processes and demands new skills from professionals to stay relevant.\\n\\nAI education, such as the Master’s in Applied Artificial Intelligence program at the University of San Diego, prepares individuals to navigate these changes with ease.'"
            ]
          },
          "execution_count": 79,
          "metadata": {},
          "output_type": "execute_result"
        }
      ],
      "source": [
        "rs[1]"
      ]
    },
    {
      "cell_type": "code",
      "execution_count": 18,
      "metadata": {
        "id": "tNXeScKcDwp3"
      },
      "outputs": [],
      "source": [
        "def researcher_node(state:ResearchState)->ResearchState:\n",
        "  \"\"\" researcher_node\"\"\"\n",
        "  topic=state['research_topic']\n",
        "  raw_findings_1=state['raw_findings'][0]\n",
        "  raw_findings_2=state['raw_findings'][0]\n",
        "  raw_findings_3=state['raw_findings'][1]\n",
        "  template=\"\"\"\n",
        "You are a research assistant. Your task is to synthesize the provided web findings into a detailed explanation for a research paper.\n",
        "\n",
        "**Topic:** {topic}\n",
        "\n",
        "**Web Findings:**\n",
        "{web_findings}\n",
        "\n",
        "**Instructions:**\n",
        "- Provide a detailed explanation of the topic based on the web findings.\n",
        "- The explanation should be suitable for inclusion in a research paper.\n",
        "- Focus on clarity, accuracy, and depth of information.\n",
        "- Do not generate a formal report with sections like \"Introduction\" or \"Conclusion\".\n",
        "-use simple english\n",
        "- word limit should be 100\n",
        "\n",
        "\n",
        "**Output:**\n",
        "\"\"\"\n",
        "\n",
        "  prompt=ChatPromptTemplate.from_template(template)\n",
        "  chain=prompt| researcher_llm\n",
        "\n",
        "  response_1=chain.invoke({\"topic\":topic,\"web_findings\":raw_findings_1}).content\n",
        "\n",
        "  response_2=chain.invoke({\"topic\":topic,\"web_findings\":raw_findings_3}).content\n",
        "\n",
        "  response_3=chain.invoke({\"topic\":topic,\"web_findings\":raw_findings_2}).content\n",
        "\n",
        "  synthesized_findings=[response_1,response_2,response_3]\n",
        "  state['synthesized_findings']=synthesized_findings\n",
        "  return state"
      ]
    },
    {
      "cell_type": "code",
      "execution_count": 81,
      "metadata": {
        "id": "vRYn3xbL-8IV"
      },
      "outputs": [],
      "source": [
        "# template=\"\"\"\n",
        "# You are a research assistant. Your task is to synthesize the provided web findings into a detailed explanation for a research paper.\n",
        "\n",
        "# **Topic:** {topic}\n",
        "\n",
        "# **Web Findings:**\n",
        "# {web_findings}\n",
        "\n",
        "# **Instructions:**\n",
        "# - Provide a detailed explanation of the topic based on the web findings.\n",
        "# - The explanation should be suitable for inclusion in a research paper.\n",
        "# - Focus on clarity, accuracy, and depth of information.\n",
        "# - Do not generate a formal report with sections like \"Introduction\" or \"Conclusion\".\n",
        "# -use simple english\n",
        "# - word limit should be 100\n",
        "\n",
        "\n",
        "# **Output:**\n",
        "# \"\"\"\n",
        "# prompt=ChatPromptTemplate.from_template(template)\n",
        "# topic=\"The Impact of Artificial Intelligence on the Future of Work.\"\n",
        "\n",
        "# web_findings_1=tool.invoke(res[0])\n",
        "# web_findings_2=tool.invoke(res[1])\n",
        "# web_findings_3=tool.invoke(res[2])\n",
        "\n",
        "# chain=prompt| synthesis_llm\n",
        "# response_1=chain.invoke({\"topic\":topic,\"web_findings\":web_findings_1[0]['content']}).content\n",
        "\n",
        "# response_2=chain.invoke({\"topic\":topic,\"web_findings\":web_findings_2[0]['content']}).content\n",
        "\n",
        "# response_3=chain.invoke({\"topic\":topic,\"web_findings\":web_findings_3[0]['content']}).content"
      ]
    },
    {
      "cell_type": "code",
      "execution_count": 69,
      "metadata": {
        "colab": {
          "base_uri": "https://localhost:8080/",
          "height": 35
        },
        "id": "DVw82S7yAngq",
        "outputId": "8c8e715d-aba8-4230-a330-b2cc51fbe824"
      },
      "outputs": [
        {
          "data": {
            "application/vnd.google.colaboratory.intrinsic+json": {
              "type": "string"
            },
            "text/plain": [
              "'1. How will AI-driven automation affect job displacement and creation across various sectors?'"
            ]
          },
          "execution_count": 69,
          "metadata": {},
          "output_type": "execute_result"
        }
      ],
      "source": [
        "res[0]"
      ]
    },
    {
      "cell_type": "code",
      "execution_count": 70,
      "metadata": {
        "colab": {
          "base_uri": "https://localhost:8080/",
          "height": 35
        },
        "id": "0LnD9rKNAsxn",
        "outputId": "75d35329-efc9-4550-b0f4-3b46940eeecf"
      },
      "outputs": [
        {
          "data": {
            "application/vnd.google.colaboratory.intrinsic+json": {
              "type": "string"
            },
            "text/plain": [
              "'2. What are the ethical implications of AI in the workplace, including bias, fairness, and accountability?'"
            ]
          },
          "execution_count": 70,
          "metadata": {},
          "output_type": "execute_result"
        }
      ],
      "source": [
        "res[1]"
      ]
    },
    {
      "cell_type": "code",
      "execution_count": 71,
      "metadata": {
        "colab": {
          "base_uri": "https://localhost:8080/",
          "height": 35
        },
        "id": "T_8QlquKAu7X",
        "outputId": "064a913d-b8b8-40b2-aea1-055970248ab2"
      },
      "outputs": [
        {
          "data": {
            "application/vnd.google.colaboratory.intrinsic+json": {
              "type": "string"
            },
            "text/plain": [
              "'3. How can workers adapt and reskill to thrive in an AI-driven workforce?'"
            ]
          },
          "execution_count": 71,
          "metadata": {},
          "output_type": "execute_result"
        }
      ],
      "source": [
        "res[2]"
      ]
    },
    {
      "cell_type": "code",
      "execution_count": 66,
      "metadata": {
        "colab": {
          "base_uri": "https://localhost:8080/",
          "height": 105
        },
        "id": "lYI2WjBG9cTg",
        "outputId": "4ef7cbf4-a565-4b92-cc13-47ceb8e99813"
      },
      "outputs": [
        {
          "data": {
            "application/vnd.google.colaboratory.intrinsic+json": {
              "type": "string"
            },
            "text/plain": [
              "\"Artificial intelligence's impact on the future of work is dual-faceted.  While AI-driven automation displaces workers in roles involving repetitive tasks, leading to job losses in some sectors, it simultaneously creates new job opportunities.  These new roles, such as AI ethicists and machine learning engineers, are directly related to the development, implementation, and ethical considerations surrounding AI technologies.  This transformative effect necessitates workforce adaptation, demanding new skills and prompting the rise of specialized education programs to prepare individuals for the evolving job market.  The net effect is a reshaping of the workplace, requiring both individuals and industries to navigate this complex shift.\""
            ]
          },
          "execution_count": 66,
          "metadata": {},
          "output_type": "execute_result"
        }
      ],
      "source": [
        "response_1"
      ]
    },
    {
      "cell_type": "code",
      "execution_count": 67,
      "metadata": {
        "colab": {
          "base_uri": "https://localhost:8080/",
          "height": 105
        },
        "id": "IRZz3qDJASd6",
        "outputId": "80622fcd-f4e0-4688-b91f-d697ef1cc462"
      },
      "outputs": [
        {
          "data": {
            "application/vnd.google.colaboratory.intrinsic+json": {
              "type": "string"
            },
            "text/plain": [
              "'Artificial intelligence (AI) significantly impacts the future of work, but its implementation raises crucial ethical concerns.  AI systems trained on biased data can perpetuate and amplify existing societal biases, leading to unfair outcomes in areas like hiring and loan applications.  This necessitates a comprehensive approach involving collaboration between technologists, ethicists, and policymakers to develop ethical guidelines, regulations, and best practices.  The goal is to ensure AI benefits humanity while mitigating harm and promoting fairness and accountability in its application.  Addressing these biases is vital for responsible AI development and deployment.'"
            ]
          },
          "execution_count": 67,
          "metadata": {},
          "output_type": "execute_result"
        }
      ],
      "source": [
        "response_2"
      ]
    },
    {
      "cell_type": "code",
      "execution_count": 68,
      "metadata": {
        "colab": {
          "base_uri": "https://localhost:8080/",
          "height": 105
        },
        "id": "LpUwonvjAUKN",
        "outputId": "b6e58178-ef05-4739-c279-b13ae62ddb3a"
      },
      "outputs": [
        {
          "data": {
            "application/vnd.google.colaboratory.intrinsic+json": {
              "type": "string"
            },
            "text/plain": [
              "'Artificial intelligence (AI) is significantly impacting the future of work, creating both anxieties and opportunities.  While a Gallup survey reveals that 22% of workers fear job obsolescence due to AI, and 72% of Chief Human Resource Officers anticipate AI-driven job displacement within three years,  AI also presents a chance for growth through upskilling and reskilling initiatives.  These programs equip employees with the skills needed to adapt to AI-driven changes, allowing them to transition to new roles or enhance their existing performance by focusing on higher-value tasks freed from automation.  Therefore, proactive investment in employee development is crucial to mitigate the negative impacts of AI and harness its potential for workforce advancement.'"
            ]
          },
          "execution_count": 68,
          "metadata": {},
          "output_type": "execute_result"
        }
      ],
      "source": [
        "response_3"
      ]
    },
    {
      "cell_type": "code",
      "execution_count": null,
      "metadata": {
        "id": "h68__mpgA2_Y"
      },
      "outputs": [],
      "source": []
    },
    {
      "cell_type": "code",
      "execution_count": null,
      "metadata": {
        "id": "NMo3ZDnY3Vik"
      },
      "outputs": [],
      "source": [
        "# def Research(state:ResearchState)->ResearchState:\n",
        "#   \"\"\" Research\"\"\"\n",
        "#   topic=state['research_topic']\n",
        "#   raw_findings=state['raw_findings']\n",
        "#   raw_findings_1=state['raw_findings'][0]\n",
        "#   raw_findings_2=state['raw_findings'][1]\n",
        "#   raw_findings_3=state['raw_findings'][2]\n",
        "\n",
        "#   response_1=researcher_llm.invoke(sub_querie_1)\n",
        "#   response_2=researcher_llm.invoke(sub_querie_2)\n",
        "#   response_3=researcher_llm.invoke(sub_querie_3)\n",
        "#   state['raw_findings']=[response_1,response_2,response_3]\n",
        "#   return state"
      ]
    },
    {
      "cell_type": "code",
      "execution_count": 19,
      "metadata": {
        "id": "uEeYUcoTFien"
      },
      "outputs": [],
      "source": [
        "def synthesis_node(state:ResearchState)->ResearchState:\n",
        "  \"\"\" final_generation_node\"\"\"\n",
        "  topic=state['research_topic']\n",
        "  synthesized_findings=state['synthesized_findings']\n",
        "\n",
        "  final_prompt = \"\"\"\n",
        "You are a research paper author. Your task is to write a detailed research paper on the given topic by synthesizing the provided research findings.\n",
        "\n",
        "**Topic:** {topic}\n",
        "\n",
        "**Research Findings:**\n",
        "- **Finding 1:** {response_1}\n",
        "- **Finding 2:** {response_2}\n",
        "- **Finding 3:** {response_3}\n",
        "\n",
        "**Instructions:**\n",
        "- Write a comprehensive research paper that integrates all three findings.\n",
        "- The paper must be well-structured, coherent, and written in a formal academic style.\n",
        "- Ensure a logical flow between sections.\n",
        "- Adhere to the following rules for academic writing:\n",
        "    - **Clarity:** The language should be clear, concise, and unambiguous.\n",
        "    - **Objectivity:** Present information factually and avoid personal opinions or biased language.\n",
        "    - **Evidence-based:** Support all claims with evidence from the provided findings.\n",
        "    - **Formal Tone:** Maintain a formal and professional tone throughout the paper.\n",
        "\n",
        "**Format:**\n",
        "- **Introduction:** Provide an overview of the topic, its significance, and the main points to be discussed.\n",
        "- **Section 1:\n",
        "- **Section 2:\n",
        "- **Section 3:\n",
        "- **Conclusion:** Summarize the key arguments and provide a concluding statement .\n",
        "\n",
        "**Output:**\n",
        "\"\"\"\n",
        "  prompt=ChatPromptTemplate.from_template(final_prompt)\n",
        "  chain=prompt| synthesis_llm\n",
        "  final_report=chain.invoke({\"topic\":topic,\n",
        "                             \"response_1\":synthesized_findings[0],\n",
        "                             \"response_2\":synthesized_findings[1],\n",
        "                             \"response_3\":synthesized_findings[2]}).content\n",
        "\n",
        "  state['final_report']=final_report\n",
        "  return state\n",
        "\n",
        "\n",
        "\n"
      ]
    },
    {
      "cell_type": "code",
      "execution_count": 72,
      "metadata": {
        "id": "D1FHxOEeB6n4"
      },
      "outputs": [],
      "source": [
        "# # New prompt to combine the three responses into a research paper\n",
        "\n",
        "# final_report_prompt = \"\"\"\n",
        "# You are a research paper author. Your task is to write a detailed research paper on the given topic by synthesizing the provided research findings.\n",
        "\n",
        "# **Topic:** {topic}\n",
        "\n",
        "# **Research Findings:**\n",
        "# - **Finding 1:** {response_1}\n",
        "# - **Finding 2:** {response_2}\n",
        "# - **Finding 3:** {response_3}\n",
        "\n",
        "# **Instructions:**\n",
        "# - Write a comprehensive research paper that integrates all three findings.\n",
        "# - The paper must be well-structured, coherent, and written in a formal academic style.\n",
        "# - Ensure a logical flow between sections.\n",
        "# - Adhere to the following rules for academic writing:\n",
        "#     - **Clarity:** The language should be clear, concise, and unambiguous.\n",
        "#     - **Objectivity:** Present information factually and avoid personal opinions or biased language.\n",
        "#     - **Evidence-based:** Support all claims with evidence from the provided findings.\n",
        "#     - **Formal Tone:** Maintain a formal and professional tone throughout the paper.\n",
        "\n",
        "# **Format:**\n",
        "# - **Introduction:** Provide an overview of the topic, its significance, and the main points to be discussed.\n",
        "# - **Section 1:\n",
        "# - **Section 2:\n",
        "# - **Section 3:\n",
        "# - **Conclusion:** Summarize the key arguments and provide a concluding statement .\n",
        "\n",
        "# **Output:**\n",
        "# \"\"\"\n",
        "\n",
        "# # Create the final prompt template\n",
        "# final_prompt_template = ChatPromptTemplate.from_template(final_report_prompt)\n",
        "\n",
        "# # Create the final chain\n",
        "# final_chain = final_prompt_template | synthesis_llm\n",
        "\n",
        "# # Invoke the final chain with the topic and the three responses\n",
        "# final_report = final_chain.invoke({\n",
        "#     \"topic\": \"The Impact of Artificial Intelligence on the Future of Work.\",\n",
        "#     \"response_1\": response_1,\n",
        "#     \"response_2\": response_2,\n",
        "#     \"response_3\": response_3\n",
        "# }).content\n",
        "\n"
      ]
    },
    {
      "cell_type": "code",
      "execution_count": 74,
      "metadata": {
        "colab": {
          "base_uri": "https://localhost:8080/"
        },
        "id": "Yroya2hmC9-s",
        "outputId": "d5110329-fc9b-472e-a87c-84b53f2d04ae"
      },
      "outputs": [
        {
          "name": "stdout",
          "output_type": "stream",
          "text": [
            "## The Impact of Artificial Intelligence on the Future of Work\n",
            "\n",
            "**Introduction:**\n",
            "\n",
            "Artificial intelligence (AI) is rapidly transforming various aspects of modern life, and its impact on the future of work is particularly profound and multifaceted. This paper examines the dual-natured consequences of AI on employment, exploring both the displacement of workers in certain sectors and the creation of new opportunities.  Furthermore, it addresses the crucial ethical considerations arising from AI implementation and the importance of proactive strategies, such as upskilling and reskilling initiatives, to mitigate potential negative impacts and harness the transformative potential of AI for workforce advancement.\n",
            "\n",
            "**Section 1: The Dual-Faced Nature of AI's Impact on Employment**\n",
            "\n",
            "The integration of AI into the workplace presents a complex scenario characterized by both job displacement and the creation of new roles.  Finding 1 highlights this duality, noting that while AI-driven automation leads to job losses in sectors reliant on repetitive tasks, it simultaneously generates new employment opportunities.  These new roles are often highly specialized, demanding expertise in areas such as AI ethics, machine learning engineering, and AI system development and maintenance.  This transformative effect necessitates a significant shift in workforce skills and education.  The net result is not simply a reduction in overall employment, but rather a reshaping of the job market, requiring both individuals and industries to adapt to this evolving landscape.  The demand for specialized training and education programs will be crucial in bridging the skills gap and ensuring a smooth transition for workers affected by automation.\n",
            "\n",
            "**Section 2: Ethical Considerations in AI Implementation**\n",
            "\n",
            "The widespread adoption of AI raises significant ethical concerns, as highlighted in Finding 2.  AI systems, trained on vast datasets, are susceptible to inheriting and amplifying existing societal biases.  This can lead to unfair and discriminatory outcomes in various applications, including hiring processes, loan applications, and even criminal justice.  The potential for algorithmic bias necessitates a collaborative effort involving technologists, ethicists, and policymakers to establish robust ethical guidelines, regulations, and best practices for AI development and deployment.  The focus should be on ensuring fairness, accountability, and transparency in AI systems to mitigate potential harm and promote equitable outcomes.  Addressing these ethical challenges is paramount for responsible AI innovation and the prevention of exacerbating existing societal inequalities.\n",
            "\n",
            "**Section 3:  Addressing Anxiety and Harnessing Opportunities through Upskilling and Reskilling**\n",
            "\n",
            "Finding 3 underscores the anxieties and opportunities presented by AI's impact on the workforce.  The reported fear of job obsolescence among 22% of workers, coupled with the anticipation of AI-driven job displacement by 72% of Chief Human Resource Officers within three years, highlights the urgency of proactive measures.  However, the same finding also emphasizes the potential for growth through upskilling and reskilling initiatives.  These programs are crucial in equipping employees with the skills necessary to adapt to the changing job market, enabling them to transition into new roles or enhance their existing capabilities by focusing on higher-value tasks that are less susceptible to automation.  Investing in employee development is not merely a response to potential job losses; it is a strategic investment in harnessing the transformative potential of AI for workforce advancement and ensuring a more equitable and prosperous future.\n",
            "\n",
            "\n",
            "**Conclusion:**\n",
            "\n",
            "The impact of AI on the future of work is undeniably transformative, presenting both challenges and opportunities.  While AI-driven automation will undoubtedly displace workers in certain sectors, it will also create new, specialized roles.  Addressing the ethical concerns surrounding AI bias is crucial for responsible innovation and the prevention of exacerbating societal inequalities.  Proactive investment in upskilling and reskilling initiatives is essential to mitigate the anxieties surrounding job displacement and to harness the potential of AI for workforce advancement.  A collaborative effort involving governments, industries, and educational institutions is necessary to navigate this complex transition and ensure a future where AI benefits all members of society.  The future of work in the age of AI will be defined not only by technological advancements but also by our collective commitment to ethical considerations and proactive workforce development.\n"
          ]
        }
      ],
      "source": [
        "print(final_report)"
      ]
    },
    {
      "cell_type": "code",
      "execution_count": 20,
      "metadata": {
        "colab": {
          "base_uri": "https://localhost:8080/"
        },
        "id": "8bDN0H8EDBxH",
        "outputId": "61925d5e-839a-40d2-a17f-bcc9fa92d73c"
      },
      "outputs": [
        {
          "data": {
            "text/plain": [
              "<langgraph.graph.state.StateGraph at 0x7f5e94097350>"
            ]
          },
          "execution_count": 20,
          "metadata": {},
          "output_type": "execute_result"
        }
      ],
      "source": [
        "workflow.add_node(\"planning\",planning_node)\n",
        "workflow.add_node(\"websearch\",websearch)\n",
        "workflow.add_node(\"researcher\",researcher_node)\n",
        "workflow.add_node(\"synthesis\",synthesis_node)\n",
        "# workflow.add_node(\"evaluation\",evaluation_node)"
      ]
    },
    {
      "cell_type": "code",
      "execution_count": 21,
      "metadata": {
        "colab": {
          "base_uri": "https://localhost:8080/"
        },
        "id": "h2N_mQ8kHJpy",
        "outputId": "5d3f2f51-70fe-4b51-e426-a36108e2fb64"
      },
      "outputs": [
        {
          "data": {
            "text/plain": [
              "<langgraph.graph.state.StateGraph at 0x7f5e94097350>"
            ]
          },
          "execution_count": 21,
          "metadata": {},
          "output_type": "execute_result"
        }
      ],
      "source": [
        "workflow.add_edge(START,\"planning\")"
      ]
    },
    {
      "cell_type": "code",
      "execution_count": 22,
      "metadata": {
        "colab": {
          "base_uri": "https://localhost:8080/"
        },
        "id": "p0gqh6VwHBZp",
        "outputId": "68248fb6-9690-4dec-9edb-f78fdb19e6d1"
      },
      "outputs": [
        {
          "data": {
            "text/plain": [
              "<langgraph.graph.state.StateGraph at 0x7f5e94097350>"
            ]
          },
          "execution_count": 22,
          "metadata": {},
          "output_type": "execute_result"
        }
      ],
      "source": [
        "workflow.add_edge(\"planning\",\"websearch\")\n",
        "workflow.add_edge(\"websearch\",\"researcher\")\n",
        "workflow.add_edge(\"researcher\",\"synthesis\")\n",
        "workflow.add_edge(\"synthesis\",END)\n",
        "# workflow.add_edge(\"synthesis\",\"evaluation\")"
      ]
    },
    {
      "cell_type": "code",
      "execution_count": 23,
      "metadata": {
        "id": "GA6NvCqnHkOJ"
      },
      "outputs": [],
      "source": [
        "app=workflow.compile()"
      ]
    },
    {
      "cell_type": "code",
      "execution_count": 24,
      "metadata": {
        "colab": {
          "base_uri": "https://localhost:8080/",
          "height": 548
        },
        "id": "OmPiFFp4HnDq",
        "outputId": "baff7509-36f1-4873-9a49-ab911f41ee2f"
      },
      "outputs": [
        {
          "data": {
            "image/png": "[encoded data removed]",
            "text/plain": [
              "<langgraph.graph.state.CompiledStateGraph object at 0x7f5e8e68e050>"
            ]
          },
          "execution_count": 24,
          "metadata": {},
          "output_type": "execute_result"
        }
      ],
      "source": [
        "app"
      ]
    },
    {
      "cell_type": "code",
      "execution_count": null,
      "metadata": {
        "collapsed": true,
        "id": "s4kK4KNLHnuF"
      },
      "outputs": [],
      "source": [
        "import pprint\n",
        "topic=\"The Role of Blockchain Technology in Supply Chain Management\"\n",
        "result=app.invoke({\"research_topic\":topic})\n",
        "\n",
        "# pprint.pprint(result)\n"
      ]
    },
    {
      "cell_type": "code",
      "execution_count": 28,
      "metadata": {
        "colab": {
          "base_uri": "https://localhost:8080/"
        },
        "id": "6kMcgXZaJyuK",
        "outputId": "7e03446d-8adb-4e81-e1f8-e529dd8e6bd0"
      },
      "outputs": [
        {
          "name": "stdout",
          "output_type": "stream",
          "text": [
            "('## The Role of Blockchain Technology in Supply Chain Management\\n'\n",
            " '\\n'\n",
            " '**Abstract:** This paper examines the transformative potential of blockchain '\n",
            " 'technology in revolutionizing supply chain management (SCM).  We analyze its '\n",
            " 'impact on transparency, traceability, and efficiency, while also addressing '\n",
            " 'crucial security and adoption challenges.  Findings suggest that while '\n",
            " 'blockchain offers significant benefits, successful implementation requires '\n",
            " 'careful consideration of security risks and a strategic approach to '\n",
            " 'achieving widespread industry adoption.\\n'\n",
            " '\\n'\n",
            " '**Introduction:**  Global supply chains are complex networks characterized '\n",
            " 'by multiple stakeholders, geographically dispersed operations, and '\n",
            " 'information asymmetry.  This complexity often leads to inefficiencies, lack '\n",
            " 'of transparency, and increased vulnerability to disruptions.  Blockchain '\n",
            " 'technology, with its immutable ledger and shared data architecture, presents '\n",
            " 'a promising solution to these challenges. This paper explores the role of '\n",
            " 'blockchain in SCM, focusing on its benefits, associated risks, and the '\n",
            " 'factors influencing its widespread adoption.\\n'\n",
            " '\\n'\n",
            " '**Section 1: Enhancing Transparency and Traceability in Supply Chains**\\n'\n",
            " '\\n'\n",
            " 'Findings 1 and 3 converge to highlight the core benefit of blockchain in '\n",
            " 'SCM: enhanced transparency and traceability.  The immutable, shared ledger '\n",
            " \"provides a verifiable record of a product's journey from origin to consumer. \"\n",
            " 'This single source of truth eliminates information asymmetry, a persistent '\n",
            " 'problem in traditional supply chains where information is often siloed and '\n",
            " 'controlled by individual actors.  All participants – from producers and '\n",
            " 'manufacturers to distributors and retailers – gain access to the same '\n",
            " 'information, fostering trust and collaboration.  This increased visibility '\n",
            " 'allows for quicker identification of issues, such as counterfeit products or '\n",
            " 'supply chain disruptions, enabling more rapid and effective responses.  The '\n",
            " 'inherent security of the blockchain further minimizes risks associated with '\n",
            " 'data manipulation or fraud.\\n'\n",
            " '\\n'\n",
            " '**Section 2: Security and Privacy Considerations in Blockchain-based SCM**\\n'\n",
            " '\\n'\n",
            " 'While the potential benefits of blockchain in SCM are significant, Finding 2 '\n",
            " 'emphasizes the critical importance of addressing security and privacy '\n",
            " 'concerns.  The security of the blockchain itself, the chosen consensus '\n",
            " 'mechanism, and the functionality of smart contracts are all potential '\n",
            " 'vulnerabilities.  Data confidentiality and integrity are paramount, '\n",
            " 'requiring robust security protocols and careful consideration of data access '\n",
            " 'controls.  A comprehensive risk assessment, tailored to the specific type of '\n",
            " 'blockchain being implemented, is crucial before deployment.  Furthermore, '\n",
            " 'successful adoption requires demonstrating clear business value to '\n",
            " 'executives and overcoming the challenges of achieving industry '\n",
            " 'standardization.  The development of internal blockchain expertise within '\n",
            " 'organizations is also essential for effective implementation and '\n",
            " 'management.  The current limited global implementation underscores the need '\n",
            " 'to address these challenges.\\n'\n",
            " '\\n'\n",
            " '**Section 3:  Challenges and Future Directions for Blockchain Adoption in '\n",
            " 'SCM**\\n'\n",
            " '\\n'\n",
            " 'The successful integration of blockchain into SCM faces several hurdles.  As '\n",
            " 'highlighted in Finding 2, the lack of widespread adoption is partly due to '\n",
            " 'the need for clear demonstration of return on investment (ROI) to '\n",
            " 'stakeholders.  Overcoming this requires a strategic approach focusing on '\n",
            " 'specific use cases where the benefits are readily apparent, such as tracking '\n",
            " 'high-value goods or combating counterfeiting.  Furthermore, the development '\n",
            " 'of industry standards and interoperability between different blockchain '\n",
            " 'platforms is crucial for seamless integration across the entire supply '\n",
            " 'chain.  Addressing security and privacy concerns through robust protocols '\n",
            " 'and regulatory frameworks is also essential to build trust and encourage '\n",
            " 'wider adoption.  Finally, investment in education and training to develop '\n",
            " 'internal blockchain expertise within organizations will be vital for '\n",
            " 'successful implementation and management.\\n'\n",
            " '\\n'\n",
            " '**Conclusion:**\\n'\n",
            " '\\n'\n",
            " 'Blockchain technology holds immense potential to transform supply chain '\n",
            " 'management by enhancing transparency, traceability, and efficiency.  The '\n",
            " 'immutable ledger and shared data architecture offer significant advantages '\n",
            " 'in combating fraud, improving responsiveness to disruptions, and fostering '\n",
            " 'trust among stakeholders.  However, realizing this potential requires '\n",
            " 'careful consideration of security and privacy risks, a strategic approach to '\n",
            " 'adoption, and a commitment to developing industry standards and internal '\n",
            " 'expertise.  While current global implementation remains limited, addressing '\n",
            " 'these challenges will pave the way for widespread adoption and unlock the '\n",
            " 'transformative power of blockchain in revolutionizing global supply chains.  '\n",
            " 'Future research should focus on developing robust security protocols, '\n",
            " 'exploring innovative applications of blockchain in SCM, and evaluating the '\n",
            " 'long-term economic and social impacts of its widespread adoption.')\n"
          ]
        }
      ],
      "source": [
        "pprint.pprint(result['final_report'])"
      ]
    },
    {
      "cell_type": "code",
      "execution_count": 27,
      "metadata": {
        "colab": {
          "base_uri": "https://localhost:8080/"
        },
        "id": "hiesad8OJg4Y",
        "outputId": "6b257b85-bbbf-4774-c8fd-945e7e0d4ef6"
      },
      "outputs": [
        {
          "name": "stdout",
          "output_type": "stream",
          "text": [
            "## The Role of Blockchain Technology in Supply Chain Management\n",
            "\n",
            "**Abstract:** This paper examines the transformative potential of blockchain technology in revolutionizing supply chain management (SCM).  We analyze its impact on transparency, traceability, and efficiency, while also addressing crucial security and adoption challenges.  Findings suggest that while blockchain offers significant benefits, successful implementation requires careful consideration of security risks and a strategic approach to achieving widespread industry adoption.\n",
            "\n",
            "**Introduction:**  Global supply chains are complex networks characterized by multiple stakeholders, geographically dispersed operations, and information asymmetry.  This complexity often leads to inefficiencies, lack of transparency, and increased vulnerability to disruptions.  Blockchain technology, with its immutable ledger and shared data architecture, presents a promising solution to these challenges. This paper explores the role of blockchain in SCM, focusing on its benefits, associated risks, and the factors influencing its widespread adoption.\n",
            "\n",
            "**Section 1: Enhancing Transparency and Traceability in Supply Chains**\n",
            "\n",
            "Findings 1 and 3 converge to highlight the core benefit of blockchain in SCM: enhanced transparency and traceability.  The immutable, shared ledger provides a verifiable record of a product's journey from origin to consumer. This single source of truth eliminates information asymmetry, a persistent problem in traditional supply chains where information is often siloed and controlled by individual actors.  All participants – from producers and manufacturers to distributors and retailers – gain access to the same information, fostering trust and collaboration.  This increased visibility allows for quicker identification of issues, such as counterfeit products or supply chain disruptions, enabling more rapid and effective responses.  The inherent security of the blockchain further minimizes risks associated with data manipulation or fraud.\n",
            "\n",
            "**Section 2: Security and Privacy Considerations in Blockchain-based SCM**\n",
            "\n",
            "While the potential benefits of blockchain in SCM are significant, Finding 2 emphasizes the critical importance of addressing security and privacy concerns.  The security of the blockchain itself, the chosen consensus mechanism, and the functionality of smart contracts are all potential vulnerabilities.  Data confidentiality and integrity are paramount, requiring robust security protocols and careful consideration of data access controls.  A comprehensive risk assessment, tailored to the specific type of blockchain being implemented, is crucial before deployment.  Furthermore, successful adoption requires demonstrating clear business value to executives and overcoming the challenges of achieving industry standardization.  The development of internal blockchain expertise within organizations is also essential for effective implementation and management.  The current limited global implementation underscores the need to address these challenges.\n",
            "\n",
            "**Section 3:  Challenges and Future Directions for Blockchain Adoption in SCM**\n",
            "\n",
            "The successful integration of blockchain into SCM faces several hurdles.  As highlighted in Finding 2, the lack of widespread adoption is partly due to the need for clear demonstration of return on investment (ROI) to stakeholders.  Overcoming this requires a strategic approach focusing on specific use cases where the benefits are readily apparent, such as tracking high-value goods or combating counterfeiting.  Furthermore, the development of industry standards and interoperability between different blockchain platforms is crucial for seamless integration across the entire supply chain.  Addressing security and privacy concerns through robust protocols and regulatory frameworks is also essential to build trust and encourage wider adoption.  Finally, investment in education and training to develop internal blockchain expertise within organizations will be vital for successful implementation and management.\n",
            "\n",
            "**Conclusion:**\n",
            "\n",
            "Blockchain technology holds immense potential to transform supply chain management by enhancing transparency, traceability, and efficiency.  The immutable ledger and shared data architecture offer significant advantages in combating fraud, improving responsiveness to disruptions, and fostering trust among stakeholders.  However, realizing this potential requires careful consideration of security and privacy risks, a strategic approach to adoption, and a commitment to developing industry standards and internal expertise.  While current global implementation remains limited, addressing these challenges will pave the way for widespread adoption and unlock the transformative power of blockchain in revolutionizing global supply chains.  Future research should focus on developing robust security protocols, exploring innovative applications of blockchain in SCM, and evaluating the long-term economic and social impacts of its widespread adoption.\n"
          ]
        }
      ],
      "source": [
        "print(result['final_report'])"
      ]
    },
    {
      "cell_type": "code",
      "execution_count": 29,
      "metadata": {
        "id": "LjRNAWWOIVjE"
      },
      "outputs": [],
      "source": [
        "topic=\"The Effects of Climate Change on Coastal Ecosystems\"\n",
        "result=app.invoke({\"research_topic\":topic})\n",
        "\n",
        "\n"
      ]
    },
    {
      "cell_type": "code",
      "execution_count": 30,
      "metadata": {
        "colab": {
          "base_uri": "https://localhost:8080/"
        },
        "id": "oTEbMFHNKNUi",
        "outputId": "7a05cb37-7fbc-4895-86a5-36d814218f92"
      },
      "outputs": [
        {
          "name": "stdout",
          "output_type": "stream",
          "text": [
            "('## The Devastating Impacts of Climate Change on Coastal Ecosystems\\n'\n",
            " '\\n'\n",
            " '**Introduction:**\\n'\n",
            " '\\n'\n",
            " 'Coastal ecosystems, encompassing vital habitats like wetlands and marine '\n",
            " 'environments, provide crucial ecosystem services, including shoreline '\n",
            " 'protection, fisheries, and carbon sequestration.  However, these ecosystems '\n",
            " 'are increasingly threatened by climate change, primarily through sea level '\n",
            " 'rise (SLR) and ocean acidification. This paper examines the multifaceted '\n",
            " 'impacts of climate change on coastal ecosystems, synthesizing research '\n",
            " 'findings on the detrimental effects of SLR on coastal wetlands and the '\n",
            " 'consequences of ocean acidification on marine biodiversity and ecosystem '\n",
            " 'services.\\n'\n",
            " '\\n'\n",
            " '**Section 1: The Impact of Sea Level Rise on Coastal Wetlands**\\n'\n",
            " '\\n'\n",
            " 'Findings 1 and 3 converge to highlight the catastrophic effects of SLR on '\n",
            " 'coastal wetlands.  Rising sea levels fundamentally alter the hydrological '\n",
            " 'regime of these ecosystems, leading to increased soil saturation, '\n",
            " 'inundation, and salinity.  These changes pose a significant threat to '\n",
            " 'wetland flora and fauna, impacting their survival and reproductive success.  '\n",
            " 'Predictions indicate a substantial loss of global wetland habitats, ranging '\n",
            " 'from 20% to 70% by 2080, depending on the extent of future development '\n",
            " '(Findings 1 & 3). This habitat loss directly translates to a reduction in '\n",
            " 'crucial ecosystem services, such as shoreline protection against erosion and '\n",
            " 'storm surges.  Furthermore, the altered hydrological conditions lead to '\n",
            " 'episodic flooding and permanent inundation, destroying vital nesting sites '\n",
            " 'for birds and turtles (Findings 1 & 3).  Persistent inundation also '\n",
            " 'accelerates erosion and salinity changes, further contributing to habitat '\n",
            " 'loss. While some species may exhibit adaptive responses, such as range '\n",
            " 'shifts, the loss of habitat connectivity due to erosion hinders migration '\n",
            " 'and reduces the overall survival prospects of many species (Findings 1 & '\n",
            " '3).  The combined effects of habitat loss, altered hydrological conditions, '\n",
            " 'and reduced connectivity paint a grim picture for the future of coastal '\n",
            " 'wetlands.\\n'\n",
            " '\\n'\n",
            " '**Section 2: Ocean Acidification and its Consequences for Marine '\n",
            " 'Ecosystems**\\n'\n",
            " '\\n'\n",
            " 'Finding 2 focuses on the detrimental effects of ocean acidification, another '\n",
            " 'significant consequence of climate change.  The absorption of excess '\n",
            " 'atmospheric CO2 by the oceans leads to a decrease in ocean pH, a process '\n",
            " 'known as ocean acidification. This reduced pH hinders the ability of many '\n",
            " 'marine organisms, particularly shellfish and corals, to build and maintain '\n",
            " 'their shells and skeletons.  The consequences are far-reaching, threatening '\n",
            " 'biodiversity and impacting fisheries and aquaculture, which are crucial for '\n",
            " 'food security and coastal economies.  The rapid pace of ocean acidification '\n",
            " 'leaves little time for adaptation, leading to widespread negative '\n",
            " 'consequences, including potential extinctions and a dramatic reduction in '\n",
            " 'ocean ecosystem diversity (Finding 2).  The loss of these organisms disrupts '\n",
            " 'the intricate food webs within marine ecosystems, cascading through the '\n",
            " 'trophic levels and impacting the overall health and productivity of the '\n",
            " 'ocean.\\n'\n",
            " '\\n'\n",
            " '**Section 3: Synergistic Effects and Future Implications**\\n'\n",
            " '\\n'\n",
            " 'The impacts of SLR and ocean acidification are not isolated events; they '\n",
            " 'often interact synergistically, exacerbating the overall negative effects on '\n",
            " 'coastal ecosystems. For instance, SLR can lead to increased salinity in '\n",
            " 'coastal wetlands, further stressing already vulnerable species.  Similarly, '\n",
            " 'ocean acidification can weaken the shells of organisms, making them more '\n",
            " 'susceptible to the physical impacts of SLR, such as increased wave action '\n",
            " 'and erosion.  The combined effects of these stressors pose a significant '\n",
            " 'challenge to the resilience and long-term sustainability of coastal '\n",
            " 'ecosystems.  The projected losses of habitat and biodiversity have profound '\n",
            " 'implications for human societies, impacting food security, coastal '\n",
            " 'protection, and the overall well-being of coastal communities.\\n'\n",
            " '\\n'\n",
            " '**Conclusion:**\\n'\n",
            " '\\n'\n",
            " 'Climate change, through SLR and ocean acidification, poses a severe and '\n",
            " 'multifaceted threat to coastal ecosystems.  The predicted losses of wetland '\n",
            " 'habitats and the decline in marine biodiversity have far-reaching '\n",
            " 'consequences for both the environment and human societies.  Addressing '\n",
            " 'climate change through mitigation and adaptation strategies is crucial to '\n",
            " 'safeguarding the future of these vital ecosystems and the services they '\n",
            " 'provide.  Further research is needed to fully understand the complex '\n",
            " 'interactions between different climate change stressors and to develop '\n",
            " 'effective strategies for conservation and management of coastal ecosystems '\n",
            " 'in the face of ongoing climate change.')\n"
          ]
        }
      ],
      "source": [
        "pprint.pprint(result['final_report'])"
      ]
    },
    {
      "cell_type": "code",
      "execution_count": 31,
      "metadata": {
        "id": "a5ZKM8U2IZ4p"
      },
      "outputs": [],
      "source": [
        "topic=\"The Evolution of Cybersecurity Threats and Defense Strategies\"\n",
        "result=app.invoke({\"research_topic\":topic})\n"
      ]
    },
    {
      "cell_type": "code",
      "execution_count": 32,
      "metadata": {
        "colab": {
          "base_uri": "https://localhost:8080/"
        },
        "id": "sVFlUpMfKeVe",
        "outputId": "3b0dce0d-af8a-427e-8fa7-5db6efd8321c"
      },
      "outputs": [
        {
          "name": "stdout",
          "output_type": "stream",
          "text": [
            "('## The Evolution of Cybersecurity Threats and Defense Strategies\\n'\n",
            " '\\n'\n",
            " '**Abstract:** This paper examines the evolution of cybersecurity threats and '\n",
            " 'the corresponding adaptations in defense strategies.  Analyzing prominent '\n",
            " 'attacks from the Morris Worm to recent supply chain compromises, we '\n",
            " 'demonstrate a clear shift from simple network intrusions to highly '\n",
            " 'sophisticated, targeted attacks with significant real-world consequences.  '\n",
            " 'The paper further explores the transition from basic security measures like '\n",
            " 'traditional firewalls to more integrated and AI-powered solutions, '\n",
            " 'highlighting the necessity of a holistic approach to cybersecurity defense '\n",
            " 'in the face of evolving threats.\\n'\n",
            " '\\n'\n",
            " '**Introduction:** The digital landscape has witnessed a dramatic escalation '\n",
            " 'in the sophistication and impact of cybersecurity threats.  From the '\n",
            " 'relatively simple exploits of early network worms to the highly targeted and '\n",
            " 'disruptive attacks of today, the evolution of these threats necessitates a '\n",
            " 'continuous adaptation of defense strategies. This paper analyzes this '\n",
            " 'evolution, tracing the progression of attack vectors and the corresponding '\n",
            " 'development of more robust and integrated security solutions.  We will '\n",
            " 'examine specific examples of significant attacks, highlighting the changing '\n",
            " 'nature of threats and the crucial role of advanced technologies in '\n",
            " 'mitigating risk.\\n'\n",
            " '\\n'\n",
            " '**Section 1: The Evolving Landscape of Cybersecurity Threats**\\n'\n",
            " '\\n'\n",
            " 'The history of cybersecurity threats reveals a clear trajectory of '\n",
            " 'increasing sophistication.  Early attacks, such as the 1988 Morris Worm '\n",
            " '(Finding 1, Finding 3), primarily exploited vulnerabilities in network '\n",
            " 'systems.  These attacks, while disruptive, lacked the precision and '\n",
            " 'targeting capabilities of modern threats.  The 1990s saw the emergence of '\n",
            " 'social engineering techniques, exemplified by the AOHell attack (Finding 1, '\n",
            " 'Finding 3), demonstrating a shift towards exploiting human vulnerabilities.  '\n",
            " 'However, the past two decades have witnessed a dramatic escalation in the '\n",
            " 'complexity and impact of cyberattacks.\\n'\n",
            " '\\n'\n",
            " 'The 2017 WannaCry ransomware attack (Finding 1, Finding 3), attributed to '\n",
            " 'North Korea, highlighted the global reach and devastating potential of such '\n",
            " 'threats.  The attack leveraged the EternalBlue exploit, demonstrating the '\n",
            " 'significant impact of vulnerabilities in widely used software.  Furthermore, '\n",
            " 'the rise of supply chain attacks, as exemplified by the 2020 SolarWinds '\n",
            " 'breach (Finding 1, Finding 3), represents a significant evolution.  These '\n",
            " 'attacks target software updates, allowing attackers to compromise numerous '\n",
            " 'organizations simultaneously, highlighting the interconnectedness of modern '\n",
            " 'systems and the vulnerability of the supply chain.  The 2021 Colonial '\n",
            " 'Pipeline ransomware attack (Finding 1, Finding 3) further underscored the '\n",
            " 'potential for significant real-world disruption, impacting critical '\n",
            " 'infrastructure and demonstrating the tangible consequences of successful '\n",
            " 'cyberattacks.  Finally, large-scale data breaches, such as the Marriott '\n",
            " 'incident (Finding 1, Finding 3), expose vast amounts of sensitive personal '\n",
            " 'information, leading to significant financial and reputational damage.  This '\n",
            " 'evolution demonstrates a clear shift from simple network exploits to highly '\n",
            " 'targeted and impactful attacks designed to maximize disruption and financial '\n",
            " 'gain.\\n'\n",
            " '\\n'\n",
            " '**Section 2:  The Adaptation of Cybersecurity Defense Strategies**\\n'\n",
            " '\\n'\n",
            " 'The evolution of cybersecurity threats has necessitated a corresponding '\n",
            " 'evolution in defense strategies.  Traditional firewalls, while providing '\n",
            " 'basic network protection, are insufficient to address the complexity of '\n",
            " 'modern attacks (Finding 2).  The limitations of traditional firewalls have '\n",
            " 'led to the development of Next-Generation Firewalls (NGFWs), which offer '\n",
            " 'enhanced security through integration with other security tools such as '\n",
            " 'Security Information and Event Management (SIEM) systems and Endpoint '\n",
            " 'Detection and Response (EDR) solutions (Finding 2).  This integrated '\n",
            " 'approach allows for comprehensive threat detection, analysis, and response.\\n'\n",
            " '\\n'\n",
            " 'Furthermore, the increasing sophistication of attacks necessitates the '\n",
            " 'incorporation of Artificial Intelligence (AI) into cybersecurity defenses '\n",
            " '(Finding 2).  AI-powered solutions offer enhanced threat detection '\n",
            " 'capabilities, automating responses to known threats and providing advanced '\n",
            " 'analytics for identifying emerging patterns and vulnerabilities.  AI also '\n",
            " 'plays a crucial role in risk management, allowing organizations to '\n",
            " 'proactively identify and mitigate potential threats.  Beyond advanced '\n",
            " 'technologies, fundamental security practices remain crucial.  Data security, '\n",
            " 'robust identity management systems, and a secure network infrastructure '\n",
            " 'continue to be essential components of a holistic cybersecurity strategy '\n",
            " '(Finding 2).\\n'\n",
            " '\\n'\n",
            " '**Section 3:  The Ongoing Arms Race**\\n'\n",
            " '\\n'\n",
            " 'The evolution of cybersecurity threats and defenses is an ongoing arms '\n",
            " 'race.  As attackers develop more sophisticated techniques, defenders must '\n",
            " 'continuously adapt and innovate to maintain effective protection.  The '\n",
            " 'integration of AI, advanced analytics, and a holistic approach to security '\n",
            " 'are crucial in this ongoing battle.  The focus must shift from reactive '\n",
            " 'measures to proactive risk management, anticipating and mitigating potential '\n",
            " 'threats before they can be exploited.  Furthermore, collaboration and '\n",
            " 'information sharing within the cybersecurity community are essential for '\n",
            " 'effectively combating the ever-evolving landscape of cyber threats.\\n'\n",
            " '\\n'\n",
            " '**Conclusion:**  The evolution of cybersecurity threats, from simple network '\n",
            " 'intrusions to highly targeted and impactful attacks, necessitates a '\n",
            " 'continuous adaptation of defense strategies.  The transition from '\n",
            " 'traditional firewalls to integrated NGFWs, coupled with the incorporation of '\n",
            " 'AI-powered solutions, represents a crucial step in mitigating the risks '\n",
            " 'posed by modern cyberattacks.  However, the ongoing arms race between '\n",
            " 'attackers and defenders requires a proactive and holistic approach, '\n",
            " 'emphasizing continuous innovation, collaboration, and a strong focus on '\n",
            " 'proactive risk management to ensure the security of digital systems and '\n",
            " 'infrastructure in the face of ever-evolving threats.')\n"
          ]
        }
      ],
      "source": [
        "pprint.pprint(result['final_report'])"
      ]
    },
    {
      "cell_type": "code",
      "execution_count": null,
      "metadata": {
        "id": "4aNss-cMKg2S"
      },
      "outputs": [],
      "source": []
    }
  ],
  "metadata": {
    "colab": {
      "provenance": []
    },
    "kernelspec": {
      "display_name": "Python 3",
      "name": "python3"
    },
    "language_info": {
      "name": "python"
    }
  },
  "nbformat": 4,
  "nbformat_minor": 0
}
