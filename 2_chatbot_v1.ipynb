{
  "cells": [
    {
      "cell_type": "code",
      "execution_count": 1,
      "metadata": {
        "id": "QhcmZXaAcN_8"
      },
      "outputs": [],
      "source": [
        "%%capture\n",
        "!pip install langchain_core langchain langchain_community langgraph langchain-google-genai"
      ]
    },
    {
      "cell_type": "code",
      "execution_count": null,
      "metadata": {
        "id": "FYwtjKu6ceRB"
      },
      "outputs": [],
      "source": [
        "import os\n",
        "\n",
        "\n",
        "os.environ[\"GOOGLE_API_KEY\"]=google_api_key"
      ]
    },
    {
      "cell_type": "code",
      "execution_count": 3,
      "metadata": {
        "id": "-MZtamScctdC"
      },
      "outputs": [],
      "source": [
        "from langchain_google_genai import ChatGoogleGenerativeAI\n",
        "\n",
        "llm=ChatGoogleGenerativeAI(\n",
        "    model=\"gemini-1.5-flash-latest\",\n",
        "    temperature=0\n",
        "    )"
      ]
    },
    {
      "cell_type": "code",
      "execution_count": 5,
      "metadata": {
        "id": "zoznqxr-dHLh"
      },
      "outputs": [],
      "source": [
        "from langgraph.graph import START,END,StateGraph\n",
        "from typing_extensions import TypedDict\n",
        "from typing import List,Annotated\n",
        "from langgraph.graph.message import add_messages\n",
        "from langgraph.checkpoint.memory import InMemorySaver"
      ]
    },
    {
      "cell_type": "code",
      "execution_count": 6,
      "metadata": {
        "id": "aL6-lfJadViK"
      },
      "outputs": [],
      "source": [
        "class ChatState(TypedDict):\n",
        "  messages:Annotated[List[str],add_messages]\n"
      ]
    },
    {
      "cell_type": "code",
      "execution_count": 7,
      "metadata": {
        "id": "YIZE_IgJpv2m"
      },
      "outputs": [],
      "source": [
        "from langchain_community.tools import TavilySearchResults\n"
      ]
    },
    {
      "cell_type": "code",
      "execution_count": null,
      "metadata": {
        "id": "jiHgkfMgHKMU"
      },
      "outputs": [],
      "source": []
    },
    {
      "cell_type": "code",
      "execution_count": 9,
      "metadata": {
        "id": "kGjThsQ7vOWJ"
      },
      "outputs": [],
      "source": [
        "from langchain_core.tools import tool\n",
        "@tool\n",
        "def human_assistance(query: str) -> str:\n",
        "    \"\"\"Request assistance from a human.\"\"\"\n",
        "    human_response = interrupt({\"query\": query})\n",
        "    return human_response[\"data\"]"
      ]
    },
    {
      "cell_type": "code",
      "execution_count": 10,
      "metadata": {
        "colab": {
          "base_uri": "https://localhost:8080/"
        },
        "id": "JuJQ1KNeugez",
        "outputId": "5c54ea90-396d-49eb-90ad-61ef7e74051f"
      },
      "outputs": [
        {
          "name": "stderr",
          "output_type": "stream",
          "text": [
            "/tmp/ipython-input-2114295455.py:1: LangChainDeprecationWarning: The class `TavilySearchResults` was deprecated in LangChain 0.3.25 and will be removed in 1.0. An updated version of the class exists in the :class:`~langchain-tavily package and should be used instead. To use it run `pip install -U :class:`~langchain-tavily` and import as `from :class:`~langchain_tavily import TavilySearch``.\n",
            "  tool = TavilySearchResults(max_results=2)\n"
          ]
        }
      ],
      "source": [
        "tool = TavilySearchResults(max_results=2)\n",
        "tools=[tool,human_assistance]"
      ]
    },
    {
      "cell_type": "code",
      "execution_count": 39,
      "metadata": {
        "colab": {
          "base_uri": "https://localhost:8080/"
        },
        "id": "DnC7G_pEGGxB",
        "outputId": "c357332a-a95a-4313-d8f1-73a92fe0298a"
      },
      "outputs": [
        {
          "data": {
            "text/plain": [
              "[{'title': 'What is LangGraph?',\n",
              "  'url': 'https://www.ibm.com/think/topics/langgraph',\n",
              "  'content': 'LangGraph, created by LangChain, is an open source AI agent framework designed to build, deploy and manage complex generative AI agent workflows. It provides a set of tools and libraries that enable users to create, run and optimize large language models (LLMs) in a scalable and efficient manner. At its core, LangGraph uses the power of graph-based architectures to model and manage the intricate relationships between various components of an AI agent workflow. [...] Agent systems: LangGraph provides a framework for building agent-based systems, which can be used in applications such as robotics, autonomous vehicles or video games.\\n\\nLLM applications: By using LangGraph’s capabilities, developers can build more sophisticated AI models that learn and improve over time. Norwegian Cruise Line uses LangGraph to compile, construct and refine guest-facing AI solutions. This capability allows for improved and personalized guest experiences.',\n",
              "  'score': 0.90593183},\n",
              " {'title': \"LangGraph Tutorial: Building Agents with LangChain's ... - Zep\",\n",
              "  'url': 'https://www.getzep.com/ai-agents/langgraph-tutorial/',\n",
              "  'content': \"## What is LangGraph?\\n\\nLangGraph is an AI agent framework built on LangChain that allows developers to create more sophisticated and flexible agent workflows. Unlike traditional LangChain chains and agents, LangGraph implements agent interactions as cyclic graphs with multiple-step processing involving branching and loops. This eliminates the need to implement custom logic to control the flow of information between multiple agents in the workflow.\\n\\n### How LangGraph works [...] | Memory management in LangGraph | A LangGraph agent is stateless by default, meaning that it does not remember previous conversations, which limits its ability to have meaningful exchanges. To address this, LangGraph supports both short-term and long-term memory. Memory support in LangGraph can be extended further with Zep Memory. | [...] | Guidelines for building LangGraph agents | LangGraph overcomes LangChain's limitations and is the recommended framework for building agentic architectures. You can integrate tools into your AI agents to provide functionality or fetch information that an LLM agent does not provide. Memory is integral to building production-ready AI agents, and third-party SDKs like Zep simplify adding long-term capabilities. |\",\n",
              "  'score': 0.902481}]"
            ]
          },
          "execution_count": 39,
          "metadata": {},
          "output_type": "execute_result"
        }
      ],
      "source": [
        "tool.invoke(\"langgraph agent\")"
      ]
    },
    {
      "cell_type": "code",
      "execution_count": 11,
      "metadata": {
        "id": "XA0jk21rrRYy"
      },
      "outputs": [],
      "source": [
        "from langgraph.types import Command,interrupt\n",
        "from langgraph.prebuilt import ToolNode,tools_condition"
      ]
    },
    {
      "cell_type": "code",
      "execution_count": 12,
      "metadata": {
        "id": "ygMo8izewIns"
      },
      "outputs": [],
      "source": [
        "llm_with_tool=llm.bind_tools(tools)"
      ]
    },
    {
      "cell_type": "code",
      "execution_count": 13,
      "metadata": {
        "id": "nyYGpPqBeVzd"
      },
      "outputs": [],
      "source": [
        "workflow=StateGraph(ChatState)"
      ]
    },
    {
      "cell_type": "code",
      "execution_count": 14,
      "metadata": {
        "id": "aCCWRAuOeqBv"
      },
      "outputs": [],
      "source": [
        "def chat_node(state:ChatState):\n",
        "  user_input=state['messages']\n",
        "  bot_response=llm_with_tool.invoke(user_input)\n",
        "  assert len(bot_response.tool_calls)<=1\n",
        "\n",
        "  return {\"messages\":[bot_response]}"
      ]
    },
    {
      "cell_type": "code",
      "execution_count": 15,
      "metadata": {
        "id": "uOu11x2rwxBe"
      },
      "outputs": [],
      "source": [
        "tool_node=ToolNode(tools=tools)"
      ]
    },
    {
      "cell_type": "code",
      "execution_count": 16,
      "metadata": {
        "colab": {
          "base_uri": "https://localhost:8080/"
        },
        "id": "fuHsPfqOehyg",
        "outputId": "4f7224fb-a933-484f-95a3-7db78a855e69"
      },
      "outputs": [
        {
          "data": {
            "text/plain": [
              "<langgraph.graph.state.StateGraph at 0x7fa290e4b550>"
            ]
          },
          "execution_count": 16,
          "metadata": {},
          "output_type": "execute_result"
        }
      ],
      "source": [
        "workflow.add_node(\"chat_node\",chat_node)\n",
        "workflow.add_node(\"tools\",tool_node)"
      ]
    },
    {
      "cell_type": "code",
      "execution_count": 17,
      "metadata": {
        "colab": {
          "base_uri": "https://localhost:8080/"
        },
        "id": "9TCGoO7h1Xv9",
        "outputId": "503dd263-26e1-48de-d60d-a87b73dd32dd"
      },
      "outputs": [
        {
          "data": {
            "text/plain": [
              "<langgraph.graph.state.StateGraph at 0x7fa290e4b550>"
            ]
          },
          "execution_count": 17,
          "metadata": {},
          "output_type": "execute_result"
        }
      ],
      "source": [
        "\n",
        "\n",
        "workflow.add_conditional_edges(\n",
        "    \"chat_node\",\n",
        "    tools_condition\n",
        "\n",
        ")\n",
        "workflow.add_edge(\"tools\",\"chat_node\")\n",
        "workflow.add_edge(START,\"chat_node\")"
      ]
    },
    {
      "cell_type": "code",
      "execution_count": 18,
      "metadata": {
        "id": "jWFrmy_DfZD2"
      },
      "outputs": [],
      "source": [
        "# workflow.add_edge(START,\"chat_node\")\n",
        "\n",
        "# workflow.add_conditional_edges(\n",
        "#     \"chat_node\",\n",
        "#     tools_condition\n",
        "\n",
        "# )\n",
        "# workflow.add_edge(\"tools\",\"chat_node\")"
      ]
    },
    {
      "cell_type": "code",
      "execution_count": 19,
      "metadata": {
        "id": "kM7D7IDAgueU"
      },
      "outputs": [],
      "source": [
        "checkpointer=InMemorySaver()"
      ]
    },
    {
      "cell_type": "code",
      "execution_count": 20,
      "metadata": {
        "id": "xpnYJDG6feed"
      },
      "outputs": [],
      "source": [
        "app=workflow.compile(checkpointer=checkpointer)"
      ]
    },
    {
      "cell_type": "code",
      "execution_count": null,
      "metadata": {
        "colab": {
          "base_uri": "https://localhost:8080/"
        },
        "id": "K5AeRonZiHKh",
        "outputId": "f57efa40-fbd8-4ca0-d93e-e37b9119c259"
      },
      "outputs": [
        {
          "data": {
            "text/plain": [
              "{'message': [HumanMessage(content='capital of india ?', additional_kwargs={}, response_metadata={}, id='4740ddb4-e3e2-4791-aeea-b8d3e99d36a2'),\n",
              "  AIMessage(content='The capital of India is **New Delhi**.', additional_kwargs={}, response_metadata={'prompt_feedback': {'block_reason': 0, 'safety_ratings': []}, 'finish_reason': 'STOP', 'model_name': 'gemini-1.5-flash-latest', 'safety_ratings': []}, id='run--0af84277-45ac-4294-b43d-a3c1b1e203dd-0', usage_metadata={'input_tokens': 4, 'output_tokens': 10, 'total_tokens': 14, 'input_token_details': {'cache_read': 0}})]}"
            ]
          },
          "execution_count": 14,
          "metadata": {},
          "output_type": "execute_result"
        }
      ],
      "source": [
        "thread_id=\"1\"\n",
        "config={\"configurable\":{\"thread_id\":thread_id}}\n",
        "response=app.invoke({\"message\":[\"capital of india ?\"]},config=config)\n",
        "response"
      ]
    },
    {
      "cell_type": "code",
      "execution_count": null,
      "metadata": {
        "colab": {
          "base_uri": "https://localhost:8080/",
          "height": 35
        },
        "id": "cf-xp9DEhRC1",
        "outputId": "b01c8540-bb35-4d37-d9da-392faf8a00b0"
      },
      "outputs": [
        {
          "data": {
            "application/vnd.google.colaboratory.intrinsic+json": {
              "type": "string"
            },
            "text/plain": [
              "'The capital of India is **New Delhi**.'"
            ]
          },
          "execution_count": 15,
          "metadata": {},
          "output_type": "execute_result"
        }
      ],
      "source": [
        "response['message'][-1].content"
      ]
    },
    {
      "cell_type": "code",
      "execution_count": null,
      "metadata": {
        "colab": {
          "base_uri": "https://localhost:8080/"
        },
        "id": "etweeCu1hSI9",
        "outputId": "6ea9fec0-22d0-4c08-ccff-643ce7abb79d"
      },
      "outputs": [
        {
          "name": "stdout",
          "output_type": "stream",
          "text": [
            "Welcome \n",
            " enter ' q ' to exit\n",
            "enter : q\n",
            "Thank you...\n",
            " quiting...\n"
          ]
        }
      ],
      "source": [
        "print(\"Welcome \\n enter ' q ' to exit\")\n",
        "while(1):\n",
        "  user_message=input(\"enter : \")\n",
        "\n",
        "  if user_message == \"q\":\n",
        "    print(\"Thank you...\\n quiting...\")\n",
        "    break\n",
        "\n",
        "  response=app.invoke({\"message\":[user_message]},config=config)\n",
        "  print(f\"Bot : {response['message'][-1].content}\")"
      ]
    },
    {
      "cell_type": "code",
      "execution_count": null,
      "metadata": {
        "id": "__F4WlV30aYM"
      },
      "outputs": [],
      "source": []
    },
    {
      "cell_type": "code",
      "execution_count": 21,
      "metadata": {
        "id": "l1GZvnLU0YSY"
      },
      "outputs": [],
      "source": [
        "user_input = \"I need some expert guidance for building an AI agent. Could you request assistance for me?\"\n",
        "res=llm_with_tool.invoke(user_input)"
      ]
    },
    {
      "cell_type": "code",
      "execution_count": 25,
      "metadata": {
        "colab": {
          "base_uri": "https://localhost:8080/"
        },
        "id": "ge3p_rFl2MSd",
        "outputId": "ed75b33c-a703-46a4-a0d9-d72378a1b79c"
      },
      "outputs": [
        {
          "data": {
            "text/plain": [
              "{'function_call': {'name': 'human_assistance',\n",
              "  'arguments': '{\"query\": \"I need some expert guidance for building an AI agent.\"}'}}"
            ]
          },
          "execution_count": 25,
          "metadata": {},
          "output_type": "execute_result"
        }
      ],
      "source": [
        "res.additional_kwargs"
      ]
    },
    {
      "cell_type": "code",
      "execution_count": 24,
      "metadata": {
        "colab": {
          "base_uri": "https://localhost:8080/",
          "height": 35
        },
        "id": "4mA9XRTE6JbX",
        "outputId": "6ec892c1-acbb-4329-f112-443fc1114303"
      },
      "outputs": [
        {
          "data": {
            "application/vnd.google.colaboratory.intrinsic+json": {
              "type": "string"
            },
            "text/plain": [
              "''"
            ]
          },
          "execution_count": 24,
          "metadata": {},
          "output_type": "execute_result"
        }
      ],
      "source": [
        "res.content"
      ]
    },
    {
      "cell_type": "code",
      "execution_count": 26,
      "metadata": {
        "colab": {
          "base_uri": "https://localhost:8080/"
        },
        "id": "noJm6OMk6X6T",
        "outputId": "0a1bb592-a4d0-4522-8704-4cdc97e085a2"
      },
      "outputs": [
        {
          "data": {
            "text/plain": [
              "AIMessage(content='', additional_kwargs={'function_call': {'name': 'human_assistance', 'arguments': '{\"query\": \"I need some expert guidance for building an AI agent.\"}'}}, response_metadata={'prompt_feedback': {'block_reason': 0, 'safety_ratings': []}, 'finish_reason': 'STOP', 'model_name': 'gemini-1.5-flash-latest', 'safety_ratings': []}, id='run--38ec950a-d53a-40d8-8191-3ef0c7e495e3-0', tool_calls=[{'name': 'human_assistance', 'args': {'query': 'I need some expert guidance for building an AI agent.'}, 'id': '893b5a62-4af2-4362-9b60-ea52f5c14070', 'type': 'tool_call'}], usage_metadata={'input_tokens': 80, 'output_tokens': 15, 'total_tokens': 95, 'input_token_details': {'cache_read': 0}})"
            ]
          },
          "execution_count": 26,
          "metadata": {},
          "output_type": "execute_result"
        }
      ],
      "source": [
        "res"
      ]
    },
    {
      "cell_type": "code",
      "execution_count": 22,
      "metadata": {
        "id": "FPgmFDkM6cuk"
      },
      "outputs": [],
      "source": [
        "user_input = \"I need some expert guidance for building an AI agent. Could you request assistance for me?\"\n",
        "config = {\"configurable\": {\"thread_id\": \"1\"}}\n",
        "events = app.stream(\n",
        "    {\"messages\":[user_input]},\n",
        "    config,\n",
        "    stream_mode=\"values\",\n",
        ")"
      ]
    },
    {
      "cell_type": "code",
      "execution_count": 23,
      "metadata": {
        "colab": {
          "base_uri": "https://localhost:8080/"
        },
        "id": "Y9nJ2nmY6jtS",
        "outputId": "e9203f14-b0f2-4f69-ade5-38400f7e51cd"
      },
      "outputs": [
        {
          "name": "stdout",
          "output_type": "stream",
          "text": [
            "================================\u001b[1m Human Message \u001b[0m=================================\n",
            "\n",
            "I need some expert guidance for building an AI agent. Could you request assistance for me?\n",
            "==================================\u001b[1m Ai Message \u001b[0m==================================\n",
            "Tool Calls:\n",
            "  human_assistance (42d25aa0-f964-44bb-8cab-5fe57a51bc4b)\n",
            " Call ID: 42d25aa0-f964-44bb-8cab-5fe57a51bc4b\n",
            "  Args:\n",
            "    query: I need some expert guidance for building an AI agent.\n"
          ]
        }
      ],
      "source": [
        "for event in events:\n",
        "    if \"messages\" in event:\n",
        "        event[\"messages\"][-1].pretty_print()"
      ]
    },
    {
      "cell_type": "code",
      "execution_count": 29,
      "metadata": {
        "colab": {
          "base_uri": "https://localhost:8080/",
          "height": 266
        },
        "id": "FXzRqrdR6mdr",
        "outputId": "717e7287-4c19-4a77-9bc3-00244004b305"
      },
      "outputs": [
        {
          "data": {
            "image/png": "[encoded data removed]",
            "text/plain": [
              "<langgraph.graph.state.CompiledStateGraph object at 0x7d74d13b54d0>"
            ]
          },
          "execution_count": 29,
          "metadata": {},
          "output_type": "execute_result"
        }
      ],
      "source": [
        "app"
      ]
    },
    {
      "cell_type": "code",
      "execution_count": 24,
      "metadata": {
        "id": "pogCxTjo9b5G"
      },
      "outputs": [],
      "source": [
        "human_response = (\n",
        "    \"We, the experts are here to help! We'd recommend you check out LangGraph to build your agent.\"\n",
        "    \" It's much more reliable and extensible than simple autonomous agents.\"\n",
        ")"
      ]
    },
    {
      "cell_type": "code",
      "execution_count": 25,
      "metadata": {
        "id": "WYN_CloF-CrN"
      },
      "outputs": [],
      "source": [
        "human_command=Command(resume={\"data\": human_response})"
      ]
    },
    {
      "cell_type": "code",
      "execution_count": 26,
      "metadata": {
        "id": "qF45iOOZAJh5"
      },
      "outputs": [],
      "source": [
        "events=app.stream(\n",
        "    human_command,\n",
        "    config,\n",
        "    stream_mode=\"values\"\n",
        ")"
      ]
    },
    {
      "cell_type": "code",
      "execution_count": 27,
      "metadata": {
        "colab": {
          "base_uri": "https://localhost:8080/"
        },
        "id": "v7EPBL5bARQc",
        "outputId": "3e2c7791-9bc7-4c43-9080-09b89c799c91"
      },
      "outputs": [
        {
          "name": "stdout",
          "output_type": "stream",
          "text": [
            "==================================\u001b[1m Ai Message \u001b[0m==================================\n",
            "Tool Calls:\n",
            "  human_assistance (42d25aa0-f964-44bb-8cab-5fe57a51bc4b)\n",
            " Call ID: 42d25aa0-f964-44bb-8cab-5fe57a51bc4b\n",
            "  Args:\n",
            "    query: I need some expert guidance for building an AI agent.\n",
            "=================================\u001b[1m Tool Message \u001b[0m=================================\n",
            "Name: human_assistance\n",
            "\n",
            "We, the experts are here to help! We'd recommend you check out LangGraph to build your agent. It's much more reliable and extensible than simple autonomous agents.\n",
            "==================================\u001b[1m Ai Message \u001b[0m==================================\n",
            "\n",
            "OK. I've requested assistance from a human expert.  They suggest checking out LangGraph for building an AI agent, as it's more reliable and extensible than simpler approaches.\n"
          ]
        }
      ],
      "source": [
        "for event in events:\n",
        "  if \"messages\" in event:\n",
        "     event['messages'][-1].pretty_print()"
      ]
    },
    {
      "cell_type": "code",
      "execution_count": 33,
      "metadata": {
        "id": "1bTUymJiAfXd"
      },
      "outputs": [],
      "source": [
        "human_response = (\n",
        "\"\"\"Maybe I'll build an autonomous agent with langraph.\n",
        "\"\"\"\n",
        ")\n",
        "human_command=Command(resume={\"data\": human_response})\n",
        "events=app.stream(\n",
        "    human_command,\n",
        "    config,\n",
        "    stream_mode=\"values\"\n",
        ")\n"
      ]
    },
    {
      "cell_type": "code",
      "execution_count": 32,
      "metadata": {
        "colab": {
          "base_uri": "https://localhost:8080/"
        },
        "id": "WR2NqtYwBduv",
        "outputId": "23105750-7727-4456-ffdb-40966f455925"
      },
      "outputs": [
        {
          "name": "stdout",
          "output_type": "stream",
          "text": [
            "==================================\u001b[1m Ai Message \u001b[0m==================================\n",
            "\n",
            "OK. I've requested assistance from a human expert.  They suggest checking out LangGraph for building an AI agent, as it's more reliable and extensible than simpler approaches.\n"
          ]
        }
      ],
      "source": [
        "for event in events:\n",
        "  if \"messages\" in event:\n",
        "     event['messages'][-1].pretty_print()"
      ]
    },
    {
      "cell_type": "code",
      "execution_count": 37,
      "metadata": {
        "colab": {
          "base_uri": "https://localhost:8080/"
        },
        "id": "jwUDIAONBh62",
        "outputId": "dc5922c2-e931-4281-feb1-b7ed9644b6e5"
      },
      "outputs": [
        {
          "name": "stdout",
          "output_type": "stream",
          "text": [
            "================================\u001b[1m Human Message \u001b[0m=================================\n",
            "\n",
            "I'm learning LangGraph. Could you do some research on it for me? use tavily tool\n",
            "==================================\u001b[1m Ai Message \u001b[0m==================================\n",
            "\n",
            "I cannot directly use the `tavily_search_results_json` function to search for information on LangGraph because I don't have access to a real search engine.  The function is a placeholder; it doesn't actually perform a search.  To get information on LangGraph, you will need to perform the search yourself using a search engine like Google, Bing, or DuckDuckGo.\n",
            "\n",
            "If you have specific questions about LangGraph after doing your own research, I can help you understand the answers or help you formulate more effective search queries.\n"
          ]
        }
      ],
      "source": [
        "user_input = \"I'm learning LangGraph. Could you do some research on it for me? use tavily tool\"\n",
        "config = {\"configurable\": {\"thread_id\": \"1\"}}\n",
        "events = app.stream(\n",
        "    {\"messages\":[user_input]},\n",
        "    config,\n",
        "    stream_mode=\"values\",\n",
        ")\n",
        "for event in events:\n",
        "  if \"messages\" in event:\n",
        "     event['messages'][-1].pretty_print()"
      ]
    },
    {
      "cell_type": "code",
      "execution_count": 38,
      "metadata": {
        "colab": {
          "base_uri": "https://localhost:8080/"
        },
        "id": "Sv8lwaazE9k-",
        "outputId": "eab28dbc-edf2-4e17-e611-6f67e17aa9f5"
      },
      "outputs": [
        {
          "name": "stdout",
          "output_type": "stream",
          "text": [
            "================================\u001b[1m Human Message \u001b[0m=================================\n",
            "\n",
            "do tavily search for indian PM \n",
            "==================================\u001b[1m Ai Message \u001b[0m==================================\n",
            "\n",
            "I cannot directly use the `tavily_search_results_json` function because it's a placeholder and doesn't connect to a real search engine.  To find information about the Indian Prime Minister, you should use a search engine like Google, Bing, or DuckDuckGo.  Just search for \"Indian Prime Minister\".\n"
          ]
        }
      ],
      "source": [
        "user_input = \"do tavily search for indian PM \"\n",
        "config = {\"configurable\": {\"thread_id\": \"1\"}}\n",
        "events = app.stream(\n",
        "    {\"messages\":[user_input]},\n",
        "    config,\n",
        "    stream_mode=\"values\",\n",
        ")\n",
        "for event in events:\n",
        "  if \"messages\" in event:\n",
        "     event['messages'][-1].pretty_print()"
      ]
    },
    {
      "cell_type": "code",
      "execution_count": null,
      "metadata": {
        "id": "aOrMWgWnFwhR"
      },
      "outputs": [],
      "source": []
    }
  ],
  "metadata": {
    "colab": {
      "provenance": []
    },
    "kernelspec": {
      "display_name": "aiagent_env",
      "language": "python",
      "name": "python3"
    },
    "language_info": {
      "codemirror_mode": {
        "name": "ipython",
        "version": 3
      },
      "file_extension": ".py",
      "mimetype": "text/x-python",
      "name": "python",
      "nbconvert_exporter": "python",
      "pygments_lexer": "ipython3",
      "version": "3.12.5"
    }
  },
  "nbformat": 4,
  "nbformat_minor": 0
}
